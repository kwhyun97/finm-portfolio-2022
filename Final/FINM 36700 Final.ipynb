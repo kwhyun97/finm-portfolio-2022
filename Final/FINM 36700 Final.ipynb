{
 "cells": [
  {
   "cell_type": "markdown",
   "source": [
    "<left>FINM 36700 - Portfolio Theory and Risk Management</left>\n",
    "<br>\n",
    "<left>Fall 2022</left>\n",
    "\n",
    "<h2><center> Final Exam </center></h2>\n",
    "\n",
    "<center>Monday, December 5th 2022</center>\n",
    "\n",
    "<h3>Ki Hyun</h3>\n",
    "\n",
    "<h3>CNetID: kwhyun23</h3>"
   ],
   "metadata": {
    "collapsed": false
   }
  },
  {
   "cell_type": "markdown",
   "source": [
    "## 1. Short Answer Questions"
   ],
   "metadata": {
    "collapsed": false
   }
  },
  {
   "cell_type": "markdown",
   "source": [
    "### 1 - 1.\n",
    "\n",
    "Narrowly has a higher return when broadly has lower volatility.\n",
    "Yes, the data supported this conclusion\n",
    "\n",
    "### 1 - 2.\n",
    "\n",
    "LTCM focuses on long-term investment. Moreover, it anticipates the investor's higher demand for greater return in\n",
    "\"bad times\". Furthermore, due to the long-term horizon, the haircut that LTCM receives is extremely favorable.\n",
    "Therefore, the market exposure is non-linear.\n",
    "\n",
    "It means that LTCM has a higher upside. However, empirically, since the investment horizon is longer, you may also\n",
    "expect the downside to be larger.\n",
    "\n",
    "### 1 - 3.\n",
    "\n",
    "The Mean-Variance Optimization portfolio is extremely sensitive to estimation error\n",
    "\n",
    "### 1 - 4.\n",
    "\n",
    "- The sample size would be 22 $\\times$ 12 and the regression would be done 40 times for the time series\n",
    "- The sample size would be 40 and the regression would be done 22 $\\times$ 12 times\n",
    "\n",
    "### 1 - 5.\n",
    "\n",
    "GMO uses dividend yield estimates that investors were likely to require over the long run and the expected long-run\n",
    "dividend growth rate. They employed the \"Gordon Growth Model\", which posits that long-run required return on stocks was\n",
    "the sum of fair dividend yield, required by the investors and expected long-run dividend growth.\n",
    "\n",
    "Yes\n",
    "\n",
    "### 1 - 6.\n",
    "\n",
    "They group assets into classes and do a mean-variance analysis across the classes.\n",
    "This would be computationally easier and therefore could be implemented more easily.\n",
    "\n",
    "### 1 - 7.\n",
    "\n",
    "Longer the horizon, larger the volatility and the Sharpe ratio of an investor will continue to decrease\n",
    "\n",
    "### 1 - 8.\n",
    "\n",
    "UIP implies CIP since CIP only looks at the expected (or market implied) exchange rate in the future whereas UIP\n",
    "specifically looks at the spot rate in future time. However, CIP does not imply UIP\n",
    "\n",
    "### 1- 9.\n",
    "\n",
    "Managed funds returns are consistently beating the market\n",
    "Managed funds' realized returns may be different to average returns\n",
    "\n",
    "### 1 - 10.\n",
    "\n",
    "We would calculated the optimal ratio using the linear regression\n",
    "This ratio would then be used to replicate the portfolio and hedge for the losses."
   ],
   "metadata": {
    "collapsed": false
   }
  },
  {
   "cell_type": "markdown",
   "source": [
    "## Imports"
   ],
   "metadata": {
    "collapsed": false
   }
  },
  {
   "cell_type": "code",
   "execution_count": 1,
   "outputs": [],
   "source": [
    "import pandas as pd\n",
    "import numpy as np\n",
    "import seaborn as sns\n",
    "\n",
    "from scipy.stats import kurtosis, skew\n",
    "from scipy.stats import norm\n",
    "\n",
    "import statsmodels.api as sm\n",
    "from statsmodels.regression.rolling import RollingOLS\n",
    "\n",
    "from sklearn.linear_model import LinearRegression\n",
    "from sklearn.ensemble import RandomForestRegressor\n",
    "from sklearn.linear_model import LinearRegression\n",
    "from sklearn import tree\n",
    "from sklearn.neural_network import MLPRegressor\n",
    "\n",
    "from arch import arch_model\n",
    "from arch.univariate import GARCH, EWMAVariance\n",
    "\n",
    "import warnings\n",
    "warnings.filterwarnings(\"ignore\")\n",
    "\n",
    "%matplotlib inline\n",
    "\n",
    "import matplotlib.pyplot as plt"
   ],
   "metadata": {
    "collapsed": false
   }
  },
  {
   "cell_type": "markdown",
   "source": [
    "## Helper Functions"
   ],
   "metadata": {
    "collapsed": false
   },
   "execution_count": 0
  },
  {
   "cell_type": "code",
   "execution_count": 2,
   "outputs": [],
   "source": [
    "from Portfolio_Helper_Functions import *"
   ],
   "metadata": {
    "collapsed": false
   }
  },
  {
   "cell_type": "markdown",
   "source": [
    "## Data"
   ],
   "metadata": {
    "collapsed": false
   }
  },
  {
   "cell_type": "code",
   "execution_count": 3,
   "outputs": [],
   "source": [
    "# Setting the file and sheet names\n",
    "filename = \"../data/final_exam_data.xlsx\"\n",
    "futures_sheet = \"futures (excess returns)\"\n",
    "factors_sheet = \"factors (excess returns)\"\n",
    "GLD_sheet = \"forecasting (weekly)\"\n",
    "FX_sheet = \"fx (daily)\""
   ],
   "metadata": {
    "collapsed": false
   }
  },
  {
   "cell_type": "code",
   "execution_count": 4,
   "outputs": [],
   "source": [
    "# reading the futures data\n",
    "futures = pd.read_excel(filename, sheet_name = futures_sheet, index_col = 'Date')"
   ],
   "metadata": {
    "collapsed": false
   }
  },
  {
   "cell_type": "code",
   "execution_count": 5,
   "outputs": [],
   "source": [
    "# reading the factors data\n",
    "factors = pd.read_excel(filename, sheet_name = factors_sheet, index_col = 'Date')"
   ],
   "metadata": {
    "collapsed": false
   }
  },
  {
   "cell_type": "code",
   "execution_count": 6,
   "outputs": [],
   "source": [
    "# reading the GLD return data with interest rate signals\n",
    "GLD = pd.read_excel(filename, sheet_name = GLD_sheet, index_col = 'Date')"
   ],
   "metadata": {
    "collapsed": false
   }
  },
  {
   "cell_type": "code",
   "execution_count": 7,
   "outputs": [],
   "source": [
    "# reading FX on GBP data\n",
    "FX = pd.read_excel(filename, sheet_name = FX_sheet).rename(columns = {'DATE': 'Date'}).set_index('Date')"
   ],
   "metadata": {
    "collapsed": false
   }
  },
  {
   "cell_type": "markdown",
   "source": [
    "## 2. Value at Risk"
   ],
   "metadata": {
    "collapsed": false
   }
  },
  {
   "cell_type": "markdown",
   "source": [
    "### 2 - 1. 5th Percentile VaR and CVaR for GLD using empirical CDF"
   ],
   "metadata": {
    "collapsed": false
   }
  },
  {
   "cell_type": "code",
   "execution_count": 8,
   "outputs": [
    {
     "data": {
      "text/plain": "'Using empirical CDF, the 5th Percentile VaR is -0.03332 and the CVaR is -0.04712'"
     },
     "execution_count": 8,
     "metadata": {},
     "output_type": "execute_result"
    }
   ],
   "source": [
    "GLD_ret = GLD['GLD']\n",
    "# getting the empirical 0.05 VaR\n",
    "EVaR = GLD_ret.quantile(0.05)\n",
    "ECVaR = GLD_ret[GLD_ret < EVaR].mean()\n",
    "template = \"Using empirical CDF, the 5th Percentile VaR is {} and the CVaR is {}\"\n",
    "template.format(EVaR.round(5), ECVaR.round(5))"
   ],
   "metadata": {
    "collapsed": false
   }
  },
  {
   "cell_type": "markdown",
   "source": [
    "### 2 - 2. 5th Percentile VaR for GLD using normal approximation"
   ],
   "metadata": {
    "collapsed": false
   }
  },
  {
   "cell_type": "markdown",
   "source": [
    "#### 2 - 2 - 1. Full Sample Volatility"
   ],
   "metadata": {
    "collapsed": false
   }
  },
  {
   "cell_type": "code",
   "execution_count": 9,
   "outputs": [
    {
     "data": {
      "text/plain": "0.010980367862847203"
     },
     "execution_count": 9,
     "metadata": {},
     "output_type": "execute_result"
    }
   ],
   "source": [
    "# setting the full sample to estimate volatility\n",
    "vol = GLD_ret.std()\n",
    "norm.cdf(0.05) * vol"
   ],
   "metadata": {
    "collapsed": false
   }
  },
  {
   "cell_type": "markdown",
   "source": [
    "#### 2 - 2 - 2. Rolling 150-week window for Volatility"
   ],
   "metadata": {
    "collapsed": false
   }
  },
  {
   "cell_type": "code",
   "execution_count": 10,
   "outputs": [
    {
     "data": {
      "text/plain": "0.012009625702859007"
     },
     "execution_count": 10,
     "metadata": {},
     "output_type": "execute_result"
    }
   ],
   "source": [
    "# setting the 150-week window Volatility\n",
    "vol = GLD_ret.loc['2020-01-26':,].std()\n",
    "norm.cdf(0.05) * vol"
   ],
   "metadata": {
    "collapsed": false
   }
  },
  {
   "cell_type": "markdown",
   "source": [
    "### 2 - 3.\n",
    "\n",
    "The normal approximation with rolling window for volatility performed best.\n",
    "We judge based on actual data and violation rate"
   ],
   "metadata": {
    "collapsed": false
   }
  },
  {
   "cell_type": "markdown",
   "source": [
    "## 3. Pricing Models"
   ],
   "metadata": {
    "collapsed": false
   }
  },
  {
   "cell_type": "markdown",
   "source": [
    "### 3 - 1. Time series test"
   ],
   "metadata": {
    "collapsed": false
   }
  },
  {
   "cell_type": "markdown",
   "source": [
    "#### 3 - 1 - a. Summary Statistics of Model"
   ],
   "metadata": {
    "collapsed": false
   }
  },
  {
   "cell_type": "code",
   "execution_count": 11,
   "outputs": [
    {
     "data": {
      "text/plain": "                    NG1       KC1       CC1       LB1       CT1       SB1  \\\nMarket Beta    0.354111  0.315122  0.207322  0.942075  0.504249  0.057967   \nMomentum Beta  0.381230 -0.027467 -0.035816 -0.004789 -0.178597 -0.319205   \nAlpha          0.009330  0.001933  0.005899  0.005373  0.002076  0.007761   \nR-Squared      0.017306  0.025887  0.012031  0.136850  0.099020  0.032730   \n\n                    LC1        W1        S1        C1       GC1       SI1  \\\nMarket Beta    0.183059  0.298899  0.399481  0.340399  0.131624  0.511838   \nMomentum Beta  0.066096  0.022426  0.027260  0.062038  0.148689  0.144376   \nAlpha          0.001285  0.004544  0.003545  0.005073  0.005874  0.005462   \nR-Squared      0.020046  0.021333  0.052917  0.028248  0.027364  0.058439   \n\n                    HG1       PA1  \nMarket Beta    0.690631  0.664541  \nMomentum Beta -0.138838  0.173333  \nAlpha          0.003984  0.006599  \nR-Squared      0.214665  0.075625  ",
      "text/html": "<div>\n<style scoped>\n    .dataframe tbody tr th:only-of-type {\n        vertical-align: middle;\n    }\n\n    .dataframe tbody tr th {\n        vertical-align: top;\n    }\n\n    .dataframe thead th {\n        text-align: right;\n    }\n</style>\n<table border=\"1\" class=\"dataframe\">\n  <thead>\n    <tr style=\"text-align: right;\">\n      <th></th>\n      <th>NG1</th>\n      <th>KC1</th>\n      <th>CC1</th>\n      <th>LB1</th>\n      <th>CT1</th>\n      <th>SB1</th>\n      <th>LC1</th>\n      <th>W1</th>\n      <th>S1</th>\n      <th>C1</th>\n      <th>GC1</th>\n      <th>SI1</th>\n      <th>HG1</th>\n      <th>PA1</th>\n    </tr>\n  </thead>\n  <tbody>\n    <tr>\n      <th>Market Beta</th>\n      <td>0.354111</td>\n      <td>0.315122</td>\n      <td>0.207322</td>\n      <td>0.942075</td>\n      <td>0.504249</td>\n      <td>0.057967</td>\n      <td>0.183059</td>\n      <td>0.298899</td>\n      <td>0.399481</td>\n      <td>0.340399</td>\n      <td>0.131624</td>\n      <td>0.511838</td>\n      <td>0.690631</td>\n      <td>0.664541</td>\n    </tr>\n    <tr>\n      <th>Momentum Beta</th>\n      <td>0.381230</td>\n      <td>-0.027467</td>\n      <td>-0.035816</td>\n      <td>-0.004789</td>\n      <td>-0.178597</td>\n      <td>-0.319205</td>\n      <td>0.066096</td>\n      <td>0.022426</td>\n      <td>0.027260</td>\n      <td>0.062038</td>\n      <td>0.148689</td>\n      <td>0.144376</td>\n      <td>-0.138838</td>\n      <td>0.173333</td>\n    </tr>\n    <tr>\n      <th>Alpha</th>\n      <td>0.009330</td>\n      <td>0.001933</td>\n      <td>0.005899</td>\n      <td>0.005373</td>\n      <td>0.002076</td>\n      <td>0.007761</td>\n      <td>0.001285</td>\n      <td>0.004544</td>\n      <td>0.003545</td>\n      <td>0.005073</td>\n      <td>0.005874</td>\n      <td>0.005462</td>\n      <td>0.003984</td>\n      <td>0.006599</td>\n    </tr>\n    <tr>\n      <th>R-Squared</th>\n      <td>0.017306</td>\n      <td>0.025887</td>\n      <td>0.012031</td>\n      <td>0.136850</td>\n      <td>0.099020</td>\n      <td>0.032730</td>\n      <td>0.020046</td>\n      <td>0.021333</td>\n      <td>0.052917</td>\n      <td>0.028248</td>\n      <td>0.027364</td>\n      <td>0.058439</td>\n      <td>0.214665</td>\n      <td>0.075625</td>\n    </tr>\n  </tbody>\n</table>\n</div>"
     },
     "execution_count": 11,
     "metadata": {},
     "output_type": "execute_result"
    }
   ],
   "source": [
    "portfolios = futures.columns\n",
    "df_lst_q3= []\n",
    "for port in portfolios:\n",
    "    futures_ret = futures[port]\n",
    "    reg = regression_based_performance(factors,futures_ret,0)\n",
    "    beta_mkt = reg[0][0]\n",
    "    beta_umd = reg[0][1]\n",
    "    alpha = reg[3]\n",
    "    r_squared = reg[4]\n",
    "    df_lst_q3.append(pd.DataFrame([[beta_mkt,beta_umd,alpha,r_squared]],\n",
    "                                   columns=['Market Beta', 'Momentum Beta', 'Alpha','R-Squared'],\n",
    "                                   index = [port]))\n",
    "\n",
    "reg_performance_q3 = pd.concat(df_lst_q3)\n",
    "reg_performance_q3.T"
   ],
   "metadata": {
    "collapsed": false
   }
  },
  {
   "cell_type": "code",
   "execution_count": 12,
   "outputs": [
    {
     "data": {
      "text/plain": "             Mean Absolute Error\nTime Series              0.00491",
      "text/html": "<div>\n<style scoped>\n    .dataframe tbody tr th:only-of-type {\n        vertical-align: middle;\n    }\n\n    .dataframe tbody tr th {\n        vertical-align: top;\n    }\n\n    .dataframe thead th {\n        text-align: right;\n    }\n</style>\n<table border=\"1\" class=\"dataframe\">\n  <thead>\n    <tr style=\"text-align: right;\">\n      <th></th>\n      <th>Mean Absolute Error</th>\n    </tr>\n  </thead>\n  <tbody>\n    <tr>\n      <th>Time Series</th>\n      <td>0.00491</td>\n    </tr>\n  </tbody>\n</table>\n</div>"
     },
     "execution_count": 12,
     "metadata": {},
     "output_type": "execute_result"
    }
   ],
   "source": [
    "n = futures.shape[1]\n",
    "alpha_sum = abs(reg_performance_q3['Alpha']).sum()\n",
    "mae_q3 = alpha_sum/n\n",
    "pd.DataFrame([[mae_q3]],columns=['Mean Absolute Error'],\n",
    "             index = ['Time Series'])"
   ],
   "metadata": {
    "collapsed": false
   }
  },
  {
   "cell_type": "code",
   "execution_count": 13,
   "outputs": [
    {
     "data": {
      "text/plain": "             Average R-Squared \nTime Series            0.058747",
      "text/html": "<div>\n<style scoped>\n    .dataframe tbody tr th:only-of-type {\n        vertical-align: middle;\n    }\n\n    .dataframe tbody tr th {\n        vertical-align: top;\n    }\n\n    .dataframe thead th {\n        text-align: right;\n    }\n</style>\n<table border=\"1\" class=\"dataframe\">\n  <thead>\n    <tr style=\"text-align: right;\">\n      <th></th>\n      <th>Average R-Squared</th>\n    </tr>\n  </thead>\n  <tbody>\n    <tr>\n      <th>Time Series</th>\n      <td>0.058747</td>\n    </tr>\n  </tbody>\n</table>\n</div>"
     },
     "execution_count": 13,
     "metadata": {},
     "output_type": "execute_result"
    }
   ],
   "source": [
    "rsquared_avg_q3 = abs(reg_performance_q3['R-Squared']).mean()\n",
    "pd.DataFrame([[rsquared_avg_q3]],columns=['Average R-Squared '],\n",
    "             index = ['Time Series'])"
   ],
   "metadata": {
    "collapsed": false
   }
  },
  {
   "cell_type": "markdown",
   "source": [
    "#### 3 - 1 - b.\n",
    "\n",
    "If the pricing model worked perfectly, we would expect a low MAE value, since we expect the $\\alpha$ to be close to 0.\n",
    "We would also expect a very high (close to 1) $R^2$ value."
   ],
   "metadata": {
    "collapsed": false
   }
  },
  {
   "cell_type": "markdown",
   "source": [
    "### 3 - 2. Cross-sectional test"
   ],
   "metadata": {
    "collapsed": false
   }
  },
  {
   "cell_type": "markdown",
   "source": [
    "#### 3 - 2 - a. Summary Statistics of Model"
   ],
   "metadata": {
    "collapsed": false
   }
  },
  {
   "cell_type": "code",
   "execution_count": 14,
   "outputs": [
    {
     "data": {
      "text/plain": "                 Annualized Intercept  R-Squared  Annualized MAE\nCross-sectional              0.005093   0.391371          0.0013",
      "text/html": "<div>\n<style scoped>\n    .dataframe tbody tr th:only-of-type {\n        vertical-align: middle;\n    }\n\n    .dataframe tbody tr th {\n        vertical-align: top;\n    }\n\n    .dataframe thead th {\n        text-align: right;\n    }\n</style>\n<table border=\"1\" class=\"dataframe\">\n  <thead>\n    <tr style=\"text-align: right;\">\n      <th></th>\n      <th>Annualized Intercept</th>\n      <th>R-Squared</th>\n      <th>Annualized MAE</th>\n    </tr>\n  </thead>\n  <tbody>\n    <tr>\n      <th>Cross-sectional</th>\n      <td>0.005093</td>\n      <td>0.391371</td>\n      <td>0.0013</td>\n    </tr>\n  </tbody>\n</table>\n</div>"
     },
     "execution_count": 14,
     "metadata": {},
     "output_type": "execute_result"
    }
   ],
   "source": [
    "y = futures.mean()\n",
    "X = reg_performance_q3.loc[:,['Market Beta', 'Momentum Beta']]\n",
    "CS_q3 = regression_based_performance(X, y, 0)\n",
    "resid_cs = sm.OLS(y,X).fit().resid\n",
    "pd.DataFrame([[CS_q3[3],CS_q3[4], resid_cs.mean()]],\n",
    "             columns=['Annualized Intercept','R-Squared', 'Annualized MAE'],\n",
    "             index = ['Cross-sectional'])"
   ],
   "metadata": {
    "collapsed": false
   }
  },
  {
   "cell_type": "code",
   "execution_count": 15,
   "outputs": [
    {
     "data": {
      "text/plain": "     Annualized Factor Premia\nMKT                  0.005165\nUMD                  0.006125",
      "text/html": "<div>\n<style scoped>\n    .dataframe tbody tr th:only-of-type {\n        vertical-align: middle;\n    }\n\n    .dataframe tbody tr th {\n        vertical-align: top;\n    }\n\n    .dataframe thead th {\n        text-align: right;\n    }\n</style>\n<table border=\"1\" class=\"dataframe\">\n  <thead>\n    <tr style=\"text-align: right;\">\n      <th></th>\n      <th>Annualized Factor Premia</th>\n    </tr>\n  </thead>\n  <tbody>\n    <tr>\n      <th>MKT</th>\n      <td>0.005165</td>\n    </tr>\n    <tr>\n      <th>UMD</th>\n      <td>0.006125</td>\n    </tr>\n  </tbody>\n</table>\n</div>"
     },
     "execution_count": 15,
     "metadata": {},
     "output_type": "execute_result"
    }
   ],
   "source": [
    "pd.DataFrame([CS_q3[0][0], CS_q3[0][1]],\n",
    "             columns = ['Annualized Factor Premia'],\n",
    "             index = ['MKT', 'UMD'])"
   ],
   "metadata": {
    "collapsed": false
   }
  },
  {
   "cell_type": "markdown",
   "source": [
    "#### 3 - 2 - b.\n",
    "\n",
    "If the pricing model worked perfectly we would expect the annualized intercept to be precisely 0.\n",
    "Moreover, we would expect the $R^2$ value to be 1 and the annualized MAE to be 0."
   ],
   "metadata": {
    "collapsed": false
   }
  },
  {
   "cell_type": "markdown",
   "source": [
    "### 3 - 3. Compare the factor premia"
   ],
   "metadata": {
    "collapsed": false
   }
  },
  {
   "cell_type": "code",
   "execution_count": 16,
   "outputs": [
    {
     "data": {
      "text/plain": "     Time Series  Cross-sectional\nMKT     0.070633         0.005165\nUMD     0.018405         0.006125",
      "text/html": "<div>\n<style scoped>\n    .dataframe tbody tr th:only-of-type {\n        vertical-align: middle;\n    }\n\n    .dataframe tbody tr th {\n        vertical-align: top;\n    }\n\n    .dataframe thead th {\n        text-align: right;\n    }\n</style>\n<table border=\"1\" class=\"dataframe\">\n  <thead>\n    <tr style=\"text-align: right;\">\n      <th></th>\n      <th>Time Series</th>\n      <th>Cross-sectional</th>\n    </tr>\n  </thead>\n  <tbody>\n    <tr>\n      <th>MKT</th>\n      <td>0.070633</td>\n      <td>0.005165</td>\n    </tr>\n    <tr>\n      <th>UMD</th>\n      <td>0.018405</td>\n      <td>0.006125</td>\n    </tr>\n  </tbody>\n</table>\n</div>"
     },
     "execution_count": 16,
     "metadata": {},
     "output_type": "execute_result"
    }
   ],
   "source": [
    "ts_premia = factors.mean().apply(lambda x: x*12)\n",
    "cs_premia = CS_q3[0]\n",
    "pd.DataFrame([[ts_premia[0], cs_premia[0]], [ts_premia[1], cs_premia[1]]],\n",
    "             columns = ['Time Series', 'Cross-sectional'],\n",
    "             index = ['MKT', 'UMD'])"
   ],
   "metadata": {
    "collapsed": false
   }
  },
  {
   "cell_type": "markdown",
   "source": [
    "## 4. Forecasting"
   ],
   "metadata": {
    "collapsed": false
   }
  },
  {
   "cell_type": "code",
   "execution_count": 17,
   "outputs": [
    {
     "data": {
      "text/plain": "                 GLD  Tbill rate  Tbill change\nDate                                          \n2009-04-19 -0.012629       0.130        -0.045\n2009-04-26  0.052805       0.095        -0.035\n2009-05-03 -0.030874       0.145         0.050\n2009-05-10  0.034848       0.165         0.020\n2009-05-17  0.017448       0.155        -0.010",
      "text/html": "<div>\n<style scoped>\n    .dataframe tbody tr th:only-of-type {\n        vertical-align: middle;\n    }\n\n    .dataframe tbody tr th {\n        vertical-align: top;\n    }\n\n    .dataframe thead th {\n        text-align: right;\n    }\n</style>\n<table border=\"1\" class=\"dataframe\">\n  <thead>\n    <tr style=\"text-align: right;\">\n      <th></th>\n      <th>GLD</th>\n      <th>Tbill rate</th>\n      <th>Tbill change</th>\n    </tr>\n    <tr>\n      <th>Date</th>\n      <th></th>\n      <th></th>\n      <th></th>\n    </tr>\n  </thead>\n  <tbody>\n    <tr>\n      <th>2009-04-19</th>\n      <td>-0.012629</td>\n      <td>0.130</td>\n      <td>-0.045</td>\n    </tr>\n    <tr>\n      <th>2009-04-26</th>\n      <td>0.052805</td>\n      <td>0.095</td>\n      <td>-0.035</td>\n    </tr>\n    <tr>\n      <th>2009-05-03</th>\n      <td>-0.030874</td>\n      <td>0.145</td>\n      <td>0.050</td>\n    </tr>\n    <tr>\n      <th>2009-05-10</th>\n      <td>0.034848</td>\n      <td>0.165</td>\n      <td>0.020</td>\n    </tr>\n    <tr>\n      <th>2009-05-17</th>\n      <td>0.017448</td>\n      <td>0.155</td>\n      <td>-0.010</td>\n    </tr>\n  </tbody>\n</table>\n</div>"
     },
     "execution_count": 17,
     "metadata": {},
     "output_type": "execute_result"
    }
   ],
   "source": [
    "# looking at the data\n",
    "GLD.head()"
   ],
   "metadata": {
    "collapsed": false
   }
  },
  {
   "cell_type": "markdown",
   "source": [
    "### 4 - 1. Lagged Regression using signal"
   ],
   "metadata": {
    "collapsed": false
   }
  },
  {
   "cell_type": "code",
   "execution_count": 18,
   "outputs": [],
   "source": [
    "X = GLD.shift(1).dropna().loc[:,['Tbill rate', 'Tbill change']]\n",
    "X = sm.tools.add_constant(X)\n",
    "GLD_ret = GLD[1:].loc[:, ['GLD']]\n",
    "\n",
    "signal_model = sm.OLS(GLD_ret, X).fit()"
   ],
   "metadata": {
    "collapsed": false
   }
  },
  {
   "cell_type": "code",
   "execution_count": 19,
   "outputs": [
    {
     "data": {
      "text/plain": "                               OLS Result\n$\\alpha$                         0.000993\n$\\beta_{\\text{Tbill rate}}$      0.000250\n$\\beta_{\\text{Tbill change}}$    0.000456\n$R^2$                            0.000107",
      "text/html": "<div>\n<style scoped>\n    .dataframe tbody tr th:only-of-type {\n        vertical-align: middle;\n    }\n\n    .dataframe tbody tr th {\n        vertical-align: top;\n    }\n\n    .dataframe thead th {\n        text-align: right;\n    }\n</style>\n<table border=\"1\" class=\"dataframe\">\n  <thead>\n    <tr style=\"text-align: right;\">\n      <th></th>\n      <th>OLS Result</th>\n    </tr>\n  </thead>\n  <tbody>\n    <tr>\n      <th>$\\alpha$</th>\n      <td>0.000993</td>\n    </tr>\n    <tr>\n      <th>$\\beta_{\\text{Tbill rate}}$</th>\n      <td>0.000250</td>\n    </tr>\n    <tr>\n      <th>$\\beta_{\\text{Tbill change}}$</th>\n      <td>0.000456</td>\n    </tr>\n    <tr>\n      <th>$R^2$</th>\n      <td>0.000107</td>\n    </tr>\n  </tbody>\n</table>\n</div>"
     },
     "execution_count": 19,
     "metadata": {},
     "output_type": "execute_result"
    }
   ],
   "source": [
    "pd.DataFrame([signal_model.params[0], signal_model.params[1], signal_model.params[2], signal_model.rsquared],\n",
    "             columns = ['OLS Result'],\n",
    "             index = [r'$\\alpha$', r'$\\beta_{\\text{Tbill rate}}$', r'$\\beta_{\\text{Tbill change}}$', r'$R^2$'])"
   ],
   "metadata": {
    "collapsed": false
   }
  },
  {
   "cell_type": "markdown",
   "source": [
    "### 4 - 2. Trading weight strategy"
   ],
   "metadata": {
    "collapsed": false
   }
  },
  {
   "cell_type": "code",
   "execution_count": 20,
   "outputs": [],
   "source": [
    "# building the trading weight based on strategy\n",
    "GLD['GLD_pred'] = signal_model.params[0] + \\\n",
    "                  signal_model.params[1] * GLD['Tbill rate'] + \\\n",
    "                  signal_model.params[2] * GLD['Tbill change']\n",
    "GLD['weight'] = 0.2 + GLD['GLD_pred'] * 80\n",
    "GLD[r'$r^X$'] = GLD['weight'].shift(1) * GLD['GLD']"
   ],
   "metadata": {
    "collapsed": false
   }
  },
  {
   "cell_type": "code",
   "execution_count": 21,
   "outputs": [
    {
     "data": {
      "text/plain": "Date\n2009-04-26    0.014805\n2009-05-03   -0.008646\n2009-05-10    0.009901\n2009-05-17    0.004946\n2009-05-24    0.008013\nName: $r^X$, dtype: float64"
     },
     "execution_count": 21,
     "metadata": {},
     "output_type": "execute_result"
    }
   ],
   "source": [
    "GLD[r'$r^X$'].dropna().iloc[0:5, ]"
   ],
   "metadata": {
    "collapsed": false
   }
  },
  {
   "cell_type": "code",
   "execution_count": 22,
   "outputs": [
    {
     "data": {
      "text/plain": "Date\n2022-11-06    0.007823\n2022-11-13    0.018681\n2022-11-20   -0.003900\n2022-11-27    0.000964\n2022-12-04   -0.001094\nName: $r^X$, dtype: float64"
     },
     "execution_count": 22,
     "metadata": {},
     "output_type": "execute_result"
    }
   ],
   "source": [
    "GLD[r'$r^X$'].dropna().iloc[-5:, ]"
   ],
   "metadata": {
    "collapsed": false
   }
  },
  {
   "cell_type": "markdown",
   "source": [
    "### 4 - 3. Summary Stats"
   ],
   "metadata": {
    "collapsed": false
   }
  },
  {
   "cell_type": "code",
   "execution_count": 23,
   "outputs": [
    {
     "data": {
      "text/plain": "       Annualized Return  Annualized Volatility  Annualized Sharpe Ratio  \\\n$r^X$           0.004001               0.020932                 0.191134   \n\n       Max Drawdown  \n$r^X$     -0.142573  ",
      "text/html": "<div>\n<style scoped>\n    .dataframe tbody tr th:only-of-type {\n        vertical-align: middle;\n    }\n\n    .dataframe tbody tr th {\n        vertical-align: top;\n    }\n\n    .dataframe thead th {\n        text-align: right;\n    }\n</style>\n<table border=\"1\" class=\"dataframe\">\n  <thead>\n    <tr style=\"text-align: right;\">\n      <th></th>\n      <th>Annualized Return</th>\n      <th>Annualized Volatility</th>\n      <th>Annualized Sharpe Ratio</th>\n      <th>Max Drawdown</th>\n    </tr>\n  </thead>\n  <tbody>\n    <tr>\n      <th>$r^X$</th>\n      <td>0.004001</td>\n      <td>0.020932</td>\n      <td>0.191134</td>\n      <td>-0.142573</td>\n    </tr>\n  </tbody>\n</table>\n</div>"
     },
     "execution_count": 23,
     "metadata": {},
     "output_type": "execute_result"
    }
   ],
   "source": [
    "performance_summary(pd.DataFrame(GLD.loc[::, r'$r^X$']))[['Annualized Return', 'Annualized Volatility',\n",
    "                                                          'Annualized Sharpe Ratio', 'Max Drawdown']]"
   ],
   "metadata": {
    "collapsed": false
   }
  },
  {
   "cell_type": "code",
   "execution_count": 24,
   "outputs": [
    {
     "data": {
      "text/plain": "     Annualized Return  Annualized Volatility  Annualized Sharpe Ratio  \\\nGLD           0.013374               0.073157                  0.18281   \n\n     Max Drawdown  \nGLD     -0.447446  ",
      "text/html": "<div>\n<style scoped>\n    .dataframe tbody tr th:only-of-type {\n        vertical-align: middle;\n    }\n\n    .dataframe tbody tr th {\n        vertical-align: top;\n    }\n\n    .dataframe thead th {\n        text-align: right;\n    }\n</style>\n<table border=\"1\" class=\"dataframe\">\n  <thead>\n    <tr style=\"text-align: right;\">\n      <th></th>\n      <th>Annualized Return</th>\n      <th>Annualized Volatility</th>\n      <th>Annualized Sharpe Ratio</th>\n      <th>Max Drawdown</th>\n    </tr>\n  </thead>\n  <tbody>\n    <tr>\n      <th>GLD</th>\n      <td>0.013374</td>\n      <td>0.073157</td>\n      <td>0.18281</td>\n      <td>-0.447446</td>\n    </tr>\n  </tbody>\n</table>\n</div>"
     },
     "execution_count": 24,
     "metadata": {},
     "output_type": "execute_result"
    }
   ],
   "source": [
    "performance_summary(pd.DataFrame(GLD.loc[::, 'GLD']))[['Annualized Return', 'Annualized Volatility',\n",
    "                                                          'Annualized Sharpe Ratio', 'Max Drawdown']]"
   ],
   "metadata": {
    "collapsed": false
   }
  },
  {
   "cell_type": "markdown",
   "source": [
    "### 4 - 4. LFD"
   ],
   "metadata": {
    "collapsed": false
   }
  },
  {
   "cell_type": "code",
   "execution_count": 25,
   "outputs": [
    {
     "data": {
      "text/plain": "                   LFD Result\nMarket Alpha         0.000010\nMarket Beta          0.285599\nInformation ratio    0.102559",
      "text/html": "<div>\n<style scoped>\n    .dataframe tbody tr th:only-of-type {\n        vertical-align: middle;\n    }\n\n    .dataframe tbody tr th {\n        vertical-align: top;\n    }\n\n    .dataframe thead th {\n        text-align: right;\n    }\n</style>\n<table border=\"1\" class=\"dataframe\">\n  <thead>\n    <tr style=\"text-align: right;\">\n      <th></th>\n      <th>LFD Result</th>\n    </tr>\n  </thead>\n  <tbody>\n    <tr>\n      <th>Market Alpha</th>\n      <td>0.000010</td>\n    </tr>\n    <tr>\n      <th>Market Beta</th>\n      <td>0.285599</td>\n    </tr>\n    <tr>\n      <th>Information ratio</th>\n      <td>0.102559</td>\n    </tr>\n  </tbody>\n</table>\n</div>"
     },
     "execution_count": 25,
     "metadata": {},
     "output_type": "execute_result"
    }
   ],
   "source": [
    "GLD_factor = pd.DataFrame(GLD.loc['2009-04-26':, 'GLD'])\n",
    "GLD_X = pd.DataFrame(GLD.loc[::, r'$r^X$']).dropna()\n",
    "Q4_LFD = regression_based_performance(GLD_factor, GLD_X, 0)\n",
    "pd.DataFrame([Q4_LFD[3], Q4_LFD[0][0], Q4_LFD[2]],\n",
    "             columns = ['LFD Result'],\n",
    "             index = ['Market Alpha', 'Market Beta', 'Information ratio'])"
   ],
   "metadata": {
    "collapsed": false
   }
  },
  {
   "cell_type": "markdown",
   "source": [
    "### 4 - 5.\n",
    "\n",
    "Tbill rate.\n",
    "Tbill rate has a lower $\\beta$\n"
   ],
   "metadata": {
    "collapsed": false
   }
  },
  {
   "cell_type": "markdown",
   "source": [
    "### 4 - 6. OOS performace"
   ],
   "metadata": {
    "collapsed": false
   }
  },
  {
   "cell_type": "code",
   "execution_count": 25,
   "outputs": [],
   "source": [],
   "metadata": {
    "collapsed": false
   }
  },
  {
   "cell_type": "markdown",
   "source": [
    "### 4 - 7."
   ],
   "metadata": {
    "collapsed": false
   }
  },
  {
   "cell_type": "code",
   "execution_count": 25,
   "outputs": [],
   "source": [],
   "metadata": {
    "collapsed": false
   }
  },
  {
   "cell_type": "markdown",
   "source": [
    "### 4 - 8."
   ],
   "metadata": {
    "collapsed": false
   }
  },
  {
   "cell_type": "code",
   "execution_count": 25,
   "outputs": [],
   "source": [],
   "metadata": {
    "collapsed": false
   }
  },
  {
   "cell_type": "markdown",
   "source": [
    "### 4 - 9."
   ],
   "metadata": {
    "collapsed": false
   }
  },
  {
   "cell_type": "code",
   "execution_count": 25,
   "outputs": [],
   "source": [],
   "metadata": {
    "collapsed": false
   }
  },
  {
   "cell_type": "markdown",
   "source": [
    "## 5. FX Carry"
   ],
   "metadata": {
    "collapsed": false
   }
  },
  {
   "cell_type": "markdown",
   "source": [
    "### 5 - 1."
   ],
   "metadata": {
    "collapsed": false
   }
  },
  {
   "cell_type": "code",
   "execution_count": 26,
   "outputs": [
    {
     "data": {
      "text/plain": "               GBP    SOFR     SONIA   log_GBP  log_SOFR  log_SONIA\nDate                                                               \n2018-04-03  1.4068  0.0183  0.004652  0.341318  0.018135   0.004641\n2018-04-04  1.4076  0.0174  0.004624  0.341886  0.017250   0.004613\n2018-04-05  1.3991  0.0175  0.004653  0.335829  0.017349   0.004642\n2018-04-06  1.4088  0.0175  0.004666  0.342738  0.017349   0.004655\n2018-04-09  1.4136  0.0175  0.004651  0.346140  0.017349   0.004640",
      "text/html": "<div>\n<style scoped>\n    .dataframe tbody tr th:only-of-type {\n        vertical-align: middle;\n    }\n\n    .dataframe tbody tr th {\n        vertical-align: top;\n    }\n\n    .dataframe thead th {\n        text-align: right;\n    }\n</style>\n<table border=\"1\" class=\"dataframe\">\n  <thead>\n    <tr style=\"text-align: right;\">\n      <th></th>\n      <th>GBP</th>\n      <th>SOFR</th>\n      <th>SONIA</th>\n      <th>log_GBP</th>\n      <th>log_SOFR</th>\n      <th>log_SONIA</th>\n    </tr>\n    <tr>\n      <th>Date</th>\n      <th></th>\n      <th></th>\n      <th></th>\n      <th></th>\n      <th></th>\n      <th></th>\n    </tr>\n  </thead>\n  <tbody>\n    <tr>\n      <th>2018-04-03</th>\n      <td>1.4068</td>\n      <td>0.0183</td>\n      <td>0.004652</td>\n      <td>0.341318</td>\n      <td>0.018135</td>\n      <td>0.004641</td>\n    </tr>\n    <tr>\n      <th>2018-04-04</th>\n      <td>1.4076</td>\n      <td>0.0174</td>\n      <td>0.004624</td>\n      <td>0.341886</td>\n      <td>0.017250</td>\n      <td>0.004613</td>\n    </tr>\n    <tr>\n      <th>2018-04-05</th>\n      <td>1.3991</td>\n      <td>0.0175</td>\n      <td>0.004653</td>\n      <td>0.335829</td>\n      <td>0.017349</td>\n      <td>0.004642</td>\n    </tr>\n    <tr>\n      <th>2018-04-06</th>\n      <td>1.4088</td>\n      <td>0.0175</td>\n      <td>0.004666</td>\n      <td>0.342738</td>\n      <td>0.017349</td>\n      <td>0.004655</td>\n    </tr>\n    <tr>\n      <th>2018-04-09</th>\n      <td>1.4136</td>\n      <td>0.0175</td>\n      <td>0.004651</td>\n      <td>0.346140</td>\n      <td>0.017349</td>\n      <td>0.004640</td>\n    </tr>\n  </tbody>\n</table>\n</div>"
     },
     "execution_count": 26,
     "metadata": {},
     "output_type": "execute_result"
    }
   ],
   "source": [
    "for col in FX.columns:\n",
    "    if col == \"GBP\":\n",
    "        FX[col] = FX[col]\n",
    "        FX['log_'+col] = np.log(FX[col])\n",
    "    else:\n",
    "        FX[col] = FX[col]\n",
    "        FX['log_'+col] = np.log(1+FX[col])\n",
    "\n",
    "FX.head()"
   ],
   "metadata": {
    "collapsed": false
   }
  },
  {
   "cell_type": "code",
   "execution_count": 27,
   "outputs": [
    {
     "data": {
      "text/plain": "0.26008074222970146"
     },
     "execution_count": 27,
     "metadata": {},
     "output_type": "execute_result"
    }
   ],
   "source": [
    "FX['log_GBP'].mean()"
   ],
   "metadata": {
    "collapsed": false
   }
  },
  {
   "cell_type": "code",
   "execution_count": 28,
   "outputs": [
    {
     "data": {
      "text/plain": "0.011354489235353989"
     },
     "execution_count": 28,
     "metadata": {},
     "output_type": "execute_result"
    }
   ],
   "source": [
    "FX['log_SOFR'].mean()"
   ],
   "metadata": {
    "collapsed": false
   }
  },
  {
   "cell_type": "code",
   "execution_count": 29,
   "outputs": [
    {
     "data": {
      "text/plain": "0.0053100837214078"
     },
     "execution_count": 29,
     "metadata": {},
     "output_type": "execute_result"
    }
   ],
   "source": [
    "FX['log_SONIA'].mean()"
   ],
   "metadata": {
    "collapsed": false
   }
  },
  {
   "cell_type": "markdown",
   "source": [
    "### 5 - 2.\n",
    "\n",
    "We would expect the return to GBP to be 0"
   ],
   "metadata": {
    "collapsed": false
   }
  },
  {
   "cell_type": "markdown",
   "source": [
    "### 5 - 3."
   ],
   "metadata": {
    "collapsed": false
   }
  },
  {
   "cell_type": "code",
   "execution_count": 30,
   "outputs": [
    {
     "data": {
      "text/plain": "   Annualized Return  Annualized Volatility       Min       Max\n0          -0.074109               0.032814 -0.045285  0.032196",
      "text/html": "<div>\n<style scoped>\n    .dataframe tbody tr th:only-of-type {\n        vertical-align: middle;\n    }\n\n    .dataframe tbody tr th {\n        vertical-align: top;\n    }\n\n    .dataframe thead th {\n        text-align: right;\n    }\n</style>\n<table border=\"1\" class=\"dataframe\">\n  <thead>\n    <tr style=\"text-align: right;\">\n      <th></th>\n      <th>Annualized Return</th>\n      <th>Annualized Volatility</th>\n      <th>Min</th>\n      <th>Max</th>\n    </tr>\n  </thead>\n  <tbody>\n    <tr>\n      <th>0</th>\n      <td>-0.074109</td>\n      <td>0.032814</td>\n      <td>-0.045285</td>\n      <td>0.032196</td>\n    </tr>\n  </tbody>\n</table>\n</div>"
     },
     "execution_count": 30,
     "metadata": {},
     "output_type": "execute_result"
    }
   ],
   "source": [
    "fx_hldg_excess_ret = FX['log_GBP'] - FX['log_GBP'].shift(1) + FX['log_SONIA'].shift(1) - FX['log_SOFR'].shift(1)\n",
    "\n",
    "fx_hldg_summary = performance_summary(fx_hldg_excess_ret.to_frame().dropna())\n",
    "\n",
    "fx_hldg_summary.loc[:,['Annualized Return','Annualized Volatility','Min','Max']]"
   ],
   "metadata": {
    "collapsed": false
   }
  },
  {
   "cell_type": "markdown",
   "source": [
    "### 5 - 4.\n",
    "The interest rate spread did not help. The mean is negative\n",
    "The USD must have appreciated relative to GBP over the time"
   ],
   "metadata": {
    "collapsed": false
   }
  },
  {
   "cell_type": "markdown",
   "source": [
    "### 5 - 5."
   ],
   "metadata": {
    "collapsed": false
   }
  },
  {
   "cell_type": "code",
   "execution_count": 31,
   "outputs": [
    {
     "data": {
      "text/plain": "0.5161"
     },
     "execution_count": 31,
     "metadata": {},
     "output_type": "execute_result"
    }
   ],
   "source": [
    "vol = fx_hldg_excess_ret.dropna().std()*np.sqrt(5*52)\n",
    "mu = fx_hldg_excess_ret.mean()\n",
    "norm.cdf((0 - mu)/vol).round(4)"
   ],
   "metadata": {
    "collapsed": false
   }
  },
  {
   "cell_type": "markdown",
   "source": [
    "### 5 - 6."
   ],
   "metadata": {
    "collapsed": false
   }
  },
  {
   "cell_type": "code",
   "execution_count": 32,
   "outputs": [
    {
     "data": {
      "text/plain": "          OLS Result\n$\\alpha$    0.000116\n$\\beta_$    0.002892\n$R^2$       0.000012",
      "text/html": "<div>\n<style scoped>\n    .dataframe tbody tr th:only-of-type {\n        vertical-align: middle;\n    }\n\n    .dataframe tbody tr th {\n        vertical-align: top;\n    }\n\n    .dataframe thead th {\n        text-align: right;\n    }\n</style>\n<table border=\"1\" class=\"dataframe\">\n  <thead>\n    <tr style=\"text-align: right;\">\n      <th></th>\n      <th>OLS Result</th>\n    </tr>\n  </thead>\n  <tbody>\n    <tr>\n      <th>$\\alpha$</th>\n      <td>0.000116</td>\n    </tr>\n    <tr>\n      <th>$\\beta_$</th>\n      <td>0.002892</td>\n    </tr>\n    <tr>\n      <th>$R^2$</th>\n      <td>0.000012</td>\n    </tr>\n  </tbody>\n</table>\n</div>"
     },
     "execution_count": 32,
     "metadata": {},
     "output_type": "execute_result"
    }
   ],
   "source": [
    "y = (FX['log_GBP'].shift(1) - FX['log_GBP']).dropna()\n",
    "X = (FX['log_SOFR'] - FX['log_SONIA']).loc['2018-04-04':,]\n",
    "q5_model = regression_based_performance(X, y, 0)\n",
    "pd.DataFrame([q5_model[3], q5_model[0][0], q5_model[4]],\n",
    "             columns = ['OLS Result'],\n",
    "             index = [r'$\\alpha$', r'$\\beta_$', r'$R^2$'])"
   ],
   "metadata": {
    "collapsed": false
   }
  },
  {
   "cell_type": "markdown",
   "source": [
    "### 5 - 7.\n",
    "\n",
    "If UIP holds, we would expect the true estimates of the parameters to be 0"
   ],
   "metadata": {
    "collapsed": false
   }
  },
  {
   "cell_type": "markdown",
   "source": [
    "### 5 - 8.\n",
    "\n",
    "Since the sign of $\\beta$ is positive, we would expect USD to get weaker"
   ],
   "metadata": {
    "collapsed": false
   }
  },
  {
   "cell_type": "markdown",
   "source": [
    "### 5 - 9.\n",
    "\n",
    "No we would expect the forward exchange rate to be lower than the spot exchange rate"
   ],
   "metadata": {
    "collapsed": false
   }
  },
  {
   "cell_type": "markdown",
   "source": [
    "### 5 - 10."
   ],
   "metadata": {
    "collapsed": false
   }
  },
  {
   "cell_type": "code",
   "execution_count": 32,
   "outputs": [],
   "source": [],
   "metadata": {
    "collapsed": false
   }
  }
 ],
 "metadata": {
  "kernelspec": {
   "display_name": "Python 3",
   "language": "python",
   "name": "python3"
  },
  "language_info": {
   "codemirror_mode": {
    "name": "ipython",
    "version": 2
   },
   "file_extension": ".py",
   "mimetype": "text/x-python",
   "name": "python",
   "nbconvert_exporter": "python",
   "pygments_lexer": "ipython2",
   "version": "2.7.6"
  }
 },
 "nbformat": 4,
 "nbformat_minor": 0
}
