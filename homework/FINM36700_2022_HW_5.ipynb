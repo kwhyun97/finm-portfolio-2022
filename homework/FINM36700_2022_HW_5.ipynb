{
 "cells": [
  {
   "cell_type": "markdown",
   "source": [
    "# FINM 36700 HW 5\n",
    "### HW Group B 6\n",
    "\n",
    "## Imports"
   ],
   "metadata": {
    "collapsed": false
   }
  },
  {
   "cell_type": "code",
   "execution_count": 1,
   "outputs": [],
   "source": [
    "import pandas as pd\n",
    "import numpy as np\n",
    "import matplotlib.pyplot as plt\n",
    "import statsmodels.api as sm\n",
    "from arch import arch_model\n",
    "from arch.univariate import GARCH, EWMAVariance\n",
    "from sklearn import linear_model\n",
    "import scipy.stats as stats\n",
    "from statsmodels.regression.rolling import RollingOLS\n",
    "import seaborn as sns\n",
    "import warnings\n",
    "warnings.filterwarnings(\"ignore\")\n",
    "pd.set_option(\"display.precision\", 4)\n",
    "sns.set(rc={'figure.figsize':(15, 10)})"
   ],
   "metadata": {
    "collapsed": false
   }
  },
  {
   "cell_type": "markdown",
   "source": [
    "## Data"
   ],
   "metadata": {
    "collapsed": false
   }
  },
  {
   "cell_type": "code",
   "execution_count": 2,
   "outputs": [
    {
     "data": {
      "text/plain": "               MKT     SMB     HML     RMW     CMA     UMD\nDate                                                      \n1980-01-31  0.0551  0.0183  0.0175 -0.0170  0.0164  0.0755\n1980-02-29 -0.0122 -0.0157  0.0061  0.0004  0.0268  0.0788\n1980-03-31 -0.1290 -0.0693 -0.0101  0.0146 -0.0119 -0.0955\n1980-04-30  0.0397  0.0105  0.0106 -0.0210  0.0029 -0.0043\n1980-05-31  0.0526  0.0211  0.0038  0.0034 -0.0031 -0.0112",
      "text/html": "<div>\n<style scoped>\n    .dataframe tbody tr th:only-of-type {\n        vertical-align: middle;\n    }\n\n    .dataframe tbody tr th {\n        vertical-align: top;\n    }\n\n    .dataframe thead th {\n        text-align: right;\n    }\n</style>\n<table border=\"1\" class=\"dataframe\">\n  <thead>\n    <tr style=\"text-align: right;\">\n      <th></th>\n      <th>MKT</th>\n      <th>SMB</th>\n      <th>HML</th>\n      <th>RMW</th>\n      <th>CMA</th>\n      <th>UMD</th>\n    </tr>\n    <tr>\n      <th>Date</th>\n      <th></th>\n      <th></th>\n      <th></th>\n      <th></th>\n      <th></th>\n      <th></th>\n    </tr>\n  </thead>\n  <tbody>\n    <tr>\n      <th>1980-01-31</th>\n      <td>0.0551</td>\n      <td>0.0183</td>\n      <td>0.0175</td>\n      <td>-0.0170</td>\n      <td>0.0164</td>\n      <td>0.0755</td>\n    </tr>\n    <tr>\n      <th>1980-02-29</th>\n      <td>-0.0122</td>\n      <td>-0.0157</td>\n      <td>0.0061</td>\n      <td>0.0004</td>\n      <td>0.0268</td>\n      <td>0.0788</td>\n    </tr>\n    <tr>\n      <th>1980-03-31</th>\n      <td>-0.1290</td>\n      <td>-0.0693</td>\n      <td>-0.0101</td>\n      <td>0.0146</td>\n      <td>-0.0119</td>\n      <td>-0.0955</td>\n    </tr>\n    <tr>\n      <th>1980-04-30</th>\n      <td>0.0397</td>\n      <td>0.0105</td>\n      <td>0.0106</td>\n      <td>-0.0210</td>\n      <td>0.0029</td>\n      <td>-0.0043</td>\n    </tr>\n    <tr>\n      <th>1980-05-31</th>\n      <td>0.0526</td>\n      <td>0.0211</td>\n      <td>0.0038</td>\n      <td>0.0034</td>\n      <td>-0.0031</td>\n      <td>-0.0112</td>\n    </tr>\n  </tbody>\n</table>\n</div>"
     },
     "execution_count": 2,
     "metadata": {},
     "output_type": "execute_result"
    }
   ],
   "source": [
    "factors = pd.read_excel('../data/factor_pricing_data.xlsx', sheet_name = 1)\n",
    "\n",
    "factors = factors.set_index('Date')\n",
    "\n",
    "factors.head()"
   ],
   "metadata": {
    "collapsed": false
   }
  },
  {
   "cell_type": "code",
   "execution_count": 12,
   "outputs": [
    {
     "data": {
      "text/plain": "             Agric   Food    Soda    Beer    Smoke   Toys    Fun     Books  \\\nDate                                                                         \n1980-01-31 -0.0050  0.0283  0.0084  0.1024 -0.0143  0.0999  0.0354  0.0352   \n1980-02-29  0.0111 -0.0610 -0.0966 -0.0319 -0.0569 -0.0314 -0.0527 -0.0788   \n1980-03-31 -0.2244 -0.1116 -0.0167 -0.1464 -0.0192 -0.1281 -0.0817 -0.1278   \n1980-04-30  0.0451  0.0766  0.0232  0.0305  0.0831 -0.0521  0.0775  0.0182   \n1980-05-31  0.0637  0.0792  0.0457  0.0895  0.0814  0.0512  0.0324  0.0876   \n\n             Hshld   Clths  ...   Boxes   Trans   Whlsl   Rtail   Meals  \\\nDate                        ...                                           \n1980-01-31  0.0048  0.0032  ...  0.0159  0.0876  0.0463 -0.0116  0.0458   \n1980-02-29 -0.0556 -0.0140  ... -0.0079 -0.0535 -0.0339 -0.0633 -0.0638   \n1980-03-31 -0.0565 -0.0664  ... -0.0821 -0.1511 -0.1106 -0.0922 -0.1443   \n1980-04-30  0.0304  0.0113  ...  0.0419 -0.0097 -0.0300  0.0351  0.0522   \n1980-05-31  0.0560  0.0064  ...  0.0565  0.1060  0.1147  0.0868  0.1127   \n\n             Banks   Insur   RlEst   Fin     Other  \nDate                                                \n1980-01-31 -0.0279  0.0258  0.0751  0.0299  0.0665  \n1980-02-29 -0.0855 -0.0960 -0.0314 -0.0275 -0.0267  \n1980-03-31 -0.0563 -0.0883 -0.2441 -0.1245 -0.1728  \n1980-04-30  0.0729  0.0532  0.0997  0.0448  0.0762  \n1980-05-31  0.0577  0.0557  0.1040  0.0839  0.0684  \n\n[5 rows x 49 columns]",
      "text/html": "<div>\n<style scoped>\n    .dataframe tbody tr th:only-of-type {\n        vertical-align: middle;\n    }\n\n    .dataframe tbody tr th {\n        vertical-align: top;\n    }\n\n    .dataframe thead th {\n        text-align: right;\n    }\n</style>\n<table border=\"1\" class=\"dataframe\">\n  <thead>\n    <tr style=\"text-align: right;\">\n      <th></th>\n      <th>Agric</th>\n      <th>Food</th>\n      <th>Soda</th>\n      <th>Beer</th>\n      <th>Smoke</th>\n      <th>Toys</th>\n      <th>Fun</th>\n      <th>Books</th>\n      <th>Hshld</th>\n      <th>Clths</th>\n      <th>...</th>\n      <th>Boxes</th>\n      <th>Trans</th>\n      <th>Whlsl</th>\n      <th>Rtail</th>\n      <th>Meals</th>\n      <th>Banks</th>\n      <th>Insur</th>\n      <th>RlEst</th>\n      <th>Fin</th>\n      <th>Other</th>\n    </tr>\n    <tr>\n      <th>Date</th>\n      <th></th>\n      <th></th>\n      <th></th>\n      <th></th>\n      <th></th>\n      <th></th>\n      <th></th>\n      <th></th>\n      <th></th>\n      <th></th>\n      <th></th>\n      <th></th>\n      <th></th>\n      <th></th>\n      <th></th>\n      <th></th>\n      <th></th>\n      <th></th>\n      <th></th>\n      <th></th>\n      <th></th>\n    </tr>\n  </thead>\n  <tbody>\n    <tr>\n      <th>1980-01-31</th>\n      <td>-0.0050</td>\n      <td>0.0283</td>\n      <td>0.0084</td>\n      <td>0.1024</td>\n      <td>-0.0143</td>\n      <td>0.0999</td>\n      <td>0.0354</td>\n      <td>0.0352</td>\n      <td>0.0048</td>\n      <td>0.0032</td>\n      <td>...</td>\n      <td>0.0159</td>\n      <td>0.0876</td>\n      <td>0.0463</td>\n      <td>-0.0116</td>\n      <td>0.0458</td>\n      <td>-0.0279</td>\n      <td>0.0258</td>\n      <td>0.0751</td>\n      <td>0.0299</td>\n      <td>0.0665</td>\n    </tr>\n    <tr>\n      <th>1980-02-29</th>\n      <td>0.0111</td>\n      <td>-0.0610</td>\n      <td>-0.0966</td>\n      <td>-0.0319</td>\n      <td>-0.0569</td>\n      <td>-0.0314</td>\n      <td>-0.0527</td>\n      <td>-0.0788</td>\n      <td>-0.0556</td>\n      <td>-0.0140</td>\n      <td>...</td>\n      <td>-0.0079</td>\n      <td>-0.0535</td>\n      <td>-0.0339</td>\n      <td>-0.0633</td>\n      <td>-0.0638</td>\n      <td>-0.0855</td>\n      <td>-0.0960</td>\n      <td>-0.0314</td>\n      <td>-0.0275</td>\n      <td>-0.0267</td>\n    </tr>\n    <tr>\n      <th>1980-03-31</th>\n      <td>-0.2244</td>\n      <td>-0.1116</td>\n      <td>-0.0167</td>\n      <td>-0.1464</td>\n      <td>-0.0192</td>\n      <td>-0.1281</td>\n      <td>-0.0817</td>\n      <td>-0.1278</td>\n      <td>-0.0565</td>\n      <td>-0.0664</td>\n      <td>...</td>\n      <td>-0.0821</td>\n      <td>-0.1511</td>\n      <td>-0.1106</td>\n      <td>-0.0922</td>\n      <td>-0.1443</td>\n      <td>-0.0563</td>\n      <td>-0.0883</td>\n      <td>-0.2441</td>\n      <td>-0.1245</td>\n      <td>-0.1728</td>\n    </tr>\n    <tr>\n      <th>1980-04-30</th>\n      <td>0.0451</td>\n      <td>0.0766</td>\n      <td>0.0232</td>\n      <td>0.0305</td>\n      <td>0.0831</td>\n      <td>-0.0521</td>\n      <td>0.0775</td>\n      <td>0.0182</td>\n      <td>0.0304</td>\n      <td>0.0113</td>\n      <td>...</td>\n      <td>0.0419</td>\n      <td>-0.0097</td>\n      <td>-0.0300</td>\n      <td>0.0351</td>\n      <td>0.0522</td>\n      <td>0.0729</td>\n      <td>0.0532</td>\n      <td>0.0997</td>\n      <td>0.0448</td>\n      <td>0.0762</td>\n    </tr>\n    <tr>\n      <th>1980-05-31</th>\n      <td>0.0637</td>\n      <td>0.0792</td>\n      <td>0.0457</td>\n      <td>0.0895</td>\n      <td>0.0814</td>\n      <td>0.0512</td>\n      <td>0.0324</td>\n      <td>0.0876</td>\n      <td>0.0560</td>\n      <td>0.0064</td>\n      <td>...</td>\n      <td>0.0565</td>\n      <td>0.1060</td>\n      <td>0.1147</td>\n      <td>0.0868</td>\n      <td>0.1127</td>\n      <td>0.0577</td>\n      <td>0.0557</td>\n      <td>0.1040</td>\n      <td>0.0839</td>\n      <td>0.0684</td>\n    </tr>\n  </tbody>\n</table>\n<p>5 rows × 49 columns</p>\n</div>"
     },
     "execution_count": 12,
     "metadata": {},
     "output_type": "execute_result"
    }
   ],
   "source": [
    "portfolios = pd.read_excel('../data/factor_pricing_data.xlsx', sheet_name = 2)\n",
    "\n",
    "portfolios = portfolios.set_index('Date')\n",
    "\n",
    "portfolios.head()"
   ],
   "metadata": {
    "collapsed": false
   }
  },
  {
   "cell_type": "markdown",
   "source": [
    "## 2. The Factors\n",
    "### 1. Compare Univariate Statistics"
   ],
   "metadata": {
    "collapsed": false
   }
  },
  {
   "cell_type": "code",
   "execution_count": 3,
   "outputs": [],
   "source": [
    "def stats_dates(df, dates, annual_fac=12):\n",
    "    stats_df = pd.DataFrame(data=None, index = ['Mean', 'Vol', 'Sharpe', 'VaR (.05)'])\n",
    "\n",
    "    for d in dates:\n",
    "        for col in df.columns:\n",
    "            df_ = df.loc[d[0]:d[1], col]\n",
    "            stats_df[col + ' ' + d[0] + '-' + d[1]] = [df_.mean()*annual_fac,\n",
    "                                                       df_.std()*np.sqrt(annual_fac),\n",
    "                                                       (df_.mean()/df_.std())*np.sqrt(annual_fac),\n",
    "                                                       df_.quantile(.05)]\n",
    "\n",
    "    return stats_df\n",
    "\n",
    "def summary_stats(df, annual_fac=12):\n",
    "    ss_df = (df.mean() * annual_fac).to_frame('Mean')\n",
    "    ss_df['Vol'] = df.std() * np.sqrt(annual_fac)\n",
    "    ss_df['Sharpe'] = ss_df['Mean'] / ss_df['Vol']\n",
    "\n",
    "    return round(ss_df, 4)"
   ],
   "metadata": {
    "collapsed": false
   }
  },
  {
   "cell_type": "code",
   "execution_count": 4,
   "outputs": [
    {
     "data": {
      "text/plain": "       Mean     Vol  Sharpe\nMKT  0.0831  0.1567  0.5305\nSMB  0.0122  0.1005  0.1211\nHML  0.0275  0.1088  0.2529\nRMW  0.0448  0.0834  0.5376\nCMA  0.0333  0.0715  0.4652\nUMD  0.0655  0.1545  0.4241",
      "text/html": "<div>\n<style scoped>\n    .dataframe tbody tr th:only-of-type {\n        vertical-align: middle;\n    }\n\n    .dataframe tbody tr th {\n        vertical-align: top;\n    }\n\n    .dataframe thead th {\n        text-align: right;\n    }\n</style>\n<table border=\"1\" class=\"dataframe\">\n  <thead>\n    <tr style=\"text-align: right;\">\n      <th></th>\n      <th>Mean</th>\n      <th>Vol</th>\n      <th>Sharpe</th>\n    </tr>\n  </thead>\n  <tbody>\n    <tr>\n      <th>MKT</th>\n      <td>0.0831</td>\n      <td>0.1567</td>\n      <td>0.5305</td>\n    </tr>\n    <tr>\n      <th>SMB</th>\n      <td>0.0122</td>\n      <td>0.1005</td>\n      <td>0.1211</td>\n    </tr>\n    <tr>\n      <th>HML</th>\n      <td>0.0275</td>\n      <td>0.1088</td>\n      <td>0.2529</td>\n    </tr>\n    <tr>\n      <th>RMW</th>\n      <td>0.0448</td>\n      <td>0.0834</td>\n      <td>0.5376</td>\n    </tr>\n    <tr>\n      <th>CMA</th>\n      <td>0.0333</td>\n      <td>0.0715</td>\n      <td>0.4652</td>\n    </tr>\n    <tr>\n      <th>UMD</th>\n      <td>0.0655</td>\n      <td>0.1545</td>\n      <td>0.4241</td>\n    </tr>\n  </tbody>\n</table>\n</div>"
     },
     "execution_count": 4,
     "metadata": {},
     "output_type": "execute_result"
    }
   ],
   "source": [
    "summary_stats(factors)"
   ],
   "metadata": {
    "collapsed": false
   }
  },
  {
   "cell_type": "markdown",
   "source": [
    "### 2.\n",
    "#### (a):\n",
    "- Each factor does have a greater than 0 expected excess return. Therefore, we may say that each factor does have premium\n",
    "\n",
    "#### (b):"
   ],
   "metadata": {
    "collapsed": false
   }
  },
  {
   "cell_type": "code",
   "execution_count": 6,
   "outputs": [
    {
     "data": {
      "text/plain": "           MKT 2015-2021  SMB 2015-2021  HML 2015-2021  RMW 2015-2021  \\\nMean              0.1427        -0.0077        -0.0485         0.0433   \nVol               0.1511         0.0996         0.1192         0.0695   \nSharpe            0.9445        -0.0775        -0.4066         0.6227   \nVaR (.05)        -0.0680        -0.0432        -0.0467        -0.0225   \n\n           CMA 2015-2021  UMD 2015-2021  \nMean             -0.0169         0.0159  \nVol               0.0633         0.1399  \nSharpe           -0.2677         0.1135  \nVaR (.05)        -0.0251        -0.0671  ",
      "text/html": "<div>\n<style scoped>\n    .dataframe tbody tr th:only-of-type {\n        vertical-align: middle;\n    }\n\n    .dataframe tbody tr th {\n        vertical-align: top;\n    }\n\n    .dataframe thead th {\n        text-align: right;\n    }\n</style>\n<table border=\"1\" class=\"dataframe\">\n  <thead>\n    <tr style=\"text-align: right;\">\n      <th></th>\n      <th>MKT 2015-2021</th>\n      <th>SMB 2015-2021</th>\n      <th>HML 2015-2021</th>\n      <th>RMW 2015-2021</th>\n      <th>CMA 2015-2021</th>\n      <th>UMD 2015-2021</th>\n    </tr>\n  </thead>\n  <tbody>\n    <tr>\n      <th>Mean</th>\n      <td>0.1427</td>\n      <td>-0.0077</td>\n      <td>-0.0485</td>\n      <td>0.0433</td>\n      <td>-0.0169</td>\n      <td>0.0159</td>\n    </tr>\n    <tr>\n      <th>Vol</th>\n      <td>0.1511</td>\n      <td>0.0996</td>\n      <td>0.1192</td>\n      <td>0.0695</td>\n      <td>0.0633</td>\n      <td>0.1399</td>\n    </tr>\n    <tr>\n      <th>Sharpe</th>\n      <td>0.9445</td>\n      <td>-0.0775</td>\n      <td>-0.4066</td>\n      <td>0.6227</td>\n      <td>-0.2677</td>\n      <td>0.1135</td>\n    </tr>\n    <tr>\n      <th>VaR (.05)</th>\n      <td>-0.0680</td>\n      <td>-0.0432</td>\n      <td>-0.0467</td>\n      <td>-0.0225</td>\n      <td>-0.0251</td>\n      <td>-0.0671</td>\n    </tr>\n  </tbody>\n</table>\n</div>"
     },
     "execution_count": 6,
     "metadata": {},
     "output_type": "execute_result"
    }
   ],
   "source": [
    "stats_dates(factors, [['2015','2021']])"
   ],
   "metadata": {
    "collapsed": false
   }
  },
  {
   "cell_type": "markdown",
   "source": [
    "- MKT, RMW, and UMD are the only factors with positive risk premium in the set period. HML factor noticeably under perferomed with the expected return of approximately -4.85%"
   ],
   "metadata": {
    "collapsed": false
   }
  },
  {
   "cell_type": "markdown",
   "source": [
    "### 3."
   ],
   "metadata": {
    "collapsed": false
   }
  },
  {
   "cell_type": "code",
   "execution_count": 8,
   "outputs": [
    {
     "data": {
      "text/plain": "        MKT     SMB     HML     RMW     CMA     UMD\nMKT  1.0000  0.2263 -0.2221 -0.2554 -0.3819 -0.1677\nSMB  0.2263  1.0000 -0.0721 -0.4143 -0.0642 -0.0304\nHML -0.2221 -0.0721  1.0000  0.2295  0.6725 -0.2349\nRMW -0.2554 -0.4143  0.2295  1.0000  0.1155  0.0753\nCMA -0.3819 -0.0642  0.6725  0.1155  1.0000 -0.0122\nUMD -0.1677 -0.0304 -0.2349  0.0753 -0.0122  1.0000",
      "text/html": "<div>\n<style scoped>\n    .dataframe tbody tr th:only-of-type {\n        vertical-align: middle;\n    }\n\n    .dataframe tbody tr th {\n        vertical-align: top;\n    }\n\n    .dataframe thead th {\n        text-align: right;\n    }\n</style>\n<table border=\"1\" class=\"dataframe\">\n  <thead>\n    <tr style=\"text-align: right;\">\n      <th></th>\n      <th>MKT</th>\n      <th>SMB</th>\n      <th>HML</th>\n      <th>RMW</th>\n      <th>CMA</th>\n      <th>UMD</th>\n    </tr>\n  </thead>\n  <tbody>\n    <tr>\n      <th>MKT</th>\n      <td>1.0000</td>\n      <td>0.2263</td>\n      <td>-0.2221</td>\n      <td>-0.2554</td>\n      <td>-0.3819</td>\n      <td>-0.1677</td>\n    </tr>\n    <tr>\n      <th>SMB</th>\n      <td>0.2263</td>\n      <td>1.0000</td>\n      <td>-0.0721</td>\n      <td>-0.4143</td>\n      <td>-0.0642</td>\n      <td>-0.0304</td>\n    </tr>\n    <tr>\n      <th>HML</th>\n      <td>-0.2221</td>\n      <td>-0.0721</td>\n      <td>1.0000</td>\n      <td>0.2295</td>\n      <td>0.6725</td>\n      <td>-0.2349</td>\n    </tr>\n    <tr>\n      <th>RMW</th>\n      <td>-0.2554</td>\n      <td>-0.4143</td>\n      <td>0.2295</td>\n      <td>1.0000</td>\n      <td>0.1155</td>\n      <td>0.0753</td>\n    </tr>\n    <tr>\n      <th>CMA</th>\n      <td>-0.3819</td>\n      <td>-0.0642</td>\n      <td>0.6725</td>\n      <td>0.1155</td>\n      <td>1.0000</td>\n      <td>-0.0122</td>\n    </tr>\n    <tr>\n      <th>UMD</th>\n      <td>-0.1677</td>\n      <td>-0.0304</td>\n      <td>-0.2349</td>\n      <td>0.0753</td>\n      <td>-0.0122</td>\n      <td>1.0000</td>\n    </tr>\n  </tbody>\n</table>\n</div>"
     },
     "execution_count": 8,
     "metadata": {},
     "output_type": "execute_result"
    }
   ],
   "source": [
    "factors.corr()"
   ],
   "metadata": {
    "collapsed": false
   }
  },
  {
   "cell_type": "markdown",
   "source": [
    "#### (a)\n",
    "- Yes, correlations between factors are kept relatively small. The largest correlation is 0.6725, which is much higher than the other correlations.\n",
    "#### (b)\n",
    "- Yes, HML is highly correlated to CMA (this is the 0.6725 correlation).\n",
    "### 4."
   ],
   "metadata": {
    "collapsed": false
   }
  },
  {
   "cell_type": "code",
   "execution_count": 9,
   "outputs": [
    {
     "data": {
      "text/plain": "     Tangency Weights\nMKT            0.2011\nSMB            0.0816\nHML           -0.0470\nRMW            0.2884\nCMA            0.3774\nUMD            0.0986",
      "text/html": "<div>\n<style scoped>\n    .dataframe tbody tr th:only-of-type {\n        vertical-align: middle;\n    }\n\n    .dataframe tbody tr th {\n        vertical-align: top;\n    }\n\n    .dataframe thead th {\n        text-align: right;\n    }\n</style>\n<table border=\"1\" class=\"dataframe\">\n  <thead>\n    <tr style=\"text-align: right;\">\n      <th></th>\n      <th>Tangency Weights</th>\n    </tr>\n  </thead>\n  <tbody>\n    <tr>\n      <th>MKT</th>\n      <td>0.2011</td>\n    </tr>\n    <tr>\n      <th>SMB</th>\n      <td>0.0816</td>\n    </tr>\n    <tr>\n      <th>HML</th>\n      <td>-0.0470</td>\n    </tr>\n    <tr>\n      <th>RMW</th>\n      <td>0.2884</td>\n    </tr>\n    <tr>\n      <th>CMA</th>\n      <td>0.3774</td>\n    </tr>\n    <tr>\n      <th>UMD</th>\n      <td>0.0986</td>\n    </tr>\n  </tbody>\n</table>\n</div>"
     },
     "execution_count": 9,
     "metadata": {},
     "output_type": "execute_result"
    }
   ],
   "source": [
    "def compute_tangency(df_tilde, diagonalize_Sigma=False):\n",
    "\n",
    "    Sigma = df_tilde.cov()\n",
    "\n",
    "    # N is the number of assets\n",
    "\n",
    "    N = Sigma.shape[0]\n",
    "\n",
    "    Sigma_adj = Sigma.copy()\n",
    "\n",
    "    if diagonalize_Sigma:\n",
    "\n",
    "        Sigma_adj.loc[:,:] = np.diag(np.diag(Sigma_adj))\n",
    "\n",
    "\n",
    "\n",
    "    mu_tilde = df_tilde.mean()\n",
    "\n",
    "    Sigma_inv = np.linalg.inv(Sigma_adj)\n",
    "\n",
    "    weights = Sigma_inv @ mu_tilde / (np.ones(N) @ Sigma_inv @ mu_tilde)\n",
    "\n",
    "    # For convenience, I'll wrap the solution back into a pandas.Series object.\n",
    "\n",
    "    omega_tangency = pd.Series(weights, index=mu_tilde.index)\n",
    "\n",
    "    return omega_tangency, mu_tilde, Sigma_adj\n",
    "\n",
    "\n",
    "\n",
    "omega_tangency, mu_tilde, Sigma = compute_tangency(factors)\n",
    "\n",
    "omega_tangency.to_frame('Tangency Weights')"
   ],
   "metadata": {
    "collapsed": false
   }
  },
  {
   "cell_type": "markdown",
   "source": [
    "#### (a):\n",
    "- CMA, RMW, and the MKT seem like the most important factors as they have the largest weights. SMB, HML, and UMD have lower weights so we could say that they seem less important.\n",
    "#### (b):"
   ],
   "metadata": {
    "collapsed": false
   }
  },
  {
   "cell_type": "code",
   "execution_count": 10,
   "outputs": [
    {
     "data": {
      "text/plain": "       Mean     Vol  Sharpe\nMKT  0.0831  0.1567  0.5305\nSMB  0.0122  0.1005  0.1211\nHML  0.0275  0.1088  0.2529\nRMW  0.0448  0.0834  0.5376\nCMA  0.0333  0.0715  0.4652\nUMD  0.0655  0.1545  0.4241",
      "text/html": "<div>\n<style scoped>\n    .dataframe tbody tr th:only-of-type {\n        vertical-align: middle;\n    }\n\n    .dataframe tbody tr th {\n        vertical-align: top;\n    }\n\n    .dataframe thead th {\n        text-align: right;\n    }\n</style>\n<table border=\"1\" class=\"dataframe\">\n  <thead>\n    <tr style=\"text-align: right;\">\n      <th></th>\n      <th>Mean</th>\n      <th>Vol</th>\n      <th>Sharpe</th>\n    </tr>\n  </thead>\n  <tbody>\n    <tr>\n      <th>MKT</th>\n      <td>0.0831</td>\n      <td>0.1567</td>\n      <td>0.5305</td>\n    </tr>\n    <tr>\n      <th>SMB</th>\n      <td>0.0122</td>\n      <td>0.1005</td>\n      <td>0.1211</td>\n    </tr>\n    <tr>\n      <th>HML</th>\n      <td>0.0275</td>\n      <td>0.1088</td>\n      <td>0.2529</td>\n    </tr>\n    <tr>\n      <th>RMW</th>\n      <td>0.0448</td>\n      <td>0.0834</td>\n      <td>0.5376</td>\n    </tr>\n    <tr>\n      <th>CMA</th>\n      <td>0.0333</td>\n      <td>0.0715</td>\n      <td>0.4652</td>\n    </tr>\n    <tr>\n      <th>UMD</th>\n      <td>0.0655</td>\n      <td>0.1545</td>\n      <td>0.4241</td>\n    </tr>\n  </tbody>\n</table>\n</div>"
     },
     "execution_count": 10,
     "metadata": {},
     "output_type": "execute_result"
    }
   ],
   "source": [
    "summary_stats(factors)"
   ],
   "metadata": {
    "collapsed": false
   }
  },
  {
   "cell_type": "markdown",
   "source": [
    "- Yes, CMA has one of the lower mean returns but the highest allocation."
   ],
   "metadata": {
    "collapsed": false
   }
  },
  {
   "cell_type": "code",
   "execution_count": 11,
   "outputs": [
    {
     "data": {
      "text/plain": "     Tangency Weights\nMKT            0.3314\nSMB            0.0061\nHML            0.3622\nUMD            0.3003",
      "text/html": "<div>\n<style scoped>\n    .dataframe tbody tr th:only-of-type {\n        vertical-align: middle;\n    }\n\n    .dataframe tbody tr th {\n        vertical-align: top;\n    }\n\n    .dataframe thead th {\n        text-align: right;\n    }\n</style>\n<table border=\"1\" class=\"dataframe\">\n  <thead>\n    <tr style=\"text-align: right;\">\n      <th></th>\n      <th>Tangency Weights</th>\n    </tr>\n  </thead>\n  <tbody>\n    <tr>\n      <th>MKT</th>\n      <td>0.3314</td>\n    </tr>\n    <tr>\n      <th>SMB</th>\n      <td>0.0061</td>\n    </tr>\n    <tr>\n      <th>HML</th>\n      <td>0.3622</td>\n    </tr>\n    <tr>\n      <th>UMD</th>\n      <td>0.3003</td>\n    </tr>\n  </tbody>\n</table>\n</div>"
     },
     "execution_count": 11,
     "metadata": {},
     "output_type": "execute_result"
    }
   ],
   "source": [
    "omega_tangency2, mu_tilde2, Sigma2 = compute_tangency(factors[['MKT','SMB','HML','UMD']])\n",
    "\n",
    "omega_tangency2.to_frame('Tangency Weights')"
   ],
   "metadata": {
    "collapsed": false
   }
  },
  {
   "cell_type": "markdown",
   "source": [
    "- HML has the highest tangency weight once we remove CMA. This makes sense as CMA had the largest weight before, and is quite correlated to HML. SMB has a very small weight now."
   ],
   "metadata": {
    "collapsed": false
   }
  },
  {
   "cell_type": "markdown",
   "source": [
    "#### Conclusion of styles:\n",
    "- The importance of these styles seems to be determined by the correlation between the factors.\n",
    "\n",
    "## 3. Testing Modern LPMs"
   ],
   "metadata": {
    "collapsed": false
   }
  },
  {
   "cell_type": "code",
   "execution_count": 13,
   "outputs": [],
   "source": [
    "CAPM =  ['MKT']\n",
    "FF_3F = ['MKT','SMB','HML']\n",
    "FF_5F = ['MKT','SMB','HML','RMW','CMA']\n",
    "AQR = ['MKT','HML','RMW','UMD']"
   ],
   "metadata": {
    "collapsed": false
   }
  },
  {
   "cell_type": "code",
   "execution_count": 14,
   "outputs": [],
   "source": [
    "def ts_test(df, factor_df, factors, test, annualization=12):\n",
    "    res = pd.DataFrame(data = None, index = df.columns, columns = [test + r' $\\alpha$', test + r' $R^{2}$'])\n",
    "\n",
    "    for port in df.columns:\n",
    "        y = df[port]\n",
    "        X = sm.add_constant(factor_df[factors])\n",
    "        model = sm.OLS(y, X).fit()\n",
    "        res.loc[port] = [model.params[0] * annualization, model.rsquared]\n",
    "\n",
    "    return res"
   ],
   "metadata": {
    "collapsed": false
   }
  },
  {
   "cell_type": "markdown",
   "source": [
    "### 1.\n",
    "#### (a):"
   ],
   "metadata": {
    "collapsed": false
   }
  },
  {
   "cell_type": "code",
   "execution_count": 15,
   "outputs": [
    {
     "data": {
      "text/plain": "      AQR $\\alpha$ AQR $R^{2}$\nAgric       0.0156      0.3302\nFood        0.0152      0.4681\nSoda        0.0238      0.3098\nBeer        0.0268      0.4248\nSmoke       0.0399      0.2575\nToys       -0.0277      0.5033\nFun         0.0271      0.6156\nBooks      -0.0292      0.6886\nHshld      -0.0009      0.5681\nClths      -0.0014      0.6185\nHlth       -0.0363      0.4447\nMedEq       0.0268      0.6034\nDrugs       0.0341      0.5083\nChems      -0.0209      0.7423\nRubbr       0.0045      0.6492\nTxtls       -0.024      0.5549\nBldMt      -0.0341      0.7634\nCnstr      -0.0477      0.6366\nSteel      -0.0272       0.633\nFabPr       -0.019      0.4388\nMach       -0.0012      0.7521\nElcEq       0.0031      0.7506\nAutos       0.0043      0.5857\nAero       -0.0071      0.5979\nShips      -0.0415      0.4993\nGuns        0.0059      0.3287\nGold           0.0      0.0496\nMines       -0.017      0.4457\nCoal       -0.0315      0.2127\nOil        -0.0208      0.4518\nUtil         0.009      0.3494\nTelcm       0.0128      0.5954\nPerSv      -0.0538      0.5778\nBusSv       0.0023      0.8537\nHardw       0.0468      0.6725\nSoftw       0.0695      0.7363\nChips       0.0627      0.7518\nLabEq       0.0352      0.7422\nPaper      -0.0307      0.6733\nBoxes       0.0066      0.5766\nTrans      -0.0167      0.6979\nWhlsl      -0.0132      0.7522\nRtail       0.0194      0.6831\nMeals       0.0011      0.6393\nBanks       -0.021      0.7693\nInsur      -0.0059      0.6884\nRlEst      -0.0576      0.5992\nFin         0.0205      0.8131\nOther      -0.0506      0.6053",
      "text/html": "<div>\n<style scoped>\n    .dataframe tbody tr th:only-of-type {\n        vertical-align: middle;\n    }\n\n    .dataframe tbody tr th {\n        vertical-align: top;\n    }\n\n    .dataframe thead th {\n        text-align: right;\n    }\n</style>\n<table border=\"1\" class=\"dataframe\">\n  <thead>\n    <tr style=\"text-align: right;\">\n      <th></th>\n      <th>AQR $\\alpha$</th>\n      <th>AQR $R^{2}$</th>\n    </tr>\n  </thead>\n  <tbody>\n    <tr>\n      <th>Agric</th>\n      <td>0.0156</td>\n      <td>0.3302</td>\n    </tr>\n    <tr>\n      <th>Food</th>\n      <td>0.0152</td>\n      <td>0.4681</td>\n    </tr>\n    <tr>\n      <th>Soda</th>\n      <td>0.0238</td>\n      <td>0.3098</td>\n    </tr>\n    <tr>\n      <th>Beer</th>\n      <td>0.0268</td>\n      <td>0.4248</td>\n    </tr>\n    <tr>\n      <th>Smoke</th>\n      <td>0.0399</td>\n      <td>0.2575</td>\n    </tr>\n    <tr>\n      <th>Toys</th>\n      <td>-0.0277</td>\n      <td>0.5033</td>\n    </tr>\n    <tr>\n      <th>Fun</th>\n      <td>0.0271</td>\n      <td>0.6156</td>\n    </tr>\n    <tr>\n      <th>Books</th>\n      <td>-0.0292</td>\n      <td>0.6886</td>\n    </tr>\n    <tr>\n      <th>Hshld</th>\n      <td>-0.0009</td>\n      <td>0.5681</td>\n    </tr>\n    <tr>\n      <th>Clths</th>\n      <td>-0.0014</td>\n      <td>0.6185</td>\n    </tr>\n    <tr>\n      <th>Hlth</th>\n      <td>-0.0363</td>\n      <td>0.4447</td>\n    </tr>\n    <tr>\n      <th>MedEq</th>\n      <td>0.0268</td>\n      <td>0.6034</td>\n    </tr>\n    <tr>\n      <th>Drugs</th>\n      <td>0.0341</td>\n      <td>0.5083</td>\n    </tr>\n    <tr>\n      <th>Chems</th>\n      <td>-0.0209</td>\n      <td>0.7423</td>\n    </tr>\n    <tr>\n      <th>Rubbr</th>\n      <td>0.0045</td>\n      <td>0.6492</td>\n    </tr>\n    <tr>\n      <th>Txtls</th>\n      <td>-0.024</td>\n      <td>0.5549</td>\n    </tr>\n    <tr>\n      <th>BldMt</th>\n      <td>-0.0341</td>\n      <td>0.7634</td>\n    </tr>\n    <tr>\n      <th>Cnstr</th>\n      <td>-0.0477</td>\n      <td>0.6366</td>\n    </tr>\n    <tr>\n      <th>Steel</th>\n      <td>-0.0272</td>\n      <td>0.633</td>\n    </tr>\n    <tr>\n      <th>FabPr</th>\n      <td>-0.019</td>\n      <td>0.4388</td>\n    </tr>\n    <tr>\n      <th>Mach</th>\n      <td>-0.0012</td>\n      <td>0.7521</td>\n    </tr>\n    <tr>\n      <th>ElcEq</th>\n      <td>0.0031</td>\n      <td>0.7506</td>\n    </tr>\n    <tr>\n      <th>Autos</th>\n      <td>0.0043</td>\n      <td>0.5857</td>\n    </tr>\n    <tr>\n      <th>Aero</th>\n      <td>-0.0071</td>\n      <td>0.5979</td>\n    </tr>\n    <tr>\n      <th>Ships</th>\n      <td>-0.0415</td>\n      <td>0.4993</td>\n    </tr>\n    <tr>\n      <th>Guns</th>\n      <td>0.0059</td>\n      <td>0.3287</td>\n    </tr>\n    <tr>\n      <th>Gold</th>\n      <td>0.0</td>\n      <td>0.0496</td>\n    </tr>\n    <tr>\n      <th>Mines</th>\n      <td>-0.017</td>\n      <td>0.4457</td>\n    </tr>\n    <tr>\n      <th>Coal</th>\n      <td>-0.0315</td>\n      <td>0.2127</td>\n    </tr>\n    <tr>\n      <th>Oil</th>\n      <td>-0.0208</td>\n      <td>0.4518</td>\n    </tr>\n    <tr>\n      <th>Util</th>\n      <td>0.009</td>\n      <td>0.3494</td>\n    </tr>\n    <tr>\n      <th>Telcm</th>\n      <td>0.0128</td>\n      <td>0.5954</td>\n    </tr>\n    <tr>\n      <th>PerSv</th>\n      <td>-0.0538</td>\n      <td>0.5778</td>\n    </tr>\n    <tr>\n      <th>BusSv</th>\n      <td>0.0023</td>\n      <td>0.8537</td>\n    </tr>\n    <tr>\n      <th>Hardw</th>\n      <td>0.0468</td>\n      <td>0.6725</td>\n    </tr>\n    <tr>\n      <th>Softw</th>\n      <td>0.0695</td>\n      <td>0.7363</td>\n    </tr>\n    <tr>\n      <th>Chips</th>\n      <td>0.0627</td>\n      <td>0.7518</td>\n    </tr>\n    <tr>\n      <th>LabEq</th>\n      <td>0.0352</td>\n      <td>0.7422</td>\n    </tr>\n    <tr>\n      <th>Paper</th>\n      <td>-0.0307</td>\n      <td>0.6733</td>\n    </tr>\n    <tr>\n      <th>Boxes</th>\n      <td>0.0066</td>\n      <td>0.5766</td>\n    </tr>\n    <tr>\n      <th>Trans</th>\n      <td>-0.0167</td>\n      <td>0.6979</td>\n    </tr>\n    <tr>\n      <th>Whlsl</th>\n      <td>-0.0132</td>\n      <td>0.7522</td>\n    </tr>\n    <tr>\n      <th>Rtail</th>\n      <td>0.0194</td>\n      <td>0.6831</td>\n    </tr>\n    <tr>\n      <th>Meals</th>\n      <td>0.0011</td>\n      <td>0.6393</td>\n    </tr>\n    <tr>\n      <th>Banks</th>\n      <td>-0.021</td>\n      <td>0.7693</td>\n    </tr>\n    <tr>\n      <th>Insur</th>\n      <td>-0.0059</td>\n      <td>0.6884</td>\n    </tr>\n    <tr>\n      <th>RlEst</th>\n      <td>-0.0576</td>\n      <td>0.5992</td>\n    </tr>\n    <tr>\n      <th>Fin</th>\n      <td>0.0205</td>\n      <td>0.8131</td>\n    </tr>\n    <tr>\n      <th>Other</th>\n      <td>-0.0506</td>\n      <td>0.6053</td>\n    </tr>\n  </tbody>\n</table>\n</div>"
     },
     "execution_count": 15,
     "metadata": {},
     "output_type": "execute_result"
    }
   ],
   "source": [
    "AQR_test = ts_test(portfolios, factors, AQR, 'AQR')\n",
    "\n",
    "AQR_test"
   ],
   "metadata": {
    "collapsed": false
   }
  },
  {
   "cell_type": "markdown",
   "source": [
    "#### (b):"
   ],
   "metadata": {
    "collapsed": false
   }
  },
  {
   "cell_type": "code",
   "execution_count": 16,
   "outputs": [
    {
     "name": "stdout",
     "output_type": "stream",
     "text": [
      "AQR MAE: 0.0235\n"
     ]
    }
   ],
   "source": [
    "print('AQR MAE: ' + str(round(AQR_test[r'AQR $\\alpha$'].abs().mean(), 4)))"
   ],
   "metadata": {
    "collapsed": false
   }
  },
  {
   "cell_type": "markdown",
   "source": [
    "- If the pricing model worked the MAE should be close to 0 because the expected value of an excess return should be able to be described exactly by the betas and expected return of factors--leaving the expected value of alpha as 0. The AQR MAE is still pretty small. However, if the MAE takes a statistically significant non-zero value, it does not support the pricing model\n",
    "\n",
    "### 2."
   ],
   "metadata": {
    "collapsed": false
   }
  },
  {
   "cell_type": "code",
   "execution_count": 17,
   "outputs": [
    {
     "data": {
      "text/plain": "                   MAE\nCAPM            0.0215\nFama-French 3F  0.0254\nFama-French 5F  0.0325\nAQR             0.0235",
      "text/html": "<div>\n<style scoped>\n    .dataframe tbody tr th:only-of-type {\n        vertical-align: middle;\n    }\n\n    .dataframe tbody tr th {\n        vertical-align: top;\n    }\n\n    .dataframe thead th {\n        text-align: right;\n    }\n</style>\n<table border=\"1\" class=\"dataframe\">\n  <thead>\n    <tr style=\"text-align: right;\">\n      <th></th>\n      <th>MAE</th>\n    </tr>\n  </thead>\n  <tbody>\n    <tr>\n      <th>CAPM</th>\n      <td>0.0215</td>\n    </tr>\n    <tr>\n      <th>Fama-French 3F</th>\n      <td>0.0254</td>\n    </tr>\n    <tr>\n      <th>Fama-French 5F</th>\n      <td>0.0325</td>\n    </tr>\n    <tr>\n      <th>AQR</th>\n      <td>0.0235</td>\n    </tr>\n  </tbody>\n</table>\n</div>"
     },
     "execution_count": 17,
     "metadata": {},
     "output_type": "execute_result"
    }
   ],
   "source": [
    "factor_tests = ts_test(portfolios, factors, CAPM, 'CAPM').join(ts_test(portfolios, factors, FF_3F, 'Fama-French 3F'))\\\n",
    "                                                         .join(ts_test(portfolios, factors, FF_5F, 'Fama-French 5F'))\n",
    "\n",
    "factors_MAE = factor_tests[[r'CAPM $\\alpha$',\n",
    "                            r'Fama-French 3F $\\alpha$',\n",
    "                            r'Fama-French 5F $\\alpha$']].abs().mean().to_frame('MAE')\n",
    "\n",
    "factors_MAE.index = ['CAPM','Fama-French 3F','Fama-French 5F']\n",
    "factors_MAE.loc['AQR'] = AQR_test[r'AQR $\\alpha$'].abs().mean()\n",
    "factors_MAE"
   ],
   "metadata": {
    "collapsed": false
   }
  },
  {
   "cell_type": "markdown",
   "source": [
    "- CAPM fits the best as it has the lowest MAE.\n",
    "### 3.\n",
    "- The market factor seems very important for pricing as all models include it and the CAPM performs the best. I think Fama and French should consider using the momentum factor as AQR uses it and their model performs better in terms of MAE.\n",
    "### 4."
   ],
   "metadata": {
    "collapsed": false
   }
  },
  {
   "cell_type": "code",
   "execution_count": 18,
   "outputs": [
    {
     "data": {
      "text/plain": "                $R^{2}$\nCAPM             0.5275\nFama-French 3F   0.5711\nFama-French 5F   0.5964\nAQR              0.5757",
      "text/html": "<div>\n<style scoped>\n    .dataframe tbody tr th:only-of-type {\n        vertical-align: middle;\n    }\n\n    .dataframe tbody tr th {\n        vertical-align: top;\n    }\n\n    .dataframe thead th {\n        text-align: right;\n    }\n</style>\n<table border=\"1\" class=\"dataframe\">\n  <thead>\n    <tr style=\"text-align: right;\">\n      <th></th>\n      <th>$R^{2}$</th>\n    </tr>\n  </thead>\n  <tbody>\n    <tr>\n      <th>CAPM</th>\n      <td>0.5275</td>\n    </tr>\n    <tr>\n      <th>Fama-French 3F</th>\n      <td>0.5711</td>\n    </tr>\n    <tr>\n      <th>Fama-French 5F</th>\n      <td>0.5964</td>\n    </tr>\n    <tr>\n      <th>AQR</th>\n      <td>0.5757</td>\n    </tr>\n  </tbody>\n</table>\n</div>"
     },
     "execution_count": 18,
     "metadata": {},
     "output_type": "execute_result"
    }
   ],
   "source": [
    "factors_r2 = factor_tests[[r'CAPM $R^{2}$',\n",
    "                            r'Fama-French 3F $R^{2}$',\n",
    "                            r'Fama-French 5F $R^{2}$']].mean().to_frame(r'$R^{2}$')\n",
    "\n",
    "factors_r2.index = ['CAPM','Fama-French 3F','Fama-French 5F']\n",
    "factors_r2.loc['AQR'] = AQR_test[r'AQR $R^{2}$'].mean()\n",
    "factors_r2"
   ],
   "metadata": {
    "collapsed": false
   }
  },
  {
   "cell_type": "markdown",
   "source": [
    "- The models do not lead to a high $R^{2}$ stats. Therefore, they would not be a good linear factor decomposition of the assets\n",
    "\n",
    "### 5."
   ],
   "metadata": {
    "collapsed": false
   }
  },
  {
   "cell_type": "code",
   "execution_count": 22,
   "outputs": [],
   "source": [
    "def ts_betas(df, factor_df, factors, intercept=False):\n",
    "    if intercept == True:\n",
    "        res = pd.DataFrame(data = None, index = df.columns, columns = ['alpha'])\n",
    "        res[factors] = None\n",
    "    else:\n",
    "        res = pd.DataFrame(data = None, index = df.columns, columns = factors)\n",
    "\n",
    "    for port in df.columns:\n",
    "        y = df[port]\n",
    "        if intercept == True:\n",
    "            X = sm.add_constant(factor_df[factors])\n",
    "        else:\n",
    "            X = factor_df[factors]\n",
    "        model = sm.OLS(y, X).fit()\n",
    "        res.loc[port] = model.params\n",
    "\n",
    "    return res\n",
    "\n",
    "def cross_section(df, factor_df, factors, ts_int=True, annualization=12):\n",
    "    betas = ts_betas(df, factor_df, factors, intercept=ts_int)\n",
    "    res = pd.DataFrame(data = None, index = betas.index, columns = factors)\n",
    "    res['Predicted'] = None\n",
    "    res['Actual'] = None\n",
    "\n",
    "    for port in res.index:\n",
    "        res.loc[port, factors] = betas.loc[port]\n",
    "        prem = (betas.loc[port] * factor_df[factors]).sum(axis=1).mean() * annualization\n",
    "        res.loc[port,['Predicted','Actual']] = prem, df[port].mean() * annualization\n",
    "\n",
    "    return res\n",
    "\n",
    "def cross_premia(df_cs, factors):\n",
    "    y = df_cs['Actual'].astype(float)\n",
    "    X = df_cs[factors].astype(float)\n",
    "\n",
    "    return sm.OLS(y,X).fit().params.to_frame('Cross-Sectional Premia')\n",
    "\n",
    "def cross_premia_mae(df_cs, factors, model):\n",
    "    y = df_cs['Actual'].astype(float)\n",
    "    X = df_cs[factors].astype(float)\n",
    "\n",
    "    print(model + ' MAE: ' + str(round(sm.OLS(y,X).fit().resid.abs().mean(), 4)))\n",
    "    return"
   ],
   "metadata": {
    "collapsed": false
   }
  },
  {
   "cell_type": "code",
   "execution_count": 23,
   "outputs": [],
   "source": [
    "CAPM_cs = cross_section(portfolios, factors, CAPM, ts_int=True)\n",
    "FF_3F_cs = cross_section(portfolios, factors, FF_3F, ts_int=True)\n",
    "FF_5F_cs = cross_section(portfolios, factors, FF_5F, ts_int=True)\n",
    "AQR_cs = cross_section(portfolios, factors, AQR, ts_int=True)"
   ],
   "metadata": {
    "collapsed": false
   }
  },
  {
   "cell_type": "markdown",
   "source": [
    "#### (a):"
   ],
   "metadata": {
    "collapsed": false
   }
  },
  {
   "cell_type": "code",
   "execution_count": 24,
   "outputs": [
    {
     "data": {
      "text/plain": "     Time Series Premia\nMKT              0.0831\nSMB              0.0122\nHML              0.0275\nRMW              0.0448\nCMA              0.0333\nUMD              0.0655",
      "text/html": "<div>\n<style scoped>\n    .dataframe tbody tr th:only-of-type {\n        vertical-align: middle;\n    }\n\n    .dataframe tbody tr th {\n        vertical-align: top;\n    }\n\n    .dataframe thead th {\n        text-align: right;\n    }\n</style>\n<table border=\"1\" class=\"dataframe\">\n  <thead>\n    <tr style=\"text-align: right;\">\n      <th></th>\n      <th>Time Series Premia</th>\n    </tr>\n  </thead>\n  <tbody>\n    <tr>\n      <th>MKT</th>\n      <td>0.0831</td>\n    </tr>\n    <tr>\n      <th>SMB</th>\n      <td>0.0122</td>\n    </tr>\n    <tr>\n      <th>HML</th>\n      <td>0.0275</td>\n    </tr>\n    <tr>\n      <th>RMW</th>\n      <td>0.0448</td>\n    </tr>\n    <tr>\n      <th>CMA</th>\n      <td>0.0333</td>\n    </tr>\n    <tr>\n      <th>UMD</th>\n      <td>0.0655</td>\n    </tr>\n  </tbody>\n</table>\n</div>"
     },
     "execution_count": 24,
     "metadata": {},
     "output_type": "execute_result"
    }
   ],
   "source": [
    "(factors.mean()*12).to_frame('Time Series Premia')"
   ],
   "metadata": {
    "collapsed": false
   }
  },
  {
   "cell_type": "markdown",
   "source": [
    "- Fama-French 3 Factor Premia:"
   ],
   "metadata": {
    "collapsed": false
   }
  },
  {
   "cell_type": "code",
   "execution_count": 25,
   "outputs": [
    {
     "data": {
      "text/plain": "     Cross-Sectional Premia\nMKT                  0.1010\nSMB                 -0.0659\nHML                 -0.0173",
      "text/html": "<div>\n<style scoped>\n    .dataframe tbody tr th:only-of-type {\n        vertical-align: middle;\n    }\n\n    .dataframe tbody tr th {\n        vertical-align: top;\n    }\n\n    .dataframe thead th {\n        text-align: right;\n    }\n</style>\n<table border=\"1\" class=\"dataframe\">\n  <thead>\n    <tr style=\"text-align: right;\">\n      <th></th>\n      <th>Cross-Sectional Premia</th>\n    </tr>\n  </thead>\n  <tbody>\n    <tr>\n      <th>MKT</th>\n      <td>0.1010</td>\n    </tr>\n    <tr>\n      <th>SMB</th>\n      <td>-0.0659</td>\n    </tr>\n    <tr>\n      <th>HML</th>\n      <td>-0.0173</td>\n    </tr>\n  </tbody>\n</table>\n</div>"
     },
     "execution_count": 25,
     "metadata": {},
     "output_type": "execute_result"
    }
   ],
   "source": [
    "cross_premia(FF_3F_cs, FF_3F)"
   ],
   "metadata": {
    "collapsed": false
   }
  },
  {
   "cell_type": "markdown",
   "source": [
    "- Fama-French 5 Factor Premia:"
   ],
   "metadata": {
    "collapsed": false
   }
  },
  {
   "cell_type": "code",
   "execution_count": 26,
   "outputs": [
    {
     "data": {
      "text/plain": "     Cross-Sectional Premia\nMKT                  0.0948\nSMB                 -0.0587\nHML                 -0.0354\nRMW                  0.0368\nCMA                 -0.0154",
      "text/html": "<div>\n<style scoped>\n    .dataframe tbody tr th:only-of-type {\n        vertical-align: middle;\n    }\n\n    .dataframe tbody tr th {\n        vertical-align: top;\n    }\n\n    .dataframe thead th {\n        text-align: right;\n    }\n</style>\n<table border=\"1\" class=\"dataframe\">\n  <thead>\n    <tr style=\"text-align: right;\">\n      <th></th>\n      <th>Cross-Sectional Premia</th>\n    </tr>\n  </thead>\n  <tbody>\n    <tr>\n      <th>MKT</th>\n      <td>0.0948</td>\n    </tr>\n    <tr>\n      <th>SMB</th>\n      <td>-0.0587</td>\n    </tr>\n    <tr>\n      <th>HML</th>\n      <td>-0.0354</td>\n    </tr>\n    <tr>\n      <th>RMW</th>\n      <td>0.0368</td>\n    </tr>\n    <tr>\n      <th>CMA</th>\n      <td>-0.0154</td>\n    </tr>\n  </tbody>\n</table>\n</div>"
     },
     "execution_count": 26,
     "metadata": {},
     "output_type": "execute_result"
    }
   ],
   "source": [
    "cross_premia(FF_5F_cs, FF_5F)"
   ],
   "metadata": {
    "collapsed": false
   }
  },
  {
   "cell_type": "markdown",
   "source": [
    "- AQR Premia:"
   ],
   "metadata": {
    "collapsed": false
   }
  },
  {
   "cell_type": "code",
   "execution_count": 27,
   "outputs": [
    {
     "data": {
      "text/plain": "     Cross-Sectional Premia\nMKT                  0.0866\nHML                 -0.0409\nRMW                  0.0455\nUMD                  0.0553",
      "text/html": "<div>\n<style scoped>\n    .dataframe tbody tr th:only-of-type {\n        vertical-align: middle;\n    }\n\n    .dataframe tbody tr th {\n        vertical-align: top;\n    }\n\n    .dataframe thead th {\n        text-align: right;\n    }\n</style>\n<table border=\"1\" class=\"dataframe\">\n  <thead>\n    <tr style=\"text-align: right;\">\n      <th></th>\n      <th>Cross-Sectional Premia</th>\n    </tr>\n  </thead>\n  <tbody>\n    <tr>\n      <th>MKT</th>\n      <td>0.0866</td>\n    </tr>\n    <tr>\n      <th>HML</th>\n      <td>-0.0409</td>\n    </tr>\n    <tr>\n      <th>RMW</th>\n      <td>0.0455</td>\n    </tr>\n    <tr>\n      <th>UMD</th>\n      <td>0.0553</td>\n    </tr>\n  </tbody>\n</table>\n</div>"
     },
     "execution_count": 27,
     "metadata": {},
     "output_type": "execute_result"
    }
   ],
   "source": [
    "cross_premia(AQR_cs, AQR)"
   ],
   "metadata": {
    "collapsed": false
   }
  },
  {
   "cell_type": "markdown",
   "source": [
    "- The market and RMW factors seem to report similar premia in the cross-sectional analysis when compared to the time-series analysis. However, the other factors seems to vary a lot from the time-series approach.\n",
    "\n",
    "#### (b):"
   ],
   "metadata": {
    "collapsed": false
   }
  },
  {
   "cell_type": "code",
   "execution_count": 28,
   "outputs": [
    {
     "name": "stdout",
     "output_type": "stream",
     "text": [
      "CAPM MAE: 0.0214\n"
     ]
    }
   ],
   "source": [
    "cross_premia_mae(CAPM_cs, CAPM, 'CAPM')"
   ],
   "metadata": {
    "collapsed": false
   }
  },
  {
   "cell_type": "code",
   "execution_count": 29,
   "outputs": [
    {
     "name": "stdout",
     "output_type": "stream",
     "text": [
      "FF 3 Factor MAE: 0.0161\n"
     ]
    }
   ],
   "source": [
    "cross_premia_mae(FF_3F_cs, FF_3F, 'FF 3 Factor')"
   ],
   "metadata": {
    "collapsed": false
   }
  },
  {
   "cell_type": "code",
   "execution_count": 30,
   "outputs": [
    {
     "name": "stdout",
     "output_type": "stream",
     "text": [
      "FF 5 Factor MAE: 0.0136\n"
     ]
    }
   ],
   "source": [
    "cross_premia_mae(FF_5F_cs, FF_5F, 'FF 5 Factor')"
   ],
   "metadata": {
    "collapsed": false
   }
  },
  {
   "cell_type": "code",
   "execution_count": 31,
   "outputs": [
    {
     "name": "stdout",
     "output_type": "stream",
     "text": [
      "AQR MAE: 0.0172\n"
     ]
    }
   ],
   "source": [
    "cross_premia_mae(AQR_cs, AQR, 'AQR')"
   ],
   "metadata": {
    "collapsed": false
   }
  },
  {
   "cell_type": "markdown",
   "source": [
    "- The CAPM model seems to report similar MAE to the time-series alphas. However, all the other models report lower MAE when compared to the time-series alphas."
   ],
   "metadata": {
    "collapsed": false
   }
  }
 ],
 "metadata": {
  "kernelspec": {
   "display_name": "Python 3",
   "language": "python",
   "name": "python3"
  },
  "language_info": {
   "codemirror_mode": {
    "name": "ipython",
    "version": 2
   },
   "file_extension": ".py",
   "mimetype": "text/x-python",
   "name": "python",
   "nbconvert_exporter": "python",
   "pygments_lexer": "ipython2",
   "version": "2.7.6"
  }
 },
 "nbformat": 4,
 "nbformat_minor": 0
}
