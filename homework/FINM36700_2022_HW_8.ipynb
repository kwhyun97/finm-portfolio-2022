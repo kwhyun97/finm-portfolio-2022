{
 "nbformat": 4,
 "nbformat_minor": 0,
 "metadata": {
  "colab": {
   "provenance": [],
   "collapsed_sections": [
    "07LxG7nZp-Bb",
    "uqdokNGO1WGG",
    "eldDgmDBupyf",
    "A6WT6E9hvIwd",
    "bmsaH8pQzO-i",
    "Qd08f9sVDgMl"
   ]
  },
  "kernelspec": {
   "name": "python3",
   "display_name": "Python 3"
  },
  "language_info": {
   "name": "python"
  }
 },
 "cells": [
  {
   "cell_type": "code",
   "source": [
    "import pandas as pd\n",
    "import numpy as np\n",
    "import matplotlib.pyplot as plt\n",
    "import statsmodels.api as sm\n",
    "from arch import arch_model\n",
    "from arch.univariate import GARCH, EWMAVariance \n",
    "from sklearn import linear_model\n",
    "import scipy.stats as stats\n",
    "from statsmodels.regression.rolling import RollingOLS\n",
    "import seaborn as sns\n",
    "import warnings\n",
    "warnings.filterwarnings(\"ignore\")\n",
    "pd.set_option(\"display.precision\", 4)\n",
    "sns.set(rc={'figure.figsize':(15, 10)})"
   ],
   "metadata": {
    "id": "2F8Ip9JmZPDo"
   },
   "execution_count": 1,
   "outputs": []
  },
  {
   "cell_type": "code",
   "source": [
    "ltcm = pd.read_excel('../data/ltcm_exhibits_data.xlsx', sheet_name=1,skiprows=2).rename(columns={\"Unnamed: 0\":\n",
    "                                                                                                      \"Date\"})\\\n",
    "                                                                             .set_index('Date').dropna()\n",
    "SPY = pd.read_excel('../data/gmo_analysis_data.xlsx', sheet_name=2, index_col = 0)\n",
    "rf = pd.read_excel('../data/gmo_analysis_data.xlsx', sheet_name=3, index_col = 0)\n",
    "SPY['rf'] = rf['US3M']\n",
    "SPY_ex = (SPY['SPY']-SPY['rf']).to_frame('SPY Excess Return')\n",
    "SPY_ex.head()"
   ],
   "metadata": {
    "colab": {
     "base_uri": "https://localhost:8080/",
     "height": 381
    },
    "id": "4S3NEt1FZUcc",
    "outputId": "89662b0a-8c6e-41a7-f2c4-e4650da6aeb5"
   },
   "execution_count": 4,
   "outputs": [
    {
     "data": {
      "text/plain": "            SPY Excess Return\n1993-02-28             0.0082\n1993-03-31             0.0199\n1993-04-30            -0.0281\n1993-05-31             0.0244\n1993-06-30             0.0011",
      "text/html": "<div>\n<style scoped>\n    .dataframe tbody tr th:only-of-type {\n        vertical-align: middle;\n    }\n\n    .dataframe tbody tr th {\n        vertical-align: top;\n    }\n\n    .dataframe thead th {\n        text-align: right;\n    }\n</style>\n<table border=\"1\" class=\"dataframe\">\n  <thead>\n    <tr style=\"text-align: right;\">\n      <th></th>\n      <th>SPY Excess Return</th>\n    </tr>\n  </thead>\n  <tbody>\n    <tr>\n      <th>1993-02-28</th>\n      <td>0.0082</td>\n    </tr>\n    <tr>\n      <th>1993-03-31</th>\n      <td>0.0199</td>\n    </tr>\n    <tr>\n      <th>1993-04-30</th>\n      <td>-0.0281</td>\n    </tr>\n    <tr>\n      <th>1993-05-31</th>\n      <td>0.0244</td>\n    </tr>\n    <tr>\n      <th>1993-06-30</th>\n      <td>0.0011</td>\n    </tr>\n  </tbody>\n</table>\n</div>"
     },
     "execution_count": 4,
     "metadata": {},
     "output_type": "execute_result"
    }
   ]
  },
  {
   "cell_type": "code",
   "source": [
    "ltcm.index = SPY_ex.loc['1994-03':'1998-07'].index\n",
    "ltcm_ex = ltcm.subtract(SPY['rf'], axis = 0).dropna().drop(columns=['Index of Net Performance'])\n",
    "ltcm_ex['SPY (excess)']=SPY_ex['SPY Excess Return']\n",
    "ltcm_ex.columns = ['Fund Capital ($billions)', 'Gross Performance (excess)', 'Net Performance (excess)', 'SPY (excess)']\n",
    "ltcm_ex.head()"
   ],
   "metadata": {
    "colab": {
     "base_uri": "https://localhost:8080/",
     "height": 236
    },
    "id": "XE79NiOIdm2O",
    "outputId": "533bae4d-b679-4dc4-e209-bebc164de01b"
   },
   "execution_count": 5,
   "outputs": [
    {
     "data": {
      "text/plain": "            Fund Capital ($billions)  Gross Performance (excess)  \\\n1994-03-31                    1.0970                     -0.0140   \n1994-04-30                    1.0967                      0.0107   \n1994-05-31                    1.1964                      0.0644   \n1994-06-30                    1.1965                     -0.0425   \n1994-07-31                    1.3963                      0.1123   \n\n            Net Performance (excess)  SPY (excess)  \n1994-03-31                   -0.0160       -0.0449  \n1994-04-30                    0.0047        0.0079  \n1994-05-31                    0.0494        0.0123  \n1994-06-30                   -0.0326       -0.0264  \n1994-07-31                    0.0803        0.0287  ",
      "text/html": "<div>\n<style scoped>\n    .dataframe tbody tr th:only-of-type {\n        vertical-align: middle;\n    }\n\n    .dataframe tbody tr th {\n        vertical-align: top;\n    }\n\n    .dataframe thead th {\n        text-align: right;\n    }\n</style>\n<table border=\"1\" class=\"dataframe\">\n  <thead>\n    <tr style=\"text-align: right;\">\n      <th></th>\n      <th>Fund Capital ($billions)</th>\n      <th>Gross Performance (excess)</th>\n      <th>Net Performance (excess)</th>\n      <th>SPY (excess)</th>\n    </tr>\n  </thead>\n  <tbody>\n    <tr>\n      <th>1994-03-31</th>\n      <td>1.0970</td>\n      <td>-0.0140</td>\n      <td>-0.0160</td>\n      <td>-0.0449</td>\n    </tr>\n    <tr>\n      <th>1994-04-30</th>\n      <td>1.0967</td>\n      <td>0.0107</td>\n      <td>0.0047</td>\n      <td>0.0079</td>\n    </tr>\n    <tr>\n      <th>1994-05-31</th>\n      <td>1.1964</td>\n      <td>0.0644</td>\n      <td>0.0494</td>\n      <td>0.0123</td>\n    </tr>\n    <tr>\n      <th>1994-06-30</th>\n      <td>1.1965</td>\n      <td>-0.0425</td>\n      <td>-0.0326</td>\n      <td>-0.0264</td>\n    </tr>\n    <tr>\n      <th>1994-07-31</th>\n      <td>1.3963</td>\n      <td>0.1123</td>\n      <td>0.0803</td>\n      <td>0.0287</td>\n    </tr>\n  </tbody>\n</table>\n</div>"
     },
     "execution_count": 5,
     "metadata": {},
     "output_type": "execute_result"
    }
   ]
  },
  {
   "cell_type": "markdown",
   "source": [
    "# 2. LTCM Risk Decomposition"
   ],
   "metadata": {
    "id": "37AHNPxIdNb1"
   }
  },
  {
   "cell_type": "markdown",
   "source": [
    "### 2.1 Summary Stats\n",
    "\n",
    "\n",
    "\n"
   ],
   "metadata": {
    "id": "iohl_dEgaomE"
   }
  },
  {
   "cell_type": "code",
   "source": [
    "def summary_stats(df, annual_fac=12):\n",
    "    stat_df = (df.mean()*annual_fac).to_frame('Mean')\n",
    "    stat_df['Vol'] = df.std()*np.sqrt(annual_fac)\n",
    "    stat_df['Sharpe'] = stat_df['Mean']/stat_df['Vol']\n",
    "    \n",
    "    return stat_df\n",
    "\n",
    "def tail_risk_stats(df, annual_fac=12):\n",
    "    tr_df = df.skew().to_frame('Skew')\n",
    "    tr_df['Kurtosis'] = df.kurtosis()\n",
    "    tr_df['VaR (0.05)'] = df.quantile(0.05)\n",
    "    return tr_df"
   ],
   "metadata": {
    "id": "Bl1A2frnaLUy"
   },
   "execution_count": 6,
   "outputs": []
  },
  {
   "cell_type": "markdown",
   "source": [
    "(a) For both the gross and net series of LTCM excess returns, report the mean, volatility, and Sharpe ratios. (Annualize them.)"
   ],
   "metadata": {
    "id": "Zo87RxadixWL"
   }
  },
  {
   "cell_type": "code",
   "source": [
    "summary_stats(ltcm_ex[['Gross Performance (excess)','Net Performance (excess)','SPY (excess)']])\n"
   ],
   "metadata": {
    "colab": {
     "base_uri": "https://localhost:8080/",
     "height": 143
    },
    "id": "JDCUGSv_i5Xw",
    "outputId": "5463c994-ceab-4ed4-ea0c-cfeab93b4adc"
   },
   "execution_count": 7,
   "outputs": [
    {
     "data": {
      "text/plain": "                              Mean     Vol  Sharpe\nGross Performance (excess)  0.2421  0.1362  1.7769\nNet Performance (excess)    0.1554  0.1118  1.3901\nSPY (excess)                0.1738  0.1123  1.5479",
      "text/html": "<div>\n<style scoped>\n    .dataframe tbody tr th:only-of-type {\n        vertical-align: middle;\n    }\n\n    .dataframe tbody tr th {\n        vertical-align: top;\n    }\n\n    .dataframe thead th {\n        text-align: right;\n    }\n</style>\n<table border=\"1\" class=\"dataframe\">\n  <thead>\n    <tr style=\"text-align: right;\">\n      <th></th>\n      <th>Mean</th>\n      <th>Vol</th>\n      <th>Sharpe</th>\n    </tr>\n  </thead>\n  <tbody>\n    <tr>\n      <th>Gross Performance (excess)</th>\n      <td>0.2421</td>\n      <td>0.1362</td>\n      <td>1.7769</td>\n    </tr>\n    <tr>\n      <th>Net Performance (excess)</th>\n      <td>0.1554</td>\n      <td>0.1118</td>\n      <td>1.3901</td>\n    </tr>\n    <tr>\n      <th>SPY (excess)</th>\n      <td>0.1738</td>\n      <td>0.1123</td>\n      <td>1.5479</td>\n    </tr>\n  </tbody>\n</table>\n</div>"
     },
     "execution_count": 7,
     "metadata": {},
     "output_type": "execute_result"
    }
   ]
  },
  {
   "cell_type": "markdown",
   "source": [
    "(b) Report the skewness, kurtosis, and (historic) VaR(.05)."
   ],
   "metadata": {
    "id": "QX8yg7AhjTOM"
   }
  },
  {
   "cell_type": "code",
   "source": [
    "tail_risk_stats(ltcm_ex[['Gross Performance (excess)','Net Performance (excess)','SPY (excess)']])"
   ],
   "metadata": {
    "colab": {
     "base_uri": "https://localhost:8080/",
     "height": 143
    },
    "id": "0G9sJB9LjIqd",
    "outputId": "958b1614-5756-4402-a695-a1aed9ce574a"
   },
   "execution_count": 8,
   "outputs": [
    {
     "data": {
      "text/plain": "                              Skew  Kurtosis  VaR (0.05)\nGross Performance (excess) -0.2877    1.5866     -0.0304\nNet Performance (excess)   -0.8102    2.9269     -0.0264\nSPY (excess)               -0.4335   -0.3620     -0.0464",
      "text/html": "<div>\n<style scoped>\n    .dataframe tbody tr th:only-of-type {\n        vertical-align: middle;\n    }\n\n    .dataframe tbody tr th {\n        vertical-align: top;\n    }\n\n    .dataframe thead th {\n        text-align: right;\n    }\n</style>\n<table border=\"1\" class=\"dataframe\">\n  <thead>\n    <tr style=\"text-align: right;\">\n      <th></th>\n      <th>Skew</th>\n      <th>Kurtosis</th>\n      <th>VaR (0.05)</th>\n    </tr>\n  </thead>\n  <tbody>\n    <tr>\n      <th>Gross Performance (excess)</th>\n      <td>-0.2877</td>\n      <td>1.5866</td>\n      <td>-0.0304</td>\n    </tr>\n    <tr>\n      <th>Net Performance (excess)</th>\n      <td>-0.8102</td>\n      <td>2.9269</td>\n      <td>-0.0264</td>\n    </tr>\n    <tr>\n      <th>SPY (excess)</th>\n      <td>-0.4335</td>\n      <td>-0.3620</td>\n      <td>-0.0464</td>\n    </tr>\n  </tbody>\n</table>\n</div>"
     },
     "execution_count": 8,
     "metadata": {},
     "output_type": "execute_result"
    }
   ]
  },
  {
   "cell_type": "markdown",
   "source": [
    "(c) Comment on how these stats compare to SPY and other assets we have seen. How much do they differ between gross and net?"
   ],
   "metadata": {
    "id": "deZInlZ-kv3V"
   }
  },
  {
   "cell_type": "markdown",
   "source": [
    "- Gross excess return of LTCM has higher mean and similar volatility with SPY. In general, LTCM outperforms SPY with higher Sharpe ratio than SPY and lower tail risks. \n",
    "- The difference between gross and net excess return is not large. However, the sharpe ratio of net excess performance is a bit lower than SPY's."
   ],
   "metadata": {
    "id": "vt7iA9hklhxA"
   }
  },
  {
   "cell_type": "markdown",
   "source": [
    "### 2.2 Using the series of net LTCM excess returns, denoted $\\widetilde{r}^{LTCM}$, estimate the following regression:\n",
    "\n",
    "\n",
    "> $$\\widetilde{r}^{LTCM} = \\alpha +\\beta^m\\widetilde{r}_t^{m}+\\epsilon_t$$\n",
    "\n"
   ],
   "metadata": {
    "id": "TsLqYTIVnF04"
   }
  },
  {
   "cell_type": "code",
   "source": [
    "def regress(y, X, intercept = True, annual_fac=12):\n",
    "    if intercept == True:\n",
    "        X_ = sm.add_constant(X)\n",
    "        reg = sm.OLS(y, X_).fit()\n",
    "        reg_df = reg.params.to_frame('Regression Parameters')\n",
    "        reg_df.loc['$R^2$'] = reg.rsquared\n",
    "        reg_df.loc['const'] *= annual_fac\n",
    "    else:\n",
    "        reg = sm.OLS(y, X).fit()\n",
    "        reg_df = reg.params.to_frame('Regression Parameters')\n",
    "        reg_df.loc['$R^2$'] = reg.rsquared\n",
    "    \n",
    "    return reg_df"
   ],
   "metadata": {
    "id": "TO76jVjGpPvn"
   },
   "execution_count": 9,
   "outputs": []
  },
  {
   "cell_type": "markdown",
   "source": [
    "(a) Report $α$ and $β_m$. Report the $R^2$ stat."
   ],
   "metadata": {
    "id": "bBAss8cposP8"
   }
  },
  {
   "cell_type": "code",
   "source": [
    "regress(ltcm_ex['Net Performance (excess)'], ltcm_ex['SPY (excess)']) "
   ],
   "metadata": {
    "colab": {
     "base_uri": "https://localhost:8080/",
     "height": 143
    },
    "id": "9BFonCR7jXe9",
    "outputId": "490f8516-e360-4cd5-d4a1-80e26ce209b7"
   },
   "execution_count": 10,
   "outputs": [
    {
     "data": {
      "text/plain": "              Regression Parameters\nconst                        0.1315\nSPY (excess)                 0.1371\n$R^2$                        0.0190",
      "text/html": "<div>\n<style scoped>\n    .dataframe tbody tr th:only-of-type {\n        vertical-align: middle;\n    }\n\n    .dataframe tbody tr th {\n        vertical-align: top;\n    }\n\n    .dataframe thead th {\n        text-align: right;\n    }\n</style>\n<table border=\"1\" class=\"dataframe\">\n  <thead>\n    <tr style=\"text-align: right;\">\n      <th></th>\n      <th>Regression Parameters</th>\n    </tr>\n  </thead>\n  <tbody>\n    <tr>\n      <th>const</th>\n      <td>0.1315</td>\n    </tr>\n    <tr>\n      <th>SPY (excess)</th>\n      <td>0.1371</td>\n    </tr>\n    <tr>\n      <th>$R^2$</th>\n      <td>0.0190</td>\n    </tr>\n  </tbody>\n</table>\n</div>"
     },
     "execution_count": 10,
     "metadata": {},
     "output_type": "execute_result"
    }
   ]
  },
  {
   "cell_type": "markdown",
   "source": [
    "(b) From this regression, does LTCM appear to be a “closet indexer”?"
   ],
   "metadata": {
    "id": "27h6Tnvtqdzk"
   }
  },
  {
   "cell_type": "markdown",
   "source": [
    "Since beta is small, the low correlation between market LTCM and market is also low and LTCM's portfolio is much different from the market. Then LTCM cannot be a closet indexer."
   ],
   "metadata": {
    "id": "2Pm8ugneqozI"
   }
  },
  {
   "cell_type": "markdown",
   "source": [
    "(c) From the regression, does LTCM appear to deliver excess returns beyond the risk premium we expect from market exposure?"
   ],
   "metadata": {
    "id": "akZOxJDorKbk"
   }
  },
  {
   "cell_type": "markdown",
   "source": [
    "The constant is 0.1315 and beta is positive which show that LTCM appear to deliver excess returns largely beyong the risk premium that we expect from market exposure."
   ],
   "metadata": {
    "id": "Bw7xnm9YrVaD"
   }
  },
  {
   "cell_type": "markdown",
   "source": [
    "### 2.3 Let’s check for non-linear market exposure. Run the following regression on LTCM’s net excess returns:\n",
    "> $$\\widetilde{r}^{LTCM} = \\alpha +\\beta_1\\widetilde{r}_t^{m}+\\beta_2(\\widetilde{r}_t^{m})^2+\\epsilon_t$$"
   ],
   "metadata": {
    "id": "07LxG7nZp-Bb"
   }
  },
  {
   "cell_type": "markdown",
   "source": [
    "(a) Report $β_1$, $β_2$, and the $R^2$ stat."
   ],
   "metadata": {
    "id": "6KQ2cCFAr4IT"
   }
  },
  {
   "cell_type": "code",
   "source": [
    "ltcm_ex['SPY (excess) squared'] = ltcm_ex['SPY (excess)'] **2\n",
    "regress(ltcm_ex['Net Performance (excess)'], ltcm_ex[['SPY (excess)','SPY (excess) squared']])  "
   ],
   "metadata": {
    "colab": {
     "base_uri": "https://localhost:8080/",
     "height": 175
    },
    "id": "lenRHR28qA7c",
    "outputId": "249c7445-ab92-44fb-f2f2-ad94e0c2973b"
   },
   "execution_count": 11,
   "outputs": [
    {
     "data": {
      "text/plain": "                      Regression Parameters\nconst                                0.1550\nSPY (excess)                         0.1669\nSPY (excess) squared                -1.9267\n$R^2$                                0.0243",
      "text/html": "<div>\n<style scoped>\n    .dataframe tbody tr th:only-of-type {\n        vertical-align: middle;\n    }\n\n    .dataframe tbody tr th {\n        vertical-align: top;\n    }\n\n    .dataframe thead th {\n        text-align: right;\n    }\n</style>\n<table border=\"1\" class=\"dataframe\">\n  <thead>\n    <tr style=\"text-align: right;\">\n      <th></th>\n      <th>Regression Parameters</th>\n    </tr>\n  </thead>\n  <tbody>\n    <tr>\n      <th>const</th>\n      <td>0.1550</td>\n    </tr>\n    <tr>\n      <th>SPY (excess)</th>\n      <td>0.1669</td>\n    </tr>\n    <tr>\n      <th>SPY (excess) squared</th>\n      <td>-1.9267</td>\n    </tr>\n    <tr>\n      <th>$R^2$</th>\n      <td>0.0243</td>\n    </tr>\n  </tbody>\n</table>\n</div>"
     },
     "execution_count": 11,
     "metadata": {},
     "output_type": "execute_result"
    }
   ]
  },
  {
   "cell_type": "markdown",
   "source": [
    "(b) Does the quadratic market factor do much to increase the overall LTCM variation explained by the market?"
   ],
   "metadata": {
    "id": "6HxG_xrysrR7"
   }
  },
  {
   "cell_type": "markdown",
   "source": [
    "The R squared only increases 0.0053 after including quadratic market factor regession compareed to single factor regression. Thus, the quandratic market factor does not increase the overall LTCM vairationn explained by the market that much."
   ],
   "metadata": {
    "id": "Ga9Q9b5-ss02"
   }
  },
  {
   "cell_type": "markdown",
   "source": [
    "(c) From the regression evidence, does LTCM’s market exposure behave as if it is long market options or short market options?"
   ],
   "metadata": {
    "id": "73U1EHc8stgo"
   }
  },
  {
   "cell_type": "markdown",
   "source": [
    "LTCM's negative market exposure to quadratic market factor behaves like shorting market options."
   ],
   "metadata": {
    "id": "tI0kpNS5tZBR"
   }
  },
  {
   "cell_type": "markdown",
   "source": [
    "(d) Should we describe LTCM as being positively or negatively exposed to market volatility?"
   ],
   "metadata": {
    "id": "IXwx31hqtZc3"
   }
  },
  {
   "cell_type": "markdown",
   "source": [
    "LTCM is negatively exposed to market volatility with negative quadratic exposure."
   ],
   "metadata": {
    "id": "e419uMzNtaAU"
   }
  },
  {
   "cell_type": "markdown",
   "source": [
    "### 2.4 Let’s try to pinpoint the nature of LTCM’s nonlinear exposure. Does it come more from exposure to up-markets or down-markets? Run the following regression on LTCM’s net excess returns:\n",
    "\n",
    "> $\\widetilde{r}_t^{LTCM} = \\alpha +\\beta\\widetilde{r}_t^{m}+\\beta_u max(\\widetilde{r}_t^{m}-k_1,0)+\\beta_d max(k_2-\\widetilde{r}_t^{m},0)+\\epsilon_t$\n",
    "\n",
    "where k1 = .03 and k2 = −.03. (This is roughly one standard deviation of r ̃m.)\n"
   ],
   "metadata": {
    "id": "uqdokNGO1WGG"
   }
  },
  {
   "cell_type": "markdown",
   "source": [
    "(a) Report $β$, $β_u$, $β_d$, and the $R^2$ stat."
   ],
   "metadata": {
    "id": "cRFpoTLa26uo"
   }
  },
  {
   "cell_type": "code",
   "source": [
    "#clip is threshold which limit the boundary to a and b in clip(a,b)\n",
    "ltcm_ex['Up'] = (ltcm_ex['SPY (excess)'] - 0.03).clip(0) \n",
    "ltcm_ex['Down'] = (-0.03 - ltcm_ex['SPY (excess)']).clip(0)\n",
    "regress(ltcm_ex['Net Performance (excess)'], ltcm_ex[['SPY (excess)','Up','Down']])"
   ],
   "metadata": {
    "id": "x31nwKK1sn1o",
    "colab": {
     "base_uri": "https://localhost:8080/",
     "height": 206
    },
    "outputId": "f3f9ef16-b34d-43b1-d874-9942eff5c9e1"
   },
   "execution_count": 12,
   "outputs": [
    {
     "data": {
      "text/plain": "              Regression Parameters\nconst                        0.1012\nSPY (excess)                 0.4666\nUp                          -0.7821\nDown                         1.2896\n$R^2$                        0.0555",
      "text/html": "<div>\n<style scoped>\n    .dataframe tbody tr th:only-of-type {\n        vertical-align: middle;\n    }\n\n    .dataframe tbody tr th {\n        vertical-align: top;\n    }\n\n    .dataframe thead th {\n        text-align: right;\n    }\n</style>\n<table border=\"1\" class=\"dataframe\">\n  <thead>\n    <tr style=\"text-align: right;\">\n      <th></th>\n      <th>Regression Parameters</th>\n    </tr>\n  </thead>\n  <tbody>\n    <tr>\n      <th>const</th>\n      <td>0.1012</td>\n    </tr>\n    <tr>\n      <th>SPY (excess)</th>\n      <td>0.4666</td>\n    </tr>\n    <tr>\n      <th>Up</th>\n      <td>-0.7821</td>\n    </tr>\n    <tr>\n      <th>Down</th>\n      <td>1.2896</td>\n    </tr>\n    <tr>\n      <th>$R^2$</th>\n      <td>0.0555</td>\n    </tr>\n  </tbody>\n</table>\n</div>"
     },
     "execution_count": 12,
     "metadata": {},
     "output_type": "execute_result"
    }
   ]
  },
  {
   "cell_type": "markdown",
   "source": [
    "(b) Is LTCM long or short the call-like factor? And the put-like factor?"
   ],
   "metadata": {
    "id": "LcUHMWIO3Br6"
   }
  },
  {
   "cell_type": "markdown",
   "source": [
    "LTCM short the call-like factor and long the put-like factor."
   ],
   "metadata": {
    "id": "ZrLE2wxJ3JbL"
   }
  },
  {
   "cell_type": "markdown",
   "source": [
    "(c) Which factor moves LTCM more, the call-like factor, or the put-like factor?"
   ],
   "metadata": {
    "id": "Cuhw-Rln3SF0"
   }
  },
  {
   "cell_type": "markdown",
   "source": [
    "The put-like factor's coefficient has the largest absolute value or magnitude so it moves LTCM more"
   ],
   "metadata": {
    "id": "ADpfPCci3U23"
   }
  },
  {
   "cell_type": "markdown",
   "source": [
    "(d) In the previous problem, you commented on whether LTCM is positively or negatively exposed to market volatility. Using this current regression, does this volatility exposure come more from being long the market’s upside? Short the market’s downside? Something else?"
   ],
   "metadata": {
    "id": "zfY65q0x3ihO"
   }
  },
  {
   "cell_type": "markdown",
   "source": [
    "Since LTCM is negatively exposed to market volatility, the volatility exposeure comes mroe from short the market's upside."
   ],
   "metadata": {
    "id": "ZJ9V6lBR3uqx"
   }
  },
  {
   "cell_type": "markdown",
   "source": [
    "# 3.The FX Carry Trade"
   ],
   "metadata": {
    "id": "LXuRmPgmuj2R"
   }
  },
  {
   "cell_type": "markdown",
   "source": [
    "### Read Data"
   ],
   "metadata": {
    "id": "eldDgmDBupyf"
   }
  },
  {
   "cell_type": "code",
   "source": [
    "rf = pd.read_excel('../data/fx_carry_data.xlsx', sheet_name = 1).set_index('DATE')\n",
    "\n",
    "log_rf = np.log(1 + rf)\n",
    "\n",
    "log_rf.head()"
   ],
   "metadata": {
    "colab": {
     "base_uri": "https://localhost:8080/",
     "height": 238
    },
    "id": "zVo4uSTuu3nX",
    "outputId": "af393dc9-9026-45b4-ff2d-1a16ce88b260"
   },
   "execution_count": 14,
   "outputs": [
    {
     "data": {
      "text/plain": "             USD1M   GBP1M   EUR1M   CHF1M       JPY1M\nDATE                                                  \n1999-01-31  0.0041  0.0049  0.0026  0.0010  3.3458e-04\n1999-02-28  0.0041  0.0046  0.0026  0.0010  2.3226e-04\n1999-03-31  0.0041  0.0044  0.0025  0.0010  1.4270e-04\n1999-04-30  0.0041  0.0044  0.0021  0.0008  9.8953e-05\n1999-05-31  0.0041  0.0044  0.0021  0.0008  7.4997e-05",
      "text/html": "<div>\n<style scoped>\n    .dataframe tbody tr th:only-of-type {\n        vertical-align: middle;\n    }\n\n    .dataframe tbody tr th {\n        vertical-align: top;\n    }\n\n    .dataframe thead th {\n        text-align: right;\n    }\n</style>\n<table border=\"1\" class=\"dataframe\">\n  <thead>\n    <tr style=\"text-align: right;\">\n      <th></th>\n      <th>USD1M</th>\n      <th>GBP1M</th>\n      <th>EUR1M</th>\n      <th>CHF1M</th>\n      <th>JPY1M</th>\n    </tr>\n    <tr>\n      <th>DATE</th>\n      <th></th>\n      <th></th>\n      <th></th>\n      <th></th>\n      <th></th>\n    </tr>\n  </thead>\n  <tbody>\n    <tr>\n      <th>1999-01-31</th>\n      <td>0.0041</td>\n      <td>0.0049</td>\n      <td>0.0026</td>\n      <td>0.0010</td>\n      <td>3.3458e-04</td>\n    </tr>\n    <tr>\n      <th>1999-02-28</th>\n      <td>0.0041</td>\n      <td>0.0046</td>\n      <td>0.0026</td>\n      <td>0.0010</td>\n      <td>2.3226e-04</td>\n    </tr>\n    <tr>\n      <th>1999-03-31</th>\n      <td>0.0041</td>\n      <td>0.0044</td>\n      <td>0.0025</td>\n      <td>0.0010</td>\n      <td>1.4270e-04</td>\n    </tr>\n    <tr>\n      <th>1999-04-30</th>\n      <td>0.0041</td>\n      <td>0.0044</td>\n      <td>0.0021</td>\n      <td>0.0008</td>\n      <td>9.8953e-05</td>\n    </tr>\n    <tr>\n      <th>1999-05-31</th>\n      <td>0.0041</td>\n      <td>0.0044</td>\n      <td>0.0021</td>\n      <td>0.0008</td>\n      <td>7.4997e-05</td>\n    </tr>\n  </tbody>\n</table>\n</div>"
     },
     "execution_count": 14,
     "metadata": {},
     "output_type": "execute_result"
    }
   ]
  },
  {
   "cell_type": "code",
   "source": [
    "fx = pd.read_excel('../data/fx_carry_data.xlsx', sheet_name = 2).set_index('DATE')\n",
    "\n",
    "log_fx = np.log(fx)\n",
    "\n",
    "log_fx.head()"
   ],
   "metadata": {
    "colab": {
     "base_uri": "https://localhost:8080/",
     "height": 238
    },
    "id": "J4AltMJpu-KV",
    "outputId": "26ea6c2a-fb79-4849-b798-ba13acbaba39"
   },
   "execution_count": 15,
   "outputs": [
    {
     "data": {
      "text/plain": "              USUK    USEU    USSZ    USJP\nDATE                                      \n1999-01-31  0.4982  0.1285 -0.3484 -4.7536\n1999-02-28  0.4717  0.0949 -0.3712 -4.7766\n1999-03-31  0.4787  0.0777 -0.3904 -4.7743\n1999-04-30  0.4753  0.0549 -0.4225 -4.7827\n1999-05-31  0.4713  0.0413 -0.4240 -4.7948",
      "text/html": "<div>\n<style scoped>\n    .dataframe tbody tr th:only-of-type {\n        vertical-align: middle;\n    }\n\n    .dataframe tbody tr th {\n        vertical-align: top;\n    }\n\n    .dataframe thead th {\n        text-align: right;\n    }\n</style>\n<table border=\"1\" class=\"dataframe\">\n  <thead>\n    <tr style=\"text-align: right;\">\n      <th></th>\n      <th>USUK</th>\n      <th>USEU</th>\n      <th>USSZ</th>\n      <th>USJP</th>\n    </tr>\n    <tr>\n      <th>DATE</th>\n      <th></th>\n      <th></th>\n      <th></th>\n      <th></th>\n    </tr>\n  </thead>\n  <tbody>\n    <tr>\n      <th>1999-01-31</th>\n      <td>0.4982</td>\n      <td>0.1285</td>\n      <td>-0.3484</td>\n      <td>-4.7536</td>\n    </tr>\n    <tr>\n      <th>1999-02-28</th>\n      <td>0.4717</td>\n      <td>0.0949</td>\n      <td>-0.3712</td>\n      <td>-4.7766</td>\n    </tr>\n    <tr>\n      <th>1999-03-31</th>\n      <td>0.4787</td>\n      <td>0.0777</td>\n      <td>-0.3904</td>\n      <td>-4.7743</td>\n    </tr>\n    <tr>\n      <th>1999-04-30</th>\n      <td>0.4753</td>\n      <td>0.0549</td>\n      <td>-0.4225</td>\n      <td>-4.7827</td>\n    </tr>\n    <tr>\n      <th>1999-05-31</th>\n      <td>0.4713</td>\n      <td>0.0413</td>\n      <td>-0.4240</td>\n      <td>-4.7948</td>\n    </tr>\n  </tbody>\n</table>\n</div>"
     },
     "execution_count": 15,
     "metadata": {},
     "output_type": "execute_result"
    }
   ]
  },
  {
   "cell_type": "markdown",
   "source": [
    "### 3.1 The Static Carry Trade"
   ],
   "metadata": {
    "id": "A6WT6E9hvIwd"
   }
  },
  {
   "cell_type": "code",
   "source": [
    "log_rf_ex = log_rf.subtract(log_rf['USD1M'], axis=0)[log_rf.columns[1:]]\n",
    "\n",
    "log_rf_ex_col = log_rf_ex.copy()\n",
    "\n",
    "log_rf_ex_col.columns = log_fx.columns\n",
    "\n",
    "ret = (log_rf_ex_col.shift() + log_fx.diff()).dropna()\n",
    "\n",
    "ret.head()"
   ],
   "metadata": {
    "colab": {
     "base_uri": "https://localhost:8080/",
     "height": 238
    },
    "id": "Q9CnfTi3vYED",
    "outputId": "d8cee2b1-4ff3-4d50-ad6b-5a8cdd35f797"
   },
   "execution_count": 16,
   "outputs": [
    {
     "data": {
      "text/plain": "              USUK    USEU    USSZ    USJP\nDATE                                      \n1999-02-28 -0.0257 -0.0351 -0.0259 -0.0268\n1999-03-31  0.0075 -0.0187 -0.0222 -0.0016\n1999-04-30 -0.0031 -0.0245 -0.0352 -0.0124\n1999-05-31 -0.0037 -0.0155 -0.0048 -0.0160\n1999-06-30 -0.0157 -0.0128 -0.0211 -0.0045",
      "text/html": "<div>\n<style scoped>\n    .dataframe tbody tr th:only-of-type {\n        vertical-align: middle;\n    }\n\n    .dataframe tbody tr th {\n        vertical-align: top;\n    }\n\n    .dataframe thead th {\n        text-align: right;\n    }\n</style>\n<table border=\"1\" class=\"dataframe\">\n  <thead>\n    <tr style=\"text-align: right;\">\n      <th></th>\n      <th>USUK</th>\n      <th>USEU</th>\n      <th>USSZ</th>\n      <th>USJP</th>\n    </tr>\n    <tr>\n      <th>DATE</th>\n      <th></th>\n      <th></th>\n      <th></th>\n      <th></th>\n    </tr>\n  </thead>\n  <tbody>\n    <tr>\n      <th>1999-02-28</th>\n      <td>-0.0257</td>\n      <td>-0.0351</td>\n      <td>-0.0259</td>\n      <td>-0.0268</td>\n    </tr>\n    <tr>\n      <th>1999-03-31</th>\n      <td>0.0075</td>\n      <td>-0.0187</td>\n      <td>-0.0222</td>\n      <td>-0.0016</td>\n    </tr>\n    <tr>\n      <th>1999-04-30</th>\n      <td>-0.0031</td>\n      <td>-0.0245</td>\n      <td>-0.0352</td>\n      <td>-0.0124</td>\n    </tr>\n    <tr>\n      <th>1999-05-31</th>\n      <td>-0.0037</td>\n      <td>-0.0155</td>\n      <td>-0.0048</td>\n      <td>-0.0160</td>\n    </tr>\n    <tr>\n      <th>1999-06-30</th>\n      <td>-0.0157</td>\n      <td>-0.0128</td>\n      <td>-0.0211</td>\n      <td>-0.0045</td>\n    </tr>\n  </tbody>\n</table>\n</div>"
     },
     "execution_count": 16,
     "metadata": {},
     "output_type": "execute_result"
    }
   ]
  },
  {
   "cell_type": "markdown",
   "source": [
    "For each foreign currency, i, calculate the excess log return series, ˜rt+1. Report the following\n",
    "stats, (based on the excess log returns.) Annualize them."
   ],
   "metadata": {
    "id": "WFTQzymcv-tK"
   }
  },
  {
   "cell_type": "code",
   "source": [
    "summary_stats(ret)"
   ],
   "metadata": {
    "id": "vMkDNZIjvjgK",
    "outputId": "51aa07c0-8c88-44fc-f856-830e04d646c2",
    "colab": {
     "base_uri": "https://localhost:8080/",
     "height": 175
    }
   },
   "execution_count": 17,
   "outputs": [
    {
     "data": {
      "text/plain": "        Mean     Vol  Sharpe\nUSUK -0.0035  0.0863 -0.0406\nUSEU -0.0044  0.0947 -0.0459\nUSSZ  0.0043  0.0988  0.0437\nUSJP -0.0174  0.0915 -0.1903",
      "text/html": "<div>\n<style scoped>\n    .dataframe tbody tr th:only-of-type {\n        vertical-align: middle;\n    }\n\n    .dataframe tbody tr th {\n        vertical-align: top;\n    }\n\n    .dataframe thead th {\n        text-align: right;\n    }\n</style>\n<table border=\"1\" class=\"dataframe\">\n  <thead>\n    <tr style=\"text-align: right;\">\n      <th></th>\n      <th>Mean</th>\n      <th>Vol</th>\n      <th>Sharpe</th>\n    </tr>\n  </thead>\n  <tbody>\n    <tr>\n      <th>USUK</th>\n      <td>-0.0035</td>\n      <td>0.0863</td>\n      <td>-0.0406</td>\n    </tr>\n    <tr>\n      <th>USEU</th>\n      <td>-0.0044</td>\n      <td>0.0947</td>\n      <td>-0.0459</td>\n    </tr>\n    <tr>\n      <th>USSZ</th>\n      <td>0.0043</td>\n      <td>0.0988</td>\n      <td>0.0437</td>\n    </tr>\n    <tr>\n      <th>USJP</th>\n      <td>-0.0174</td>\n      <td>0.0915</td>\n      <td>-0.1903</td>\n    </tr>\n  </tbody>\n</table>\n</div>"
     },
     "execution_count": 17,
     "metadata": {},
     "output_type": "execute_result"
    }
   ]
  },
  {
   "cell_type": "markdown",
   "source": [
    "What differences do you see across currencies?"
   ],
   "metadata": {
    "id": "D7lHES68vrtY"
   }
  },
  {
   "cell_type": "markdown",
   "source": [
    "The volatility does not have much differences across currencies. The mean returns are very small and USUK, USEU, and USJP even have negative mean return. Across those pairs, USD and JPY has the largest sharpe ratio which implies its largest magnitude in trading comparing to other currencies. "
   ],
   "metadata": {
    "id": "GYrcBoaawBwE"
   }
  },
  {
   "cell_type": "markdown",
   "source": [
    "### 3.2 Implications for UIP"
   ],
   "metadata": {
    "id": "bmsaH8pQzO-i"
   }
  },
  {
   "cell_type": "markdown",
   "source": [
    "(a) Do any of these stats contradict the (log version) of Uncovered Interest Parity (UIP)?"
   ],
   "metadata": {
    "id": "nopyt1lxzUtW"
   }
  },
  {
   "cell_type": "markdown",
   "source": [
    "Yes, some of these stats do contradict the log version of the Uncovereed Interest Parity. The USJP has a mean return of -0.0174 which is quite different from zero. Thus, it violates the UIP. For other currencies, their mean returns are very close to zero, so we can treat them as zero, or they can be treated as evidence of contradicting the UIP. "
   ],
   "metadata": {
    "id": "2teBlIDjzaIx"
   }
  },
  {
   "cell_type": "markdown",
   "source": [
    "(b) A long position in which foreign currency offered the best Sharpe ratio over the sample?"
   ],
   "metadata": {
    "id": "-mf0HR9xDaG5"
   }
  },
  {
   "cell_type": "markdown",
   "source": [
    "The best trade would be short JPY and long USD."
   ],
   "metadata": {
    "id": "y_0Fl-HnDgvk"
   }
  },
  {
   "cell_type": "markdown",
   "source": [
    "(c) Are there any foreign currencies for which a long position earned a negative excess return\n",
    "(in USD) over the sample?"
   ],
   "metadata": {
    "id": "VbD5mMkEQ4y0"
   }
  },
  {
   "cell_type": "markdown",
   "source": [
    "Yes, the long position of UK, EU, and JP currencies will earn a negative excess return in USD. In the table, they have negative mean return. "
   ],
   "metadata": {
    "id": "ymeJ9jJQQ75n"
   }
  },
  {
   "cell_type": "markdown",
   "source": [
    "### 3.3 Predicting FX"
   ],
   "metadata": {
    "id": "Qd08f9sVDgMl"
   }
  },
  {
   "cell_type": "markdown",
   "source": [
    "(a)"
   ],
   "metadata": {
    "id": "n0RzMz0aMmEg"
   }
  },
  {
   "cell_type": "code",
   "source": [
    "ys = log_fx.diff().dropna()\n",
    "Xs = -log_rf_ex.shift().dropna()\n",
    "\n",
    "fx_reg_pred = pd.DataFrame(data = None, index = [r'$\\alpha^{i}$',r'$\\beta^{i}$',r'$R^{2}$'])\n",
    "\n",
    "for i in range(0,len(ys.columns)):\n",
    "    fx_reg_pred[ys.columns[i]] = regress(ys[ys.columns[i]],Xs[Xs.columns[i]])['Regression Parameters'].values\n",
    "    \n",
    "fx_reg_pred"
   ],
   "metadata": {
    "id": "3IcWLq81MksV",
    "colab": {
     "base_uri": "https://localhost:8080/",
     "height": 143
    },
    "outputId": "102e5934-1bb6-40c8-9630-ca44bc63d71d"
   },
   "execution_count": 18,
   "outputs": [
    {
     "data": {
      "text/plain": "                USUK    USEU    USSZ    USJP\n$\\alpha^{i}$ -0.0059  0.0070  0.0436 -0.0060\n$\\beta^{i}$   0.4858 -1.2564 -1.6466  0.3715\n$R^{2}$       0.0004  0.0026  0.0039  0.0005",
      "text/html": "<div>\n<style scoped>\n    .dataframe tbody tr th:only-of-type {\n        vertical-align: middle;\n    }\n\n    .dataframe tbody tr th {\n        vertical-align: top;\n    }\n\n    .dataframe thead th {\n        text-align: right;\n    }\n</style>\n<table border=\"1\" class=\"dataframe\">\n  <thead>\n    <tr style=\"text-align: right;\">\n      <th></th>\n      <th>USUK</th>\n      <th>USEU</th>\n      <th>USSZ</th>\n      <th>USJP</th>\n    </tr>\n  </thead>\n  <tbody>\n    <tr>\n      <th>$\\alpha^{i}$</th>\n      <td>-0.0059</td>\n      <td>0.0070</td>\n      <td>0.0436</td>\n      <td>-0.0060</td>\n    </tr>\n    <tr>\n      <th>$\\beta^{i}$</th>\n      <td>0.4858</td>\n      <td>-1.2564</td>\n      <td>-1.6466</td>\n      <td>0.3715</td>\n    </tr>\n    <tr>\n      <th>$R^{2}$</th>\n      <td>0.0004</td>\n      <td>0.0026</td>\n      <td>0.0039</td>\n      <td>0.0005</td>\n    </tr>\n  </tbody>\n</table>\n</div>"
     },
     "execution_count": 18,
     "metadata": {},
     "output_type": "execute_result"
    }
   ]
  },
  {
   "cell_type": "markdown",
   "source": [
    "(b) Suppose the foreign risk-free rate increases relative to the US rate.\n",
    "\n",
    "i. For which foreign currencies would we predict a relative strengthening of the USD in\n",
    "the following period?"
   ],
   "metadata": {
    "id": "q7L2acT_Q_Yi"
   }
  },
  {
   "cell_type": "markdown",
   "source": [
    "UK and JP currency will be predicted to have a relative strengthening of the USD in the following period"
   ],
   "metadata": {
    "id": "MzSojQs_RFwG"
   }
  },
  {
   "cell_type": "markdown",
   "source": [
    "ii. For which currencies would we predict relative weakening of the USD in the following\n",
    "period?"
   ],
   "metadata": {
    "id": "WMnAcpGWR9VF"
   }
  },
  {
   "cell_type": "markdown",
   "source": [
    "EU and SZ currency will be predicted to have a relative weakening of the USD in the following period"
   ],
   "metadata": {
    "id": "rF_tX25_R-fw"
   }
  },
  {
   "cell_type": "markdown",
   "source": [
    "iii. This FX predictability is strongest in the case of which foreign currency?"
   ],
   "metadata": {
    "id": "7XQiALIgR-2m"
   }
  },
  {
   "cell_type": "markdown",
   "source": [
    "This FX predictability is strongest in the case of SZ currency. "
   ],
   "metadata": {
    "id": "6YnOxXEUSCmM"
   }
  },
  {
   "cell_type": "markdown",
   "source": [
    "### 3.4 Dynamtic Carry Trade"
   ],
   "metadata": {
    "id": "TJOw8DQcNiSX"
   }
  },
  {
   "cell_type": "code",
   "source": [
    "alphas = (fx_reg_pred.loc[r'$\\alpha^{i}$'] / 12)\n",
    "betas = fx_reg_pred.loc[r'$\\beta^{i}$']\n",
    "Xs.columns = fx_reg_pred.columns\n",
    "\n",
    "ret_ex_forecast = alphas.values + ((betas - 1) * Xs)\n",
    "\n",
    "ret_ex_forecast.head()"
   ],
   "metadata": {
    "id": "a7gIQPykNksH",
    "colab": {
     "base_uri": "https://localhost:8080/",
     "height": 238
    },
    "outputId": "5e7776da-b134-4653-af0a-121b000b2ad5"
   },
   "execution_count": 19,
   "outputs": [
    {
     "data": {
      "text/plain": "                  USUK    USEU    USSZ    USJP\nDATE                                          \n1999-02-28 -6.8394e-05 -0.0028 -0.0046 -0.0029\n1999-03-31 -2.3875e-04 -0.0029 -0.0046 -0.0029\n1999-04-30 -3.2543e-04 -0.0031 -0.0046 -0.0030\n1999-05-31 -3.2588e-04 -0.0038 -0.0050 -0.0030\n1999-06-30 -3.3511e-04 -0.0039 -0.0050 -0.0030",
      "text/html": "<div>\n<style scoped>\n    .dataframe tbody tr th:only-of-type {\n        vertical-align: middle;\n    }\n\n    .dataframe tbody tr th {\n        vertical-align: top;\n    }\n\n    .dataframe thead th {\n        text-align: right;\n    }\n</style>\n<table border=\"1\" class=\"dataframe\">\n  <thead>\n    <tr style=\"text-align: right;\">\n      <th></th>\n      <th>USUK</th>\n      <th>USEU</th>\n      <th>USSZ</th>\n      <th>USJP</th>\n    </tr>\n    <tr>\n      <th>DATE</th>\n      <th></th>\n      <th></th>\n      <th></th>\n      <th></th>\n    </tr>\n  </thead>\n  <tbody>\n    <tr>\n      <th>1999-02-28</th>\n      <td>-6.8394e-05</td>\n      <td>-0.0028</td>\n      <td>-0.0046</td>\n      <td>-0.0029</td>\n    </tr>\n    <tr>\n      <th>1999-03-31</th>\n      <td>-2.3875e-04</td>\n      <td>-0.0029</td>\n      <td>-0.0046</td>\n      <td>-0.0029</td>\n    </tr>\n    <tr>\n      <th>1999-04-30</th>\n      <td>-3.2543e-04</td>\n      <td>-0.0031</td>\n      <td>-0.0046</td>\n      <td>-0.0030</td>\n    </tr>\n    <tr>\n      <th>1999-05-31</th>\n      <td>-3.2588e-04</td>\n      <td>-0.0038</td>\n      <td>-0.0050</td>\n      <td>-0.0030</td>\n    </tr>\n    <tr>\n      <th>1999-06-30</th>\n      <td>-3.3511e-04</td>\n      <td>-0.0039</td>\n      <td>-0.0050</td>\n      <td>-0.0030</td>\n    </tr>\n  </tbody>\n</table>\n</div>"
     },
     "execution_count": 19,
     "metadata": {},
     "output_type": "execute_result"
    }
   ]
  },
  {
   "cell_type": "markdown",
   "source": [
    "(a)"
   ],
   "metadata": {
    "id": "K7uq0gauNmli"
   }
  },
  {
   "cell_type": "code",
   "source": [
    "month_frac = pd.DataFrame(data = None, columns = ret_ex_forecast.columns, index = ['% of Months'])\n",
    "\n",
    "for col in ret_ex_forecast.columns:\n",
    "    month_frac[col] = (len(ret_ex_forecast[ret_ex_forecast[col] > 0])/len(ret_ex_forecast)) * 100\n",
    "\n",
    "ret_ex_forecast\n",
    "\n",
    "month_frac"
   ],
   "metadata": {
    "id": "uIY4wOPnOEP3",
    "colab": {
     "base_uri": "https://localhost:8080/",
     "height": 81
    },
    "outputId": "8463d4d0-667e-4a52-c3fa-8f5bd1f558a0"
   },
   "execution_count": 20,
   "outputs": [
    {
     "data": {
      "text/plain": "                USUK     USEU     USSZ  USJP\n% of Months  23.8095  50.1832  63.0037   0.0",
      "text/html": "<div>\n<style scoped>\n    .dataframe tbody tr th:only-of-type {\n        vertical-align: middle;\n    }\n\n    .dataframe tbody tr th {\n        vertical-align: top;\n    }\n\n    .dataframe thead th {\n        text-align: right;\n    }\n</style>\n<table border=\"1\" class=\"dataframe\">\n  <thead>\n    <tr style=\"text-align: right;\">\n      <th></th>\n      <th>USUK</th>\n      <th>USEU</th>\n      <th>USSZ</th>\n      <th>USJP</th>\n    </tr>\n  </thead>\n  <tbody>\n    <tr>\n      <th>% of Months</th>\n      <td>23.8095</td>\n      <td>50.1832</td>\n      <td>63.0037</td>\n      <td>0.0</td>\n    </tr>\n  </tbody>\n</table>\n</div>"
     },
     "execution_count": 20,
     "metadata": {},
     "output_type": "execute_result"
    }
   ]
  },
  {
   "cell_type": "markdown",
   "source": [
    "(b) Which currencies most consistently have a positive FX risk premium? And for which currencies does the FX risk premium most often go negative?"
   ],
   "metadata": {
    "id": "-n_po7cwOGLt"
   }
  },
  {
   "cell_type": "markdown",
   "source": [
    "SZ seems to show consistent positive FX risk premium (calculated at above 63% of the months). On the other hand, JP's FX risk premium is negative more than 99.9% of the time in the data: making it the currency that most often goes negative.\n",
    "\n",
    "On a separate note, despite the fact that section 3.3 found UK and EU having negative mean excess (log) returns, the result in 3.4 (a) shows that they are positive bout 23.8% and 50.2%, respectively, with dynamic carry trade."
   ],
   "metadata": {
    "id": "tW0u0j_-OKCq"
   }
  },
  {
   "cell_type": "markdown",
   "source": [
    "(c) Explain how we could use these conditional risk premia to improve the static carry trade returns calculated in Problem 1."
   ],
   "metadata": {
    "id": "h5sdDphyWaos"
   }
  },
  {
   "cell_type": "markdown",
   "source": [
    "We can use the forecasted excess returns to compute the weights of each currency trade in our portfolio. The resulting trading strategy from a dynamic carry trade would be better than the one built on static carry trade.\n",
    "\n",
    "In other words, we would be able to dynamically change the magnitude and direction of the currency trades based on forecast rather than being passively invested in a currency based on evidence given by the static carry trade analysis.\n",
    "\n",
    "Nevertheless, the effectiveness and profitability of this strategy is still questionable due to the low R-squared value: even with an in-sample prediction."
   ],
   "metadata": {
    "id": "uGKTZJXvWcdC"
   }
  }
 ]
}
