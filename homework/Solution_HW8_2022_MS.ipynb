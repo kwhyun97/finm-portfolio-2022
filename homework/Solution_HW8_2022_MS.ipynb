{
 "cells": [
  {
   "cell_type": "markdown",
   "id": "ffec186b",
   "metadata": {},
   "source": [
    "<div style=\"text-align: right\"> Mark Hendricks </div>\n",
    "\n",
    "<left>FINM 36700 - Portfolio Theory and Risk Management</left> \n",
    "<br>\n",
    "<left>Autumn 2022</left>\n",
    "\n",
    "<h1><center> Homework 8 </center></h1>\n",
    "<center>Due on Monday, Nov 28</center>\n",
    "\n",
    "<h4> Case: Long-Term Capital Management, L.P. (A) [HBS 9-200-007] </h4>"
   ]
  },
  {
   "cell_type": "markdown",
   "id": "44996e39",
   "metadata": {},
   "source": [
    "## 1 Conceptual issues for LTCM\n",
    "\n",
    "*Discuss these questions briefly, based on the info in the case. No need to quantitatively answer these questions.*\n",
    "\n",
    "\n",
    "\n",
    "1. Describe LTCM’s investment strategy with regard to the following aspects:\n",
    "        \n",
    "    • Securities traded\n",
    "\n",
    "    • Trading frequency\n",
    "\n",
    "    • Skewness (Do they seek many small wins or a few big hits?)\n",
    "\n",
    "    • Forecasting (What is behind their selection of trades?)\n",
    "    \n",
    "    \n",
    "\n",
    "\n",
    "2. What are LTCM’s biggest advantages over its competitors?\n",
    "\n",
    "\n",
    "\n",
    "3. The case discusses four types of funding risk facing LTCM:\n",
    "    \n",
    "    • collateral haircuts\n",
    "    \n",
    "    • repo maturity\n",
    "    \n",
    "    • equity redemption\n",
    "    \n",
    "    • loan access\n",
    "    \n",
    "    The case discusses specific ways in which LTCM manages each of these risks. Briefly discuss them.\n",
    "    \n",
    "    \n",
    "4. LTCM is largely in the business of selling liquidity and volatility. Describe how LTCM accounts for liquidity risk in their quantitative measurements.\n",
    "\n",
    "\n",
    "5. Is leverage risk currently a concern for LTCM?\n",
    "\n",
    "\n",
    "6. Many strategies of LTCM rely on converging spreads. LTCM feels that these are almost win/win situations because of the fact that if the spread converges, they make money. If it diverges, the trade becomes even more attractive, as convergence is still expected at a future date.\n",
    "    \n",
    "    What is the risk in these convergence trades?"
   ]
  },
  {
   "cell_type": "markdown",
   "id": "9767798f",
   "metadata": {},
   "source": [
    "## 2 LTCM Risk Decomposition\n",
    "\n",
    "\n",
    "\n",
    "\n",
    "- On Canvas, find the data file, “ltcm_exhibits_data.xlsx”. Get the gross and net (total) returns of LTCM from “Exhibit 2”.\n",
    "\n",
    "\n",
    "\n",
    "- Get the returns on SPY as well as the risk-free rate from the file, “gmo analysis data”."
   ]
  },
  {
   "cell_type": "markdown",
   "id": "79289cb6",
   "metadata": {},
   "source": [
    "1. Summary stats.\n",
    "    \n",
    "    (a) For both the gross and net series of LTCM excess returns, report the mean, volatility, and Sharpe ratios. (Annualize them.)\n",
    "    \n",
    "    (b) Report the skewness, kurtosis, and (historic) VaR(.05).\n",
    "    \n",
    "    (c) Comment on how these stats compare to SPY and other assets we have seen. How much do they differ between gross and net?"
   ]
  },
  {
   "cell_type": "markdown",
   "id": "ec3f4c61",
   "metadata": {},
   "source": [
    "2. Using the series of net LTCM excess returns, denoted $\\tilde{r}_t^{LTCM}$ estimate the following regression:\n",
    "\n",
    "$$\\tilde{r}_t^{LTCM} = \\alpha + \\beta^m \\tilde{r}_t^m + \\epsilon_t$$\n",
    "    \n",
    "- Report $\\alpha$ and $\\beta^m$. Report the R2 stat.\n",
    "    \n",
    "\n",
    "- From this regression, does LTCM appear to be a “closet indexer”?\n",
    "    \n",
    "\n",
    "- From the regression, does LTCM appear to deliver excess returns beyond the risk premium we expect from market exposure?"
   ]
  },
  {
   "cell_type": "markdown",
   "id": "ced099c2",
   "metadata": {},
   "source": [
    "3. Let’s check for non-linear market exposure. Run the following regression on LTCM’s net excess returns:\n",
    "\n",
    "\n",
    "$$\\tilde{r}_t^{LTCM} = \\alpha + \\beta_1 \\tilde{r}^m_t + \\beta_2 (\\tilde{r}^m_t)^2 + \\epsilon_t $$ \n",
    "\n",
    "\n",
    "- Report β1, β2, and the R2 stat.\n",
    "\n",
    "\n",
    "- Does the quadratic market factor do much to increase the overall LTCM variation explained by the market?\n",
    "\n",
    "\n",
    "- From the regression evidence, does LTCM’s market exposure behave as if it is long market options or short market options?\n",
    "\n",
    "\n",
    "- Should we describe LTCM as being positively or negatively exposed to market volatility?"
   ]
  },
  {
   "cell_type": "markdown",
   "id": "c7878054",
   "metadata": {},
   "source": [
    "4. Let’s try to pinpoint the nature of LTCM’s nonlinear exposure. Does it come more from exposure to up-markets or down-markets? Run the following regression on LTCM’s net excess returns:\n",
    "\n",
    "$$\\tilde{r}_t^{LTCM} = \\alpha + \\beta \\tilde{r}_t^{m} + \\beta_u max(\\tilde{r}_t^{m} - k_1, 0) +  \\beta_d max(k_2 - \\tilde{r}_t^{m}, 0) + \\epsilon_t$$\n",
    "\n",
    "where $k_1 = .03$ and $k_2 = −.03$. (This is roughly one standard deviation of $\\tilde{r}_t^{m}$.)\n",
    "\n",
    "\n",
    "- Report $\\beta$, $\\beta_u$, $\\beta_d$, and the R2 stat.\n",
    "\n",
    "\n",
    "- Is LTCM long or short the call-like factor? And the put-like factor?\n",
    "\n",
    "\n",
    "- Which factor moves LTCM more, the call-like factor, or the put-like factor?\n",
    "\n",
    "\n",
    "- In the previous problem, you commented on whether LTCM is positively or negatively exposed to market volatility. Using this current regression, does this volatility exposure come more from being long the market’s upside? Short the market’s downside? Something else?"
   ]
  },
  {
   "cell_type": "markdown",
   "id": "26184381",
   "metadata": {},
   "source": [
    "## 3 The FX Carry Trade\n",
    "\n",
    "Find an Excel data file, “fx_carry_data.xlsx”. The file has two sets of data:\n",
    "\n",
    "\n",
    "- Risk-free rates across 5 currencies, as measured by annualized 3-month LIBOR rates.\n",
    "\n",
    "\n",
    "\n",
    "- Spot FX rates, as direct quotes to the USD. (Note that all currencies are quoted as USD per the foreign currency.)\n",
    "\n",
    "\n",
    "For use in the homework, note the following:\n",
    "\n",
    "\n",
    "- For risk-free rate data, $r^{f,i}_{t,t+1}$, the rate is known and reported in the data at time t. Namely, any given date $t$ in the data file is reporting both $S^i_t$ and $r^{f,i}_{t,t+1}$.\n",
    "\n",
    "\n",
    "- The theory says to use log risk-free rates. You have the risk-free rate in levels: use the following equation to convert them:\n",
    "\n",
    "$$ 𝚛^{f,i}_{t, t+1} = ln(1 + r^{f,i}_{t, t+1})$$\n",
    "\n",
    "\n",
    "- The theory says to use log spot FX prices. You have the FX prices in levels, so directly take their logarithims:\n",
    "\n",
    "$$ s^i_t = ln(S^i_t) $$"
   ]
  },
  {
   "cell_type": "markdown",
   "id": "d30973ec",
   "metadata": {},
   "source": [
    "1. The Static Carry Trade\n",
    "\n",
    "    Define the log return of holding the foreign currency using log values of the risk-free rate and log values of the FX rates:\n",
    "    \n",
    "    $$ 𝚛^{i}_{t+1} = s^i_{t+1} - s^i_t + 𝚛^{f,i}_{t, t+1} $$\n",
    "    \n",
    "    Then the excess log return relative to USD, is expressed as:\n",
    "    \n",
    "    $$ \\tilde{𝚛}^{i}_{t+1} = s^i_{t+1} - s^i_t + 𝚛^{f,i}_{t, t+1} - 𝚛^{f,$}_{t, t+1}$$\n",
    "    \n",
    "    For each foreign currency, i, calculate the excess log return series, $\\tilde{𝚛}^{i}_{t+1}$. Report the following stats, (based on the excess log returns.) Annualize them.\n",
    "    \n",
    "    - mean\n",
    "    \n",
    "    - volatility\n",
    "    \n",
    "    - Sharpe ratio\n",
    "\n",
    "    What differences do you see across currencies?"
   ]
  },
  {
   "cell_type": "markdown",
   "id": "0f322660",
   "metadata": {},
   "source": [
    "2. Implications for UIP:\n",
    "\n",
    "\n",
    "- Do any of these stats contradict the (log version) of Uncovered Interest Parity (UIP)?\n",
    "\n",
    "\n",
    "- A long position in which foreign currency offered the best Sharpe ratio over the sample?\n",
    "\n",
    "\n",
    "- Are there any foreign currencies for which a long position earned a negative excess return (in USD) over the sample?"
   ]
  },
  {
   "cell_type": "markdown",
   "id": "9534b2e5",
   "metadata": {},
   "source": [
    "3. Predicting FX\n",
    "\n",
    "    For each foreign currency, test whether interest-rate differentials can predict growth in the foreign-exchange rate. Do this by estimating the following forecasting regression:\n",
    "    \n",
    "    $$s^i_{t+1} - s^i_t = \\alpha + \\beta (𝚛^{f,$}_{t, t+1} - 𝚛^{f,i}_{t, t+1}) + \\epsilon_t $$\n",
    "    \n",
    "    where $𝚛^{f,i}$ denotes the risk-free rate of currency $i$, and $s^i$ denotes the FX rate for currency $i$. Again, note that both $𝚛^{f,i}_{t, t+1}$ and $s_t$ are determined at time t.\n",
    "    \n",
    "    (a) Make a table with columns corresponding to a different currency regression. Report the regression estimates αi and βi in the first two rows. Report the R2 stat in the third row.\n",
    "    \n",
    "    (b) Suppose the foreign risk-free rate increases relative to the US rate.\n",
    "    \n",
    "    - For which foreign currencies would we predict a relative strengthening of the USD in the following period.\n",
    "    \n",
    "    - For which currencies would we predict relative weakening of the USD in the following period?\n",
    "    \n",
    "    - This FX predictability is strongest in the case of which foreign currency?"
   ]
  },
  {
   "cell_type": "markdown",
   "id": "2ee9939b",
   "metadata": {},
   "source": [
    "4. The Dynamic Carry Trade\n",
    "\n",
    "    Use this to write $\\mathbb{E}_t[\\tilde{𝚛}^i_{t+1}]$ as a function of the interest-rate differential as well as α and β from this FX regression.\n",
    "    \n",
    "    $$ \\mathbb{E}_t[s_{t+1} - s_t] = \\alpha + \\beta (𝚛^{f,$}_{t, t+1} - 𝚛^{f,i}_{t, t+1})$$\n",
    "    \n",
    "    Then use the definition of excess (log) returns on FX:\n",
    "    \n",
    "    $$ \\tilde{𝚛}^{i}_{t+1} = s^i_{t+1} - s^i_t + 𝚛^{f,i}_{t, t+1} - 𝚛^{f,$}_{t, t+1}$$\n",
    "\n",
    "    Rearranging, this implies the following forecast for excess log returns:\n",
    "    \n",
    "    $$ \\mathbb{E}_t[s_{t+1} - s_t] = \\alpha + (\\beta - 1) (𝚛^{f,$}_{t, t+1} - 𝚛^{f,i}_{t, t+1})$$\n",
    "    \n",
    "    (a) Use your regression estimates from Problem 3 along with the formula above to calculate the fraction of months for which the estimated FX risk premium positive. That is, for each i, calculate how often in the time-series we have:\n",
    "    \n",
    "    $$\\mathbb{E}_t[\\tilde{𝚛}^i_{t+1}] > 0$$\n",
    "    \n",
    "    (b) Which currencies most consistently have a positive FX risk premium? And for which currencies does the FX risk premium most often go negative?\n",
    "    \n",
    "    (c) Explain how we could use these conditional risk premia to improve the static carry trade returns calculated in Problem 1.\n"
   ]
  },
  {
   "cell_type": "markdown",
   "id": "3e8a3b40",
   "metadata": {},
   "source": [
    " "
   ]
  },
  {
   "cell_type": "markdown",
   "id": "b89b6da9",
   "metadata": {},
   "source": [
    " "
   ]
  },
  {
   "cell_type": "markdown",
   "id": "f89123a7",
   "metadata": {},
   "source": [
    " "
   ]
  },
  {
   "cell_type": "markdown",
   "id": "b6f28b38",
   "metadata": {},
   "source": [
    " "
   ]
  },
  {
   "cell_type": "markdown",
   "id": "281f6d07",
   "metadata": {},
   "source": [
    " "
   ]
  },
  {
   "cell_type": "markdown",
   "id": "f3b536de",
   "metadata": {},
   "source": [
    " "
   ]
  },
  {
   "cell_type": "markdown",
   "id": "baaa7ed2",
   "metadata": {},
   "source": [
    " "
   ]
  },
  {
   "cell_type": "markdown",
   "id": "977460d7",
   "metadata": {},
   "source": [
    "<h1><span style=\"color:#00008B\"> Solutions - Maneet Singh </span></h1>\n",
    "\n",
    "<h4>Email - maneetsingh@uchicago.edu</h4>"
   ]
  },
  {
   "cell_type": "code",
   "execution_count": 31,
   "id": "80a7e483",
   "metadata": {},
   "outputs": [],
   "source": [
    "# import libraries\n",
    "import math\n",
    "import pandas as pd\n",
    "import numpy as np\n",
    "import seaborn as sns\n",
    "import scipy.stats as stats\n",
    "import matplotlib.pyplot as plt\n",
    "import statsmodels.api as sm\n",
    "from sklearn.linear_model import LinearRegression\n",
    "import warnings\n",
    "warnings.filterwarnings(\"ignore\")\n",
    "pd.set_option(\"display.precision\", 4)\n",
    "sns.set(rc={'figure.figsize':(15, 10)})\n",
    "\n",
    "\n",
    "\n",
    "def getPerformanceMetrics(data, maxDD = False):\n",
    "\n",
    "    data_desc = data.describe().loc[['mean','std']]\n",
    "\n",
    "    data_desc.loc['mean'] = data_desc.loc['mean']*12 # annualize\n",
    "    data_desc.loc['std'] = data_desc.loc['std']*np.sqrt(12) # annualize\n",
    "    data_desc.loc['sharpe_ratio'] = data_desc.loc['mean'] / data_desc.loc['std']\n",
    "    \n",
    "    data_desc.loc['skewness'] = data.skew()\n",
    "    data_desc.loc['excess_kurtosis'] = data.kurt()-3\n",
    "    data_desc.loc['VaR05'] = np.quantile(data,.05,axis=0)\n",
    "    data_desc.loc['CVaR05'] = np.mean(data<=data_desc.loc['VaR05'])\n",
    "    \n",
    "    def getMaxDDInfo(data):\n",
    "        cumRet = (1+data).cumprod()\n",
    "        cumMax = cumRet.cummax()\n",
    "        dd = (cumRet/cumMax)-1\n",
    "        # print(dd.min())\n",
    "        \n",
    "        maxDD = pd.DataFrame([tuple(dd.min())],\n",
    "                            columns=data.columns,\n",
    "                            index=['maxDrawdown'])\n",
    "\n",
    "        maxDD_dt = []\n",
    "        # loop through each column in dd (drawdown DataFrame)\n",
    "        for col,val in dd.iteritems():\n",
    "            mdd = maxDD[col]['maxDrawdown']\n",
    "            \n",
    "            troughDate = val[val==mdd].index[0].strftime(\"%Y-%m-%d\")\n",
    "            peakDate = val[:troughDate].iloc[::-1].idxmax().strftime(\"%Y-%m-%d\")\n",
    "            recoveryDate = val[troughDate:].idxmax().strftime(\"%Y-%m-%d\")\n",
    "\n",
    "            maxDD_dt.append([peakDate,troughDate,recoveryDate])\n",
    "\n",
    "        maxDD_dt = pd.DataFrame(list(zip(*maxDD_dt)), #transpose: [[1,2],[3,4]] -> [[1,3],[2,4]]\n",
    "                                columns=data.columns,\n",
    "                                index=['maxDrawdown_peakDate','maxDrawdown_troughDate','maxDrawdown_recoveryDate'])\n",
    "        \n",
    "        return pd.concat([maxDD,maxDD_dt])\n",
    "    \n",
    "    if maxDD:\n",
    "        return pd.concat([data_desc,getMaxDDInfo(data)]).transpose()\n",
    "    else:\n",
    "        return data_desc.transpose()"
   ]
  },
  {
   "cell_type": "code",
   "execution_count": 32,
   "id": "de839cf7",
   "metadata": {},
   "outputs": [
    {
     "data": {
      "text/html": [
       "<div>\n",
       "<style scoped>\n",
       "    .dataframe tbody tr th:only-of-type {\n",
       "        vertical-align: middle;\n",
       "    }\n",
       "\n",
       "    .dataframe tbody tr th {\n",
       "        vertical-align: top;\n",
       "    }\n",
       "\n",
       "    .dataframe thead th {\n",
       "        text-align: right;\n",
       "    }\n",
       "</style>\n",
       "<table border=\"1\" class=\"dataframe\">\n",
       "  <thead>\n",
       "    <tr style=\"text-align: right;\">\n",
       "      <th></th>\n",
       "      <th>Fund Capital ($billions)</th>\n",
       "      <th>GrossLTCM</th>\n",
       "      <th>NetLTCM</th>\n",
       "      <th>Index of Net Performance</th>\n",
       "      <th>SPY</th>\n",
       "    </tr>\n",
       "    <tr>\n",
       "      <th>Date</th>\n",
       "      <th></th>\n",
       "      <th></th>\n",
       "      <th></th>\n",
       "      <th></th>\n",
       "      <th></th>\n",
       "    </tr>\n",
       "  </thead>\n",
       "  <tbody>\n",
       "    <tr>\n",
       "      <th>1994-03-31</th>\n",
       "      <td>1.0970</td>\n",
       "      <td>-0.0140</td>\n",
       "      <td>-0.0160</td>\n",
       "      <td>0.9870</td>\n",
       "      <td>-0.0449</td>\n",
       "    </tr>\n",
       "    <tr>\n",
       "      <th>1994-04-30</th>\n",
       "      <td>1.0967</td>\n",
       "      <td>0.0107</td>\n",
       "      <td>0.0047</td>\n",
       "      <td>0.9967</td>\n",
       "      <td>0.0079</td>\n",
       "    </tr>\n",
       "    <tr>\n",
       "      <th>1994-05-31</th>\n",
       "      <td>1.1964</td>\n",
       "      <td>0.0644</td>\n",
       "      <td>0.0494</td>\n",
       "      <td>1.0464</td>\n",
       "      <td>0.0123</td>\n",
       "    </tr>\n",
       "    <tr>\n",
       "      <th>1994-06-30</th>\n",
       "      <td>1.1965</td>\n",
       "      <td>-0.0425</td>\n",
       "      <td>-0.0326</td>\n",
       "      <td>1.0165</td>\n",
       "      <td>-0.0264</td>\n",
       "    </tr>\n",
       "    <tr>\n",
       "      <th>1994-07-31</th>\n",
       "      <td>1.3963</td>\n",
       "      <td>0.1123</td>\n",
       "      <td>0.0803</td>\n",
       "      <td>1.0963</td>\n",
       "      <td>0.0287</td>\n",
       "    </tr>\n",
       "  </tbody>\n",
       "</table>\n",
       "</div>"
      ],
      "text/plain": [
       "            Fund Capital ($billions)  GrossLTCM  NetLTCM  \\\n",
       "Date                                                       \n",
       "1994-03-31                    1.0970    -0.0140  -0.0160   \n",
       "1994-04-30                    1.0967     0.0107   0.0047   \n",
       "1994-05-31                    1.1964     0.0644   0.0494   \n",
       "1994-06-30                    1.1965    -0.0425  -0.0326   \n",
       "1994-07-31                    1.3963     0.1123   0.0803   \n",
       "\n",
       "            Index of Net Performance     SPY  \n",
       "Date                                          \n",
       "1994-03-31                    0.9870 -0.0449  \n",
       "1994-04-30                    0.9967  0.0079  \n",
       "1994-05-31                    1.0464  0.0123  \n",
       "1994-06-30                    1.0165 -0.0264  \n",
       "1994-07-31                    1.0963  0.0287  "
      ]
     },
     "execution_count": 32,
     "metadata": {},
     "output_type": "execute_result"
    }
   ],
   "source": [
    "portdf = pd.read_excel('ltcm_exhibits_data.xlsx', sheet_name=1, skiprows=(0,1), usecols='A:E').dropna().rename(columns={'Unnamed: 0':'Date','Gross Monthly Performancea':'GrossLTCM','Net Monthly Performanceb':'NetLTCM'}).set_index('Date')\n",
    "portdf.index = portdf.index.to_period('M').to_timestamp('M')\n",
    "\n",
    "rets = pd.read_excel('gmo_analysis_data.xlsx', sheet_name=2, usecols = \"A:B\").rename(columns={'Unnamed: 0': 'Date'}).set_index('Date').loc['1994-03':'1998-07']\n",
    "portdf['SPY'] = rets['SPY']\n",
    "\n",
    "rf = pd.read_excel('gmo_analysis_data.xlsx',sheet_name=3).rename(columns={'Unnamed: 0': 'Date'}).set_index('Date').loc['1994-03':'1998-07']\n",
    "retsx = portdf.subtract(rf['US3M'],axis=0)\n",
    "\n",
    "retsx.head()\n"
   ]
  },
  {
   "cell_type": "markdown",
   "id": "b5d5fccd",
   "metadata": {},
   "source": [
    "## 1 Conceptual issues for LTCM\n",
    "\n",
    "*Discuss these questions briefly, based on the info in the case. No need to quantitatively answer these questions.*\n",
    "\n",
    "\n",
    "\n",
    "1. Describe LTCM’s investment strategy with regard to the following aspects:\n",
    "        \n",
    "    • Securities traded\n",
    "\n",
    "    • Trading frequency\n",
    "\n",
    "    • Skewness (Do they seek many small wins or a few big hits?)\n",
    "\n",
    "    • Forecasting (What is behind their selection of trades?)\n",
    "    \n",
    "    \n",
    "<span style=\"color:red\">**[Solution]**: \n",
    "    \n",
    "<span style=\"color:red\">LTCM traded across a wide range of securities. They are heavily involved in fixed income and credit, and they also have sizeable positions in equities. In all these asset classes, they trade a large number of securities, across global markets.\n",
    "\n",
    "<span style=\"color:red\">LTCM's trading frequencies vary given that they house a wide range of strategies. Their largest bucket, the convergence trades, typically take weeks and months to converge. Overall, they are something of a medium-term frequency. Largely, they are not trying to arbitrage intraday movements, nor are they making long-term directional bets.\n",
    "\n",
    "<span style=\"color:red\">LTCM largely is trying to pick up small premia in the convergence trades, which limits the upside of any individual trade, and leaves it substantial downside, given all the leverage. Of course, aggregating all their trades together can lead to positive skewness if they are properly diversified. But we would expect that their typical trade has a small positive mean with substantial negative skewness.\n",
    "\n",
    "<span style=\"color:red\">For most their trades, LTCM is not making directional forecasts. Rather, they are trading spreads and pairs, forecasting relative convergence rather than absolute levels. In this sense, they do not rely on sophisticated forecasting models of the overall market but rather rely on models to forecast the size and speed of relative convergence in particular markets.</span>\n",
    "\n",
    "\n",
    "2. What are LTCM’s biggest advantages over its competitors?\n",
    "    \n",
    "<span style=\"color:red\">**[Solution]**:\n",
    "\n",
    "<span style=\"color:red\">Several advantages.\n",
    "\n",
    "- <span style=\"color:red\">Efficient financing. LTCM got very favorable terms on all financing—sometimes even zero haircut! Typically had small, if any, outlay.\n",
    "- <span style=\"color:red\">Fund size. Have market power even in the large market of institutional wholesale.\n",
    "- <span style=\"color:red\">Liquidity. LTCM has in place many mechanisms to ensure liquidity.\n",
    "- <span style=\"color:red\">Long-term horizon. In financing and assessing trades, LTCM takes a relatively long-term view. Hedged. LTCM avoids taking too much default risk or explicit directional bets.\n",
    "\n",
    "    \n",
    "<span style=\"color:red\">Then again, LTCM went bust in Aug. 1998, so maybe these advantages were not as strong as it seemed!\n",
    "\n",
    "\n",
    "\n",
    "\n",
    "3. The case discusses four types of funding risk facing LTCM:\n",
    "    \n",
    "    • collateral haircuts\n",
    "    \n",
    "    • repo maturity\n",
    "    \n",
    "    • equity redemption\n",
    "    \n",
    "    • loan access\n",
    "    \n",
    "    The case discusses specific ways in which LTCM manages each of these risks. Briefly discuss them.\n",
    "    \n",
    "    \n",
    "<span style=\"color:red\">**[Solution]**:\n",
    "    \n",
    "    \n",
    "<span style=\"color:red\"> The case discusses steps LTCM took to manage four types of funding risks.\n",
    "\n",
    "- <span style=\"color:red\"> Collateral haircuts. For most trades, LTCM obtains 100% financing on a fully collateralized basis. Furthermore, LTCM stress tests the haircuts across its asset classes.\n",
    "\n",
    "- <span style=\"color:red\">Repo. LTCM goes against the norm by entering into relatively long-maturity repo. While much of it is overnight, LTCM uses contracts that typically have maturity of 6-12 months. Furthermore, LTCM manages their aggregate repo maturity.\n",
    "\n",
    "- <span style=\"color:red\">Equity redemption. The firm is highly levered, so equity funding risk is especially important. LTCM restricts redemptions of equity year by year. The restriction is particularly strong in that unredeemed money is re-locked.\n",
    "They also spread the redemption windows across the year to ensure there is never a possi- bility of immediate withdrawal of a large portion of equity.\n",
    "\n",
    "- <span style=\"color:red\">For debt funding, LTCM negotiated a revolving loan that has no Material Adverse Change clause. Thus, the availability of debt funding is not so highly correlated with fund performance.\n",
    "    \n",
    "    \n",
    "4. LTCM is largely in the business of selling liquidity and volatility. Describe how LTCM accounts for liquidity risk in their quantitative measurements.\n",
    "    \n",
    "    \n",
    "<span style=\"color:red\">**[Solution]**: LTCM attempts to account for liquidity risk quantitatively by adjusting security correlations. For short-term horizons, LTCM assumes positive correlation between all trade cat- egories. Even if their net exposure to a strategy flips sides, they still assume positive correlation to the new net position. Given the efforts of LTCM to hedge out obvious market risks, there are many strategies which would seem to have zero correlation. However, LTCM feels that liquidity concerns can cause the effective trading to be positively correlated.\n",
    "\n",
    "\n",
    "5. Is leverage risk currently a concern for LTCM?\n",
    "\n",
    "<span style=\"color:red\">**[Solution]**: It would seem that leverage is not particularly dangerous at the moment. The fund’s volatility is relatively low, its VaR is relatively low, nor is it particularly high relative to the rest of the industry. Moreover, the firm actively manages its funding risk which theoretically means it should be able to handle the natural risks of high leverage. At the time of the case, the firm is trying to determine whether to further increase leverage. Subsequently, at the end of 1997 the fund returned about a third of its 7.5 billion equity capital to investors. Of course, less than a year later, the fund blew up, but from the time of the case it’s hard to see the leverage risk.  \n",
    "\n",
    "\n",
    "6. Many strategies of LTCM rely on converging spreads. LTCM feels that these are almost win/win situations because of the fact that if the spread converges, they make money. If it diverges, the trade becomes even more attractive, as convergence is still expected at a future date.\n",
    "    \n",
    "    What is the risk in these convergence trades?\n",
    "    \n",
    "    \n",
    "<span style=\"color:red\">**[Solution]**: What is the risk in these convergence trades? Solution: About a year after the time of the case, the fund loses most of its value due to non-converging trades. So clearly there is some risk! Positions are subject to liquidity risk. If market liquidity dries up or the markets become segmented, the divergent spreads can persist for a long time. This indeed happens later to LTCM. The trades that get them in trouble ultimately pay off, but not before LTCM blows up. LTCM believes it can exit these convergence trades if they become too unprofitable. However, a stop-loss order is not the same as a put option. If the price jumps discontinuously through the stop-loss, then it is ineffective. Or a market may be paralyzed/illiquid when trying to execute the stop-loss. A put option does not need to worry about price impact, whereas a stop-loss does. Finally, a stop-loss ensures that an investor sells as soon as a security price hits a worst-case scenario, ensuring unfavorable market timing.\n",
    "\n",
    "\n"
   ]
  },
  {
   "cell_type": "markdown",
   "id": "fd40fd17",
   "metadata": {},
   "source": [
    "## 2. LTCM Risk Decomposition"
   ]
  },
  {
   "cell_type": "markdown",
   "id": "5e7c2b81",
   "metadata": {},
   "source": [
    "#### 1."
   ]
  },
  {
   "cell_type": "markdown",
   "id": "549b8fcd",
   "metadata": {},
   "source": [
    "##### a)"
   ]
  },
  {
   "cell_type": "code",
   "execution_count": 38,
   "id": "4bd9efee",
   "metadata": {},
   "outputs": [
    {
     "data": {
      "text/html": [
       "<style  type=\"text/css\" >\n",
       "</style><table id=\"T_07cef_\" ><thead>    <tr>        <th class=\"blank level0\" ></th>        <th class=\"col_heading level0 col0\" >mean</th>        <th class=\"col_heading level0 col1\" >std</th>        <th class=\"col_heading level0 col2\" >sharpe_ratio</th>    </tr></thead><tbody>\n",
       "                <tr>\n",
       "                        <th id=\"T_07cef_level0_row0\" class=\"row_heading level0 row0\" >GrossLTCM</th>\n",
       "                        <td id=\"T_07cef_row0_col0\" class=\"data row0 col0\" >0.2421</td>\n",
       "                        <td id=\"T_07cef_row0_col1\" class=\"data row0 col1\" >0.1362</td>\n",
       "                        <td id=\"T_07cef_row0_col2\" class=\"data row0 col2\" >1.7769</td>\n",
       "            </tr>\n",
       "            <tr>\n",
       "                        <th id=\"T_07cef_level0_row1\" class=\"row_heading level0 row1\" >NetLTCM</th>\n",
       "                        <td id=\"T_07cef_row1_col0\" class=\"data row1 col0\" >0.1554</td>\n",
       "                        <td id=\"T_07cef_row1_col1\" class=\"data row1 col1\" >0.1118</td>\n",
       "                        <td id=\"T_07cef_row1_col2\" class=\"data row1 col2\" >1.3901</td>\n",
       "            </tr>\n",
       "            <tr>\n",
       "                        <th id=\"T_07cef_level0_row2\" class=\"row_heading level0 row2\" >SPY</th>\n",
       "                        <td id=\"T_07cef_row2_col0\" class=\"data row2 col0\" >0.1738</td>\n",
       "                        <td id=\"T_07cef_row2_col1\" class=\"data row2 col1\" >0.1123</td>\n",
       "                        <td id=\"T_07cef_row2_col2\" class=\"data row2 col2\" >1.5479</td>\n",
       "            </tr>\n",
       "    </tbody></table>"
      ],
      "text/plain": [
       "<pandas.io.formats.style.Styler at 0x7f8a3bc36c10>"
      ]
     },
     "metadata": {},
     "output_type": "display_data"
    }
   ],
   "source": [
    "perf_metrics = getPerformanceMetrics(retsx[['GrossLTCM','NetLTCM','SPY']])\n",
    "display(perf_metrics[['mean', 'std', 'sharpe_ratio']].style.format('{:,.4f}'))"
   ]
  },
  {
   "cell_type": "markdown",
   "id": "e891d15e",
   "metadata": {},
   "source": [
    "##### b)"
   ]
  },
  {
   "cell_type": "code",
   "execution_count": 37,
   "id": "242b420c",
   "metadata": {},
   "outputs": [
    {
     "data": {
      "text/html": [
       "<style  type=\"text/css\" >\n",
       "</style><table id=\"T_8cf63_\" ><thead>    <tr>        <th class=\"blank level0\" ></th>        <th class=\"col_heading level0 col0\" >skewness</th>        <th class=\"col_heading level0 col1\" >excess_kurtosis</th>        <th class=\"col_heading level0 col2\" >VaR05</th>    </tr></thead><tbody>\n",
       "                <tr>\n",
       "                        <th id=\"T_8cf63_level0_row0\" class=\"row_heading level0 row0\" >GrossLTCM</th>\n",
       "                        <td id=\"T_8cf63_row0_col0\" class=\"data row0 col0\" >-0.2877</td>\n",
       "                        <td id=\"T_8cf63_row0_col1\" class=\"data row0 col1\" >-1.4134</td>\n",
       "                        <td id=\"T_8cf63_row0_col2\" class=\"data row0 col2\" >-0.0304</td>\n",
       "            </tr>\n",
       "            <tr>\n",
       "                        <th id=\"T_8cf63_level0_row1\" class=\"row_heading level0 row1\" >NetLTCM</th>\n",
       "                        <td id=\"T_8cf63_row1_col0\" class=\"data row1 col0\" >-0.8102</td>\n",
       "                        <td id=\"T_8cf63_row1_col1\" class=\"data row1 col1\" >-0.0731</td>\n",
       "                        <td id=\"T_8cf63_row1_col2\" class=\"data row1 col2\" >-0.0264</td>\n",
       "            </tr>\n",
       "            <tr>\n",
       "                        <th id=\"T_8cf63_level0_row2\" class=\"row_heading level0 row2\" >SPY</th>\n",
       "                        <td id=\"T_8cf63_row2_col0\" class=\"data row2 col0\" >-0.4335</td>\n",
       "                        <td id=\"T_8cf63_row2_col1\" class=\"data row2 col1\" >-3.3620</td>\n",
       "                        <td id=\"T_8cf63_row2_col2\" class=\"data row2 col2\" >-0.0464</td>\n",
       "            </tr>\n",
       "    </tbody></table>"
      ],
      "text/plain": [
       "<pandas.io.formats.style.Styler at 0x7f8a3c2e3760>"
      ]
     },
     "metadata": {},
     "output_type": "display_data"
    }
   ],
   "source": [
    "display(perf_metrics[['skewness', 'excess_kurtosis', 'VaR05']].style.format('{:,.4f}'))"
   ]
  },
  {
   "cell_type": "markdown",
   "id": "85b4f201",
   "metadata": {},
   "source": [
    "##### c)"
   ]
  },
  {
   "cell_type": "markdown",
   "id": "bc156e2e",
   "metadata": {},
   "source": [
    "Refer to the summary stats shown above:\n",
    "\n",
    "- For gross returns on the LTCM strategy, Sharpe is very high relative to SPY. Volatility is sized similarly to SPY, and minimum return is not too bad.\n",
    "\n",
    "- However, for net returns, we see a lower Sharpe than SPY due to a lower mean return.\n",
    "\n",
    "\n",
    "We note that there might be a few things to consider:\n",
    "\n",
    "- We need to test whether the LTCM strategy passively replicates the market, even though it is not intented for that purpose.\n",
    "\n",
    "- Net returns for LTCM shows very high tail risk compared to the SPY, which points to the fact that their costs maybe higher than expected"
   ]
  },
  {
   "cell_type": "markdown",
   "id": "5e8b4cce",
   "metadata": {},
   "source": [
    "#### 2."
   ]
  },
  {
   "cell_type": "markdown",
   "id": "28a1f800",
   "metadata": {},
   "source": [
    "###### a)"
   ]
  },
  {
   "cell_type": "code",
   "execution_count": 51,
   "id": "0bcbd86f",
   "metadata": {},
   "outputs": [
    {
     "name": "stdout",
     "output_type": "stream",
     "text": [
      "Alpha: 0.1315\n",
      "Market Beta: 0.1371\n",
      "R-squared: 0.0190\n"
     ]
    }
   ],
   "source": [
    "exog = sm.add_constant(retsx['SPY'])\n",
    "endog = retsx['NetLTCM']\n",
    "\n",
    "model = sm.OLS(endog, exog).fit()\n",
    "alpha = model.params[0]\n",
    "beta = model.params[1]\n",
    "r2 = model.rsquared\n",
    "\n",
    "print('Alpha: {:,.4f}'.format(alpha*12))\n",
    "print('Market Beta: {:,.4f}'.format(beta))\n",
    "print('R-squared: {:,.4f}'.format(r2))"
   ]
  },
  {
   "cell_type": "markdown",
   "id": "c81eca4a",
   "metadata": {},
   "source": [
    "##### b)"
   ]
  },
  {
   "cell_type": "markdown",
   "id": "39e68f2a",
   "metadata": {},
   "source": [
    "This strategy is not a 'closet indexer' as it has a low correlation to the market. We can see that the regression above gives small $R^2$ value."
   ]
  },
  {
   "cell_type": "markdown",
   "id": "703d7a5e",
   "metadata": {},
   "source": [
    "###### c)\n",
    "\n",
    "Surely, LTCM delivers a significant excess return over the market, given a high annualized alpha of 13%"
   ]
  },
  {
   "cell_type": "markdown",
   "id": "e3e8190a",
   "metadata": {},
   "source": [
    "#### 3."
   ]
  },
  {
   "cell_type": "markdown",
   "id": "fcc2b800",
   "metadata": {},
   "source": [
    "###### a)"
   ]
  },
  {
   "cell_type": "code",
   "execution_count": 56,
   "id": "9a065060",
   "metadata": {},
   "outputs": [
    {
     "name": "stdout",
     "output_type": "stream",
     "text": [
      "Alpha: 0.1550\n",
      "Beta for Market Factor: 0.1669\n",
      "Beta for Quadratic Market Factor: -1.9267\n",
      "R-squared: 0.0243\n"
     ]
    }
   ],
   "source": [
    "exog_quad = exog.copy()\n",
    "exog_quad['SPY SQ'] = exog_quad['SPY']**2\n",
    "quad_model = sm.OLS(endog, exog_quad).fit()\n",
    "\n",
    "alpha = quad_model.params[0]\n",
    "beta_1 = quad_model.params[1]\n",
    "beta_2 = quad_model.params[2]\n",
    "r2 = quad_model.rsquared\n",
    "\n",
    "\n",
    "print('Alpha: {:,.4f}'.format(alpha*12))\n",
    "print('Beta for Market Factor: {:,.4f}'.format(beta_1))\n",
    "print('Beta for Quadratic Market Factor: {:,.4f}'.format(beta_2))\n",
    "print('R-squared: {:,.4f}'.format(r2))"
   ]
  },
  {
   "cell_type": "markdown",
   "id": "0a9af47e",
   "metadata": {},
   "source": [
    "##### b)\n",
    "\n",
    "Add the quadratic market factor doesn't improve the fit of the regression by a lot."
   ]
  },
  {
   "cell_type": "markdown",
   "id": "11da5e69",
   "metadata": {},
   "source": [
    "##### c)\n",
    "\n",
    "Since the beta for quadratic market factor is negative, the strategy returns are lower when market returns are large. This causes the return payoff to have a negative convexity. Hence we can say that the strategy is short the market options."
   ]
  },
  {
   "cell_type": "markdown",
   "id": "a92dcd25",
   "metadata": {},
   "source": [
    "##### d)\n",
    "\n",
    "Given the short position in market options, the strategy consequently has negative exposure to market volatility."
   ]
  },
  {
   "cell_type": "markdown",
   "id": "14e88c62",
   "metadata": {},
   "source": [
    "#### 4. "
   ]
  },
  {
   "cell_type": "markdown",
   "id": "79d68e48",
   "metadata": {},
   "source": [
    "###### a)"
   ]
  },
  {
   "cell_type": "code",
   "execution_count": 62,
   "id": "df89cc76",
   "metadata": {},
   "outputs": [
    {
     "name": "stdout",
     "output_type": "stream",
     "text": [
      "Alpha: 0.1012\n",
      "Beta for Market Factor: 0.4666\n",
      "Beta for Market Up Factor: -0.7821\n",
      "Beta for Market Down Factor: 1.2896\n",
      "R-squared: 0.0555\n"
     ]
    }
   ],
   "source": [
    "assym_exog = exog.copy()\n",
    "assym_exog['up factor'] = (assym_quad['SPY'] - 0.03).clip(0)\n",
    "assym_exog['down factor'] = (-0.03 - assym_quad['SPY']).clip(0)\n",
    "\n",
    "assym_model = sm.OLS(endog, assym_exog).fit()\n",
    "\n",
    "alpha = assym_model.params[0]\n",
    "beta = assym_model.params[1]\n",
    "beta_up = assym_model.params[2]\n",
    "beta_down = assym_model.params[3]\n",
    "r2 = assym_model.rsquared\n",
    "\n",
    "\n",
    "print('Alpha: {:,.4f}'.format(alpha*12))\n",
    "print('Beta for Market Factor: {:,.4f}'.format(beta))\n",
    "print('Beta for Market Up Factor: {:,.4f}'.format(beta_up))\n",
    "print('Beta for Market Down Factor: {:,.4f}'.format(beta_down))\n",
    "print('R-squared: {:,.4f}'.format(r2))"
   ]
  },
  {
   "cell_type": "markdown",
   "id": "3b96c5fa",
   "metadata": {},
   "source": [
    "##### b)\n",
    "\n",
    "LTCM is short the call-like factor and long the put-like factor"
   ]
  },
  {
   "cell_type": "markdown",
   "id": "22e63ebe",
   "metadata": {},
   "source": [
    "###### c)\n",
    "\n",
    "Since the beta is much larger on the down factor, the LTCM strategy is much more impacted by down movements in the market."
   ]
  },
  {
   "cell_type": "markdown",
   "id": "5d47a458",
   "metadata": {},
   "source": [
    "##### d)\n",
    "\n",
    "The negative exposure is driven more by LTCM strategy being short the market upside (call-like factor)"
   ]
  },
  {
   "cell_type": "markdown",
   "id": "98d1bdbb",
   "metadata": {},
   "source": [
    "### 3. The FX Carry Trade"
   ]
  },
  {
   "cell_type": "code",
   "execution_count": 64,
   "id": "264c0d74",
   "metadata": {},
   "outputs": [
    {
     "data": {
      "text/html": [
       "<div>\n",
       "<style scoped>\n",
       "    .dataframe tbody tr th:only-of-type {\n",
       "        vertical-align: middle;\n",
       "    }\n",
       "\n",
       "    .dataframe tbody tr th {\n",
       "        vertical-align: top;\n",
       "    }\n",
       "\n",
       "    .dataframe thead th {\n",
       "        text-align: right;\n",
       "    }\n",
       "</style>\n",
       "<table border=\"1\" class=\"dataframe\">\n",
       "  <thead>\n",
       "    <tr style=\"text-align: right;\">\n",
       "      <th></th>\n",
       "      <th>USD1M</th>\n",
       "      <th>GBP1M</th>\n",
       "      <th>EUR1M</th>\n",
       "      <th>CHF1M</th>\n",
       "      <th>JPY1M</th>\n",
       "    </tr>\n",
       "    <tr>\n",
       "      <th>DATE</th>\n",
       "      <th></th>\n",
       "      <th></th>\n",
       "      <th></th>\n",
       "      <th></th>\n",
       "      <th></th>\n",
       "    </tr>\n",
       "  </thead>\n",
       "  <tbody>\n",
       "    <tr>\n",
       "      <th>1999-01-31</th>\n",
       "      <td>NaN</td>\n",
       "      <td>NaN</td>\n",
       "      <td>NaN</td>\n",
       "      <td>NaN</td>\n",
       "      <td>NaN</td>\n",
       "    </tr>\n",
       "    <tr>\n",
       "      <th>1999-02-28</th>\n",
       "      <td>0.0041</td>\n",
       "      <td>0.0049</td>\n",
       "      <td>0.0026</td>\n",
       "      <td>0.0010</td>\n",
       "      <td>3.3458e-04</td>\n",
       "    </tr>\n",
       "    <tr>\n",
       "      <th>1999-03-31</th>\n",
       "      <td>0.0041</td>\n",
       "      <td>0.0046</td>\n",
       "      <td>0.0026</td>\n",
       "      <td>0.0010</td>\n",
       "      <td>2.3226e-04</td>\n",
       "    </tr>\n",
       "    <tr>\n",
       "      <th>1999-04-30</th>\n",
       "      <td>0.0041</td>\n",
       "      <td>0.0044</td>\n",
       "      <td>0.0025</td>\n",
       "      <td>0.0010</td>\n",
       "      <td>1.4270e-04</td>\n",
       "    </tr>\n",
       "    <tr>\n",
       "      <th>1999-05-31</th>\n",
       "      <td>0.0041</td>\n",
       "      <td>0.0044</td>\n",
       "      <td>0.0021</td>\n",
       "      <td>0.0008</td>\n",
       "      <td>9.8953e-05</td>\n",
       "    </tr>\n",
       "  </tbody>\n",
       "</table>\n",
       "</div>"
      ],
      "text/plain": [
       "             USD1M   GBP1M   EUR1M   CHF1M       JPY1M\n",
       "DATE                                                  \n",
       "1999-01-31     NaN     NaN     NaN     NaN         NaN\n",
       "1999-02-28  0.0041  0.0049  0.0026  0.0010  3.3458e-04\n",
       "1999-03-31  0.0041  0.0046  0.0026  0.0010  2.3226e-04\n",
       "1999-04-30  0.0041  0.0044  0.0025  0.0010  1.4270e-04\n",
       "1999-05-31  0.0041  0.0044  0.0021  0.0008  9.8953e-05"
      ]
     },
     "metadata": {},
     "output_type": "display_data"
    },
    {
     "data": {
      "text/html": [
       "<div>\n",
       "<style scoped>\n",
       "    .dataframe tbody tr th:only-of-type {\n",
       "        vertical-align: middle;\n",
       "    }\n",
       "\n",
       "    .dataframe tbody tr th {\n",
       "        vertical-align: top;\n",
       "    }\n",
       "\n",
       "    .dataframe thead th {\n",
       "        text-align: right;\n",
       "    }\n",
       "</style>\n",
       "<table border=\"1\" class=\"dataframe\">\n",
       "  <thead>\n",
       "    <tr style=\"text-align: right;\">\n",
       "      <th></th>\n",
       "      <th>USUK</th>\n",
       "      <th>USEU</th>\n",
       "      <th>USSZ</th>\n",
       "      <th>USJP</th>\n",
       "    </tr>\n",
       "    <tr>\n",
       "      <th>DATE</th>\n",
       "      <th></th>\n",
       "      <th></th>\n",
       "      <th></th>\n",
       "      <th></th>\n",
       "    </tr>\n",
       "  </thead>\n",
       "  <tbody>\n",
       "    <tr>\n",
       "      <th>1999-01-31</th>\n",
       "      <td>0.4982</td>\n",
       "      <td>0.1285</td>\n",
       "      <td>-0.3484</td>\n",
       "      <td>-4.7536</td>\n",
       "    </tr>\n",
       "    <tr>\n",
       "      <th>1999-02-28</th>\n",
       "      <td>0.4717</td>\n",
       "      <td>0.0949</td>\n",
       "      <td>-0.3712</td>\n",
       "      <td>-4.7766</td>\n",
       "    </tr>\n",
       "    <tr>\n",
       "      <th>1999-03-31</th>\n",
       "      <td>0.4787</td>\n",
       "      <td>0.0777</td>\n",
       "      <td>-0.3904</td>\n",
       "      <td>-4.7743</td>\n",
       "    </tr>\n",
       "    <tr>\n",
       "      <th>1999-04-30</th>\n",
       "      <td>0.4753</td>\n",
       "      <td>0.0549</td>\n",
       "      <td>-0.4225</td>\n",
       "      <td>-4.7827</td>\n",
       "    </tr>\n",
       "    <tr>\n",
       "      <th>1999-05-31</th>\n",
       "      <td>0.4713</td>\n",
       "      <td>0.0413</td>\n",
       "      <td>-0.4240</td>\n",
       "      <td>-4.7948</td>\n",
       "    </tr>\n",
       "  </tbody>\n",
       "</table>\n",
       "</div>"
      ],
      "text/plain": [
       "              USUK    USEU    USSZ    USJP\n",
       "DATE                                      \n",
       "1999-01-31  0.4982  0.1285 -0.3484 -4.7536\n",
       "1999-02-28  0.4717  0.0949 -0.3712 -4.7766\n",
       "1999-03-31  0.4787  0.0777 -0.3904 -4.7743\n",
       "1999-04-30  0.4753  0.0549 -0.4225 -4.7827\n",
       "1999-05-31  0.4713  0.0413 -0.4240 -4.7948"
      ]
     },
     "metadata": {},
     "output_type": "display_data"
    }
   ],
   "source": [
    "fxspot = pd.read_excel('fx_carry_data.xlsx',sheet_name=2,index_col='DATE')\n",
    "rf = pd.read_excel('fx_carry_data.xlsx',sheet_name=1,index_col='DATE')\n",
    "\n",
    "logfxspot = np.log(fxspot)\n",
    "logrf = np.log(1+rf).shift()\n",
    "display(logrf.head())\n",
    "display(logfxspot.head())"
   ]
  },
  {
   "cell_type": "code",
   "execution_count": 70,
   "id": "93a75885",
   "metadata": {},
   "outputs": [
    {
     "data": {
      "text/html": [
       "<div>\n",
       "<style scoped>\n",
       "    .dataframe tbody tr th:only-of-type {\n",
       "        vertical-align: middle;\n",
       "    }\n",
       "\n",
       "    .dataframe tbody tr th {\n",
       "        vertical-align: top;\n",
       "    }\n",
       "\n",
       "    .dataframe thead th {\n",
       "        text-align: right;\n",
       "    }\n",
       "</style>\n",
       "<table border=\"1\" class=\"dataframe\">\n",
       "  <thead>\n",
       "    <tr style=\"text-align: right;\">\n",
       "      <th></th>\n",
       "      <th>USUK</th>\n",
       "      <th>USEU</th>\n",
       "      <th>USSZ</th>\n",
       "      <th>USJP</th>\n",
       "    </tr>\n",
       "    <tr>\n",
       "      <th>DATE</th>\n",
       "      <th></th>\n",
       "      <th></th>\n",
       "      <th></th>\n",
       "      <th></th>\n",
       "    </tr>\n",
       "  </thead>\n",
       "  <tbody>\n",
       "    <tr>\n",
       "      <th>1999-02-28</th>\n",
       "      <td>-0.0257</td>\n",
       "      <td>-0.0351</td>\n",
       "      <td>-0.0259</td>\n",
       "      <td>-0.0268</td>\n",
       "    </tr>\n",
       "    <tr>\n",
       "      <th>1999-03-31</th>\n",
       "      <td>0.0075</td>\n",
       "      <td>-0.0187</td>\n",
       "      <td>-0.0222</td>\n",
       "      <td>-0.0016</td>\n",
       "    </tr>\n",
       "    <tr>\n",
       "      <th>1999-04-30</th>\n",
       "      <td>-0.0031</td>\n",
       "      <td>-0.0245</td>\n",
       "      <td>-0.0352</td>\n",
       "      <td>-0.0124</td>\n",
       "    </tr>\n",
       "    <tr>\n",
       "      <th>1999-05-31</th>\n",
       "      <td>-0.0037</td>\n",
       "      <td>-0.0155</td>\n",
       "      <td>-0.0048</td>\n",
       "      <td>-0.0160</td>\n",
       "    </tr>\n",
       "    <tr>\n",
       "      <th>1999-06-30</th>\n",
       "      <td>-0.0157</td>\n",
       "      <td>-0.0128</td>\n",
       "      <td>-0.0211</td>\n",
       "      <td>-0.0045</td>\n",
       "    </tr>\n",
       "  </tbody>\n",
       "</table>\n",
       "</div>"
      ],
      "text/plain": [
       "              USUK    USEU    USSZ    USJP\n",
       "DATE                                      \n",
       "1999-02-28 -0.0257 -0.0351 -0.0259 -0.0268\n",
       "1999-03-31  0.0075 -0.0187 -0.0222 -0.0016\n",
       "1999-04-30 -0.0031 -0.0245 -0.0352 -0.0124\n",
       "1999-05-31 -0.0037 -0.0155 -0.0048 -0.0160\n",
       "1999-06-30 -0.0157 -0.0128 -0.0211 -0.0045"
      ]
     },
     "execution_count": 70,
     "metadata": {},
     "output_type": "execute_result"
    }
   ],
   "source": [
    "excesslogfxcarry = pd.DataFrame(index=logfxspot.index)\n",
    "excesslogfxcarry['USUK'] = logfxspot.diff().USUK+logrf.GBP1M-logrf.USD1M\n",
    "excesslogfxcarry['USEU'] = logfxspot.diff().USEU+logrf.EUR1M-logrf.USD1M\n",
    "excesslogfxcarry['USSZ'] = logfxspot.diff().USSZ+logrf.CHF1M-logrf.USD1M\n",
    "excesslogfxcarry['USJP'] = logfxspot.diff().USJP+logrf.JPY1M-logrf.USD1M\n",
    "excesslogfxcarry = excesslogfxcarry.dropna()\n",
    "excesslogfxcarry.head()"
   ]
  },
  {
   "cell_type": "markdown",
   "id": "a301cb81",
   "metadata": {},
   "source": [
    "#### 1."
   ]
  },
  {
   "cell_type": "code",
   "execution_count": 71,
   "id": "55545d97",
   "metadata": {},
   "outputs": [
    {
     "data": {
      "text/html": [
       "<div>\n",
       "<style scoped>\n",
       "    .dataframe tbody tr th:only-of-type {\n",
       "        vertical-align: middle;\n",
       "    }\n",
       "\n",
       "    .dataframe tbody tr th {\n",
       "        vertical-align: top;\n",
       "    }\n",
       "\n",
       "    .dataframe thead th {\n",
       "        text-align: right;\n",
       "    }\n",
       "</style>\n",
       "<table border=\"1\" class=\"dataframe\">\n",
       "  <thead>\n",
       "    <tr style=\"text-align: right;\">\n",
       "      <th></th>\n",
       "      <th>mean</th>\n",
       "      <th>std</th>\n",
       "      <th>sharpe_ratio</th>\n",
       "    </tr>\n",
       "  </thead>\n",
       "  <tbody>\n",
       "    <tr>\n",
       "      <th>USUK</th>\n",
       "      <td>-0.0035</td>\n",
       "      <td>0.0863</td>\n",
       "      <td>-0.0406</td>\n",
       "    </tr>\n",
       "    <tr>\n",
       "      <th>USEU</th>\n",
       "      <td>-0.0044</td>\n",
       "      <td>0.0947</td>\n",
       "      <td>-0.0459</td>\n",
       "    </tr>\n",
       "    <tr>\n",
       "      <th>USSZ</th>\n",
       "      <td>0.0043</td>\n",
       "      <td>0.0988</td>\n",
       "      <td>0.0437</td>\n",
       "    </tr>\n",
       "    <tr>\n",
       "      <th>USJP</th>\n",
       "      <td>-0.0174</td>\n",
       "      <td>0.0915</td>\n",
       "      <td>-0.1903</td>\n",
       "    </tr>\n",
       "  </tbody>\n",
       "</table>\n",
       "</div>"
      ],
      "text/plain": [
       "        mean     std  sharpe_ratio\n",
       "USUK -0.0035  0.0863       -0.0406\n",
       "USEU -0.0044  0.0947       -0.0459\n",
       "USSZ  0.0043  0.0988        0.0437\n",
       "USJP -0.0174  0.0915       -0.1903"
      ]
     },
     "metadata": {},
     "output_type": "display_data"
    }
   ],
   "source": [
    "fx_perf = getPerformanceMetrics(excesslogfxcarry)\n",
    "display(fx_perf[['mean', 'std', 'sharpe_ratio']])"
   ]
  },
  {
   "cell_type": "markdown",
   "id": "3d5c33f9",
   "metadata": {},
   "source": [
    "We see very small returns across the board. However, USSZ is the only currency pair which offers a positive sharpe ratio. Strategies with other currencies have lower mean returns. The vols across currencies are comparable as well."
   ]
  },
  {
   "cell_type": "markdown",
   "id": "46632e96",
   "metadata": {},
   "source": [
    "#### 2."
   ]
  },
  {
   "cell_type": "markdown",
   "id": "31058a41",
   "metadata": {},
   "source": [
    "###### a)\n",
    "\n",
    "Not really, much of the returns are zero or very close to zero. This is in favour of UIP which says changes in exchange rates are predicted by differences in interest rates."
   ]
  },
  {
   "cell_type": "markdown",
   "id": "ee0bce87",
   "metadata": {},
   "source": [
    "###### b)\n",
    "\n",
    "We can construct a trade in which we are long USD and short JPY. Such a trade would earn a mean annual return of 1.74% and produce a Sharpe of 0.19"
   ]
  },
  {
   "cell_type": "markdown",
   "id": "565cf670",
   "metadata": {},
   "source": [
    "###### c)\n",
    "\n",
    "Long positions in UK, EU and JP earned negative returns"
   ]
  },
  {
   "cell_type": "markdown",
   "id": "c7822b2a",
   "metadata": {},
   "source": [
    "#### 3."
   ]
  },
  {
   "cell_type": "code",
   "execution_count": 76,
   "id": "55bc65de",
   "metadata": {},
   "outputs": [],
   "source": [
    "USD_CCY = pd.DataFrame(index=logfxspot.index)\n",
    "USD_CCY['USUK'] = logrf.USD1M-logrf.GBP1M\n",
    "USD_CCY['USEU'] = logrf.USD1M-logrf.EUR1M\n",
    "USD_CCY['USSZ'] = logrf.USD1M-logrf.CHF1M\n",
    "USD_CCY['USJP'] = logrf.USD1M-logrf.JPY1M\n",
    "logfxret = logfxspot.diff()\n",
    "\n",
    "USD_CCY.dropna(inplace = True)\n",
    "logfxret.dropna(inplace = True)"
   ]
  },
  {
   "cell_type": "markdown",
   "id": "ed8f08ec",
   "metadata": {},
   "source": [
    "##### a)"
   ]
  },
  {
   "cell_type": "code",
   "execution_count": 96,
   "id": "543ed515",
   "metadata": {},
   "outputs": [
    {
     "data": {
      "text/html": [
       "<div>\n",
       "<style scoped>\n",
       "    .dataframe tbody tr th:only-of-type {\n",
       "        vertical-align: middle;\n",
       "    }\n",
       "\n",
       "    .dataframe tbody tr th {\n",
       "        vertical-align: top;\n",
       "    }\n",
       "\n",
       "    .dataframe thead th {\n",
       "        text-align: right;\n",
       "    }\n",
       "</style>\n",
       "<table border=\"1\" class=\"dataframe\">\n",
       "  <thead>\n",
       "    <tr style=\"text-align: right;\">\n",
       "      <th></th>\n",
       "      <th>USUK</th>\n",
       "      <th>USEU</th>\n",
       "      <th>USSZ</th>\n",
       "      <th>USJP</th>\n",
       "    </tr>\n",
       "  </thead>\n",
       "  <tbody>\n",
       "    <tr>\n",
       "      <th>Alpha</th>\n",
       "      <td>-0.0059</td>\n",
       "      <td>0.0070</td>\n",
       "      <td>0.0436</td>\n",
       "      <td>-0.0060</td>\n",
       "    </tr>\n",
       "    <tr>\n",
       "      <th>Beta</th>\n",
       "      <td>0.4858</td>\n",
       "      <td>-1.2564</td>\n",
       "      <td>-1.6466</td>\n",
       "      <td>0.3715</td>\n",
       "    </tr>\n",
       "    <tr>\n",
       "      <th>R-Squared</th>\n",
       "      <td>0.0004</td>\n",
       "      <td>0.0026</td>\n",
       "      <td>0.0039</td>\n",
       "      <td>0.0005</td>\n",
       "    </tr>\n",
       "  </tbody>\n",
       "</table>\n",
       "</div>"
      ],
      "text/plain": [
       "             USUK    USEU    USSZ    USJP\n",
       "Alpha     -0.0059  0.0070  0.0436 -0.0060\n",
       "Beta       0.4858 -1.2564 -1.6466  0.3715\n",
       "R-Squared  0.0004  0.0026  0.0039  0.0005"
      ]
     },
     "metadata": {},
     "output_type": "display_data"
    }
   ],
   "source": [
    "reg_results = pd.DataFrame(columns = ['USUK', 'USEU', 'USSZ', 'USJP'], index = ['Alpha', 'Beta', 'R-Squared'])\n",
    "\n",
    "\n",
    "for i in reg_results.columns:\n",
    "    \n",
    "    exog = sm.add_constant(USD_CCY[i])\n",
    "    endog = logfxret[i]\n",
    "    model = sm.OLS(endog, exog).fit()\n",
    "    \n",
    "    reg_results[i] = [model.params[0] * 12, model.params[1], model.rsquared]\n",
    "    \n",
    "    \n",
    "display(reg_results)"
   ]
  },
  {
   "cell_type": "markdown",
   "id": "a4b89cac",
   "metadata": {},
   "source": [
    "##### b)\n",
    "\n",
    "Look at whether the betas are positive or negative.\n",
    "\n",
    "If the regressor (USD minus foreign risk-free rate) goes DOWN, then we expect\n",
    "\n",
    "- decreased UK and JP relative to US.\n",
    "- increased EU and SZ relative to US. (That is, the expected FX growth is higher.)\n",
    "\n",
    "Thus, if UK risk-free rate increases relative to US risk-free rate, we expect USD will appreciate.\n",
    "\n",
    "- This means FX growth is partially offsetting the interest-rate differential. But not fully. Beta is positive, but less than one.\n",
    "\n",
    "For EU and SZ,\n",
    "\n",
    "- FX growth is exacerbating the returns from the interest rate differentials. Beta is negative, so in a sense, investors expect to gain twice: immediately from the risk-free rate differential, and again from the FX movement at the close of the position."
   ]
  },
  {
   "cell_type": "markdown",
   "id": "e4de2b27",
   "metadata": {},
   "source": [
    "#### 4."
   ]
  },
  {
   "cell_type": "code",
   "execution_count": 110,
   "id": "d0b89d8c",
   "metadata": {},
   "outputs": [],
   "source": [
    "USUK_pred = (reg_results['USUK']['Alpha']/12) + (reg_results['USUK']['Beta'] - 1)*USD_CCY['USUK']\n",
    "USEU_pred = (reg_results['USEU']['Alpha']/12) + (reg_results['USEU']['Beta'] - 1)*USD_CCY['USEU']\n",
    "USSZ_pred = (reg_results['USSZ']['Alpha']/12) + (reg_results['USSZ']['Beta'] - 1)*USD_CCY['USSZ']\n",
    "USJP_pred = (reg_results['USJP']['Alpha']/12) + (reg_results['USJP']['Beta'] - 1)*USD_CCY['USJP']"
   ]
  },
  {
   "cell_type": "markdown",
   "id": "640ff440",
   "metadata": {},
   "source": [
    "##### a)"
   ]
  },
  {
   "cell_type": "code",
   "execution_count": 112,
   "id": "e3e690d3",
   "metadata": {},
   "outputs": [
    {
     "name": "stdout",
     "output_type": "stream",
     "text": [
      "Expected USUK > 0 : 23.81% \n",
      "Expected USEU > 0 : 50.18% \n",
      "Expected USSZ > 0 : 63.00% \n",
      "Expected USJP > 0 : 0.00% \n"
     ]
    }
   ],
   "source": [
    "print('Expected USUK > 0 : {:,.2%} '.format(sum(USUK_pred > 0)/len(USUK_pred)))\n",
    "print('Expected USEU > 0 : {:,.2%} '.format(sum(USEU_pred > 0)/len(USUK_pred)))\n",
    "print('Expected USSZ > 0 : {:,.2%} '.format(sum(USSZ_pred > 0)/len(USUK_pred)))\n",
    "print('Expected USJP > 0 : {:,.2%} '.format(sum(USJP_pred > 0)/len(USUK_pred)))"
   ]
  },
  {
   "cell_type": "markdown",
   "id": "6dd50506",
   "metadata": {},
   "source": [
    "###### b)"
   ]
  },
  {
   "cell_type": "markdown",
   "id": "9607a528",
   "metadata": {},
   "source": [
    "FX Risk Premium is most consistently positive for JP and UK. FX Risk Premium goes negative the most for EU and SZ"
   ]
  },
  {
   "cell_type": "markdown",
   "id": "23308220",
   "metadata": {},
   "source": [
    "##### c)"
   ]
  },
  {
   "cell_type": "markdown",
   "id": "af088646",
   "metadata": {},
   "source": [
    "Though the predictability of FX risk premia is questionable, a potential trading strategy could be constructed by using the forecast from the UIP regressions.\n",
    "\n",
    "We can also look at this strategy as one of convergance trades. Since most often these strategies return ar very small returns, periods when these strategies do return abnormal returns could present potential trade oppurtunities."
   ]
  }
 ],
 "metadata": {
  "kernelspec": {
   "display_name": "Python 3 (ipykernel)",
   "language": "python",
   "name": "python3"
  },
  "language_info": {
   "codemirror_mode": {
    "name": "ipython",
    "version": 3
   },
   "file_extension": ".py",
   "mimetype": "text/x-python",
   "name": "python",
   "nbconvert_exporter": "python",
   "pygments_lexer": "ipython3",
   "version": "3.8.8"
  }
 },
 "nbformat": 4,
 "nbformat_minor": 5
}
