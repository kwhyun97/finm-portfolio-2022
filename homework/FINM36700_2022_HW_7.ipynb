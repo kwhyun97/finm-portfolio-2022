{
 "cells": [
  {
   "cell_type": "markdown",
   "source": [
    "# Homework 7\n",
    "\n",
    "### FINM 36700\n",
    "### Group C 14\n",
    "\n",
    "## Imports"
   ],
   "metadata": {
    "collapsed": false
   }
  },
  {
   "cell_type": "code",
   "execution_count": 52,
   "outputs": [],
   "source": [
    "import pandas as pd\n",
    "import numpy as np\n",
    "import matplotlib.pyplot as plt\n",
    "import statsmodels.api as sm\n",
    "from arch import arch_model\n",
    "from arch.univariate import GARCH, EWMAVariance\n",
    "from sklearn import linear_model\n",
    "import scipy.stats as stats\n",
    "from statsmodels.regression.rolling import RollingOLS\n",
    "import seaborn as sns\n",
    "import warnings\n",
    "warnings.filterwarnings(\"ignore\")\n",
    "pd.set_option(\"display.precision\", 4)\n",
    "sns.set(rc={'figure.figsize':(15, 10)})"
   ],
   "metadata": {
    "collapsed": false
   }
  },
  {
   "cell_type": "markdown",
   "source": [
    "## Data"
   ],
   "metadata": {
    "collapsed": false
   }
  },
  {
   "cell_type": "code",
   "execution_count": 53,
   "outputs": [
    {
     "data": {
      "text/plain": "              DP    EP  US10Y\nDate                         \n1993-02-28  2.82  4.44   6.03\n1993-03-31  2.77  4.41   6.03\n1993-04-30  2.82  4.44   6.05\n1993-05-31  2.81  4.38   6.16\n1993-06-30  2.79  4.31   5.80",
      "text/html": "<div>\n<style scoped>\n    .dataframe tbody tr th:only-of-type {\n        vertical-align: middle;\n    }\n\n    .dataframe tbody tr th {\n        vertical-align: top;\n    }\n\n    .dataframe thead th {\n        text-align: right;\n    }\n</style>\n<table border=\"1\" class=\"dataframe\">\n  <thead>\n    <tr style=\"text-align: right;\">\n      <th></th>\n      <th>DP</th>\n      <th>EP</th>\n      <th>US10Y</th>\n    </tr>\n    <tr>\n      <th>Date</th>\n      <th></th>\n      <th></th>\n      <th></th>\n    </tr>\n  </thead>\n  <tbody>\n    <tr>\n      <th>1993-02-28</th>\n      <td>2.82</td>\n      <td>4.44</td>\n      <td>6.03</td>\n    </tr>\n    <tr>\n      <th>1993-03-31</th>\n      <td>2.77</td>\n      <td>4.41</td>\n      <td>6.03</td>\n    </tr>\n    <tr>\n      <th>1993-04-30</th>\n      <td>2.82</td>\n      <td>4.44</td>\n      <td>6.05</td>\n    </tr>\n    <tr>\n      <th>1993-05-31</th>\n      <td>2.81</td>\n      <td>4.38</td>\n      <td>6.16</td>\n    </tr>\n    <tr>\n      <th>1993-06-30</th>\n      <td>2.79</td>\n      <td>4.31</td>\n      <td>5.80</td>\n    </tr>\n  </tbody>\n</table>\n</div>"
     },
     "execution_count": 53,
     "metadata": {},
     "output_type": "execute_result"
    }
   ],
   "source": [
    "df = pd.read_excel('../data/gmo_analysis_data.xlsx', sheet_name=1)\n",
    "df = df.rename(columns={\"Unnamed: 0\": \"Date\"})\n",
    "df = df.set_index(\"Date\").dropna()\n",
    "\n",
    "df.head()"
   ],
   "metadata": {
    "collapsed": false
   }
  },
  {
   "cell_type": "code",
   "execution_count": 54,
   "outputs": [
    {
     "data": {
      "text/plain": "              US3M\nDate              \n1993-02-28  0.0025\n1993-03-31  0.0025\n1993-04-30  0.0025\n1993-05-31  0.0026\n1993-06-30  0.0026",
      "text/html": "<div>\n<style scoped>\n    .dataframe tbody tr th:only-of-type {\n        vertical-align: middle;\n    }\n\n    .dataframe tbody tr th {\n        vertical-align: top;\n    }\n\n    .dataframe thead th {\n        text-align: right;\n    }\n</style>\n<table border=\"1\" class=\"dataframe\">\n  <thead>\n    <tr style=\"text-align: right;\">\n      <th></th>\n      <th>US3M</th>\n    </tr>\n    <tr>\n      <th>Date</th>\n      <th></th>\n    </tr>\n  </thead>\n  <tbody>\n    <tr>\n      <th>1993-02-28</th>\n      <td>0.0025</td>\n    </tr>\n    <tr>\n      <th>1993-03-31</th>\n      <td>0.0025</td>\n    </tr>\n    <tr>\n      <th>1993-04-30</th>\n      <td>0.0025</td>\n    </tr>\n    <tr>\n      <th>1993-05-31</th>\n      <td>0.0026</td>\n    </tr>\n    <tr>\n      <th>1993-06-30</th>\n      <td>0.0026</td>\n    </tr>\n  </tbody>\n</table>\n</div>"
     },
     "execution_count": 54,
     "metadata": {},
     "output_type": "execute_result"
    }
   ],
   "source": [
    "rf = pd.read_excel('../data/gmo_analysis_data.xlsx', sheet_name=3)\n",
    "rf = rf.rename(columns={\"Unnamed: 0\": \"Date\"})\n",
    "rf.set_index(\"Date\", inplace = True)\n",
    "\n",
    "rf.head()"
   ],
   "metadata": {
    "collapsed": false
   }
  },
  {
   "cell_type": "code",
   "execution_count": 55,
   "outputs": [
    {
     "data": {
      "text/plain": "               SPY   GMWAX\nDate                      \n1996-11-30  0.0687  0.0409\n1996-12-31 -0.0282 -0.0156\n1997-01-31  0.0575  0.0104\n1997-02-28  0.0052  0.0179\n1997-03-31 -0.0486 -0.0196",
      "text/html": "<div>\n<style scoped>\n    .dataframe tbody tr th:only-of-type {\n        vertical-align: middle;\n    }\n\n    .dataframe tbody tr th {\n        vertical-align: top;\n    }\n\n    .dataframe thead th {\n        text-align: right;\n    }\n</style>\n<table border=\"1\" class=\"dataframe\">\n  <thead>\n    <tr style=\"text-align: right;\">\n      <th></th>\n      <th>SPY</th>\n      <th>GMWAX</th>\n    </tr>\n    <tr>\n      <th>Date</th>\n      <th></th>\n      <th></th>\n    </tr>\n  </thead>\n  <tbody>\n    <tr>\n      <th>1996-11-30</th>\n      <td>0.0687</td>\n      <td>0.0409</td>\n    </tr>\n    <tr>\n      <th>1996-12-31</th>\n      <td>-0.0282</td>\n      <td>-0.0156</td>\n    </tr>\n    <tr>\n      <th>1997-01-31</th>\n      <td>0.0575</td>\n      <td>0.0104</td>\n    </tr>\n    <tr>\n      <th>1997-02-28</th>\n      <td>0.0052</td>\n      <td>0.0179</td>\n    </tr>\n    <tr>\n      <th>1997-03-31</th>\n      <td>-0.0486</td>\n      <td>-0.0196</td>\n    </tr>\n  </tbody>\n</table>\n</div>"
     },
     "execution_count": 55,
     "metadata": {},
     "output_type": "execute_result"
    }
   ],
   "source": [
    "GMO = pd.read_excel('../data/gmo_analysis_data.xlsx', sheet_name=2)\n",
    "\n",
    "GMO = GMO.rename(columns={\"Unnamed: 0\": \"Date\"})\n",
    "GMO.set_index(\"Date\", inplace = True)\n",
    "\n",
    "GMO_ex = GMO.dropna().subtract(rf['US3M'], axis=0).dropna()\n",
    "\n",
    "GMO_ex.head()"
   ],
   "metadata": {
    "collapsed": false
   }
  },
  {
   "cell_type": "markdown",
   "source": [
    "## 2. Analyzing GMO\n",
    "\n",
    "### 2 - 1."
   ],
   "metadata": {
    "collapsed": false
   }
  },
  {
   "cell_type": "code",
   "execution_count": 56,
   "outputs": [],
   "source": [
    "# helper function\n",
    "def summary_stats(df, annual_fac = 12):\n",
    "    stats_df = pd.DataFrame(data = None)\n",
    "    stats_df['Mean'] = df.mean()*annual_fac\n",
    "    stats_df['Vol'] = df.std()*np.sqrt(annual_fac)\n",
    "    stats_df['Sharpe'] = df.mean()/df.std()*np.sqrt(annual_fac)\n",
    "\n",
    "    return stats_df"
   ],
   "metadata": {
    "collapsed": false
   }
  },
  {
   "cell_type": "code",
   "execution_count": 57,
   "outputs": [
    {
     "data": {
      "text/plain": "         Mean    Vol  Sharpe\nGMWAX  0.0158  0.125  0.1266",
      "text/html": "<div>\n<style scoped>\n    .dataframe tbody tr th:only-of-type {\n        vertical-align: middle;\n    }\n\n    .dataframe tbody tr th {\n        vertical-align: top;\n    }\n\n    .dataframe thead th {\n        text-align: right;\n    }\n</style>\n<table border=\"1\" class=\"dataframe\">\n  <thead>\n    <tr style=\"text-align: right;\">\n      <th></th>\n      <th>Mean</th>\n      <th>Vol</th>\n      <th>Sharpe</th>\n    </tr>\n  </thead>\n  <tbody>\n    <tr>\n      <th>GMWAX</th>\n      <td>0.0158</td>\n      <td>0.125</td>\n      <td>0.1266</td>\n    </tr>\n  </tbody>\n</table>\n</div>"
     },
     "execution_count": 57,
     "metadata": {},
     "output_type": "execute_result"
    }
   ],
   "source": [
    "summary_stats(GMO_ex.loc[:'2011', ['GMWAX']])"
   ],
   "metadata": {
    "collapsed": false
   }
  },
  {
   "cell_type": "code",
   "execution_count": 58,
   "outputs": [
    {
     "data": {
      "text/plain": "         Mean    Vol  Sharpe\nGMWAX  0.0366  0.092  0.3982",
      "text/html": "<div>\n<style scoped>\n    .dataframe tbody tr th:only-of-type {\n        vertical-align: middle;\n    }\n\n    .dataframe tbody tr th {\n        vertical-align: top;\n    }\n\n    .dataframe thead th {\n        text-align: right;\n    }\n</style>\n<table border=\"1\" class=\"dataframe\">\n  <thead>\n    <tr style=\"text-align: right;\">\n      <th></th>\n      <th>Mean</th>\n      <th>Vol</th>\n      <th>Sharpe</th>\n    </tr>\n  </thead>\n  <tbody>\n    <tr>\n      <th>GMWAX</th>\n      <td>0.0366</td>\n      <td>0.092</td>\n      <td>0.3982</td>\n    </tr>\n  </tbody>\n</table>\n</div>"
     },
     "execution_count": 58,
     "metadata": {},
     "output_type": "execute_result"
    }
   ],
   "source": [
    "summary_stats(GMO_ex.loc['2012':, ['GMWAX']])"
   ],
   "metadata": {
    "collapsed": false
   }
  },
  {
   "cell_type": "code",
   "execution_count": 59,
   "outputs": [
    {
     "data": {
      "text/plain": "         Mean     Vol  Sharpe\nGMWAX  0.0245  0.1123  0.2181",
      "text/html": "<div>\n<style scoped>\n    .dataframe tbody tr th:only-of-type {\n        vertical-align: middle;\n    }\n\n    .dataframe tbody tr th {\n        vertical-align: top;\n    }\n\n    .dataframe thead th {\n        text-align: right;\n    }\n</style>\n<table border=\"1\" class=\"dataframe\">\n  <thead>\n    <tr style=\"text-align: right;\">\n      <th></th>\n      <th>Mean</th>\n      <th>Vol</th>\n      <th>Sharpe</th>\n    </tr>\n  </thead>\n  <tbody>\n    <tr>\n      <th>GMWAX</th>\n      <td>0.0245</td>\n      <td>0.1123</td>\n      <td>0.2181</td>\n    </tr>\n  </tbody>\n</table>\n</div>"
     },
     "execution_count": 59,
     "metadata": {},
     "output_type": "execute_result"
    }
   ],
   "source": [
    "summary_stats(GMO_ex[['GMWAX']])"
   ],
   "metadata": {
    "collapsed": false
   }
  },
  {
   "cell_type": "markdown",
   "source": [
    "- The mean, volatility, and Sharpe ratio has changed a lot since the case. GMO's performance from 2012 and further is much better than the period before.\n",
    "\n",
    "### 2 - 2."
   ],
   "metadata": {
    "collapsed": false
   }
  },
  {
   "cell_type": "code",
   "execution_count": 60,
   "outputs": [],
   "source": [
    "# helper function\n",
    "def tail_risk(df):\n",
    "    tr_df = pd.DataFrame(data = None)\n",
    "    tr_df['Min return'] = df.min()\n",
    "    tr_df['VaR-5th'] = df.quantile(.05)\n",
    "    cum_ret = (1 + df).cumprod()\n",
    "    rolling_max = cum_ret.cummax()\n",
    "    drawdown = (cum_ret - rolling_max) / rolling_max\n",
    "    tr_df['Max Drawdown'] = drawdown.min()\n",
    "\n",
    "    return tr_df"
   ],
   "metadata": {
    "collapsed": false
   }
  },
  {
   "cell_type": "code",
   "execution_count": 61,
   "outputs": [
    {
     "data": {
      "text/plain": "       Min return  VaR-5th  Max Drawdown\nGMWAX     -0.1492  -0.0598       -0.4729",
      "text/html": "<div>\n<style scoped>\n    .dataframe tbody tr th:only-of-type {\n        vertical-align: middle;\n    }\n\n    .dataframe tbody tr th {\n        vertical-align: top;\n    }\n\n    .dataframe thead th {\n        text-align: right;\n    }\n</style>\n<table border=\"1\" class=\"dataframe\">\n  <thead>\n    <tr style=\"text-align: right;\">\n      <th></th>\n      <th>Min return</th>\n      <th>VaR-5th</th>\n      <th>Max Drawdown</th>\n    </tr>\n  </thead>\n  <tbody>\n    <tr>\n      <th>GMWAX</th>\n      <td>-0.1492</td>\n      <td>-0.0598</td>\n      <td>-0.4729</td>\n    </tr>\n  </tbody>\n</table>\n</div>"
     },
     "execution_count": 61,
     "metadata": {},
     "output_type": "execute_result"
    }
   ],
   "source": [
    "tail_risk(GMO_ex.loc[:'2011', ['GMWAX']])"
   ],
   "metadata": {
    "collapsed": false
   }
  },
  {
   "cell_type": "code",
   "execution_count": 62,
   "outputs": [
    {
     "data": {
      "text/plain": "     Min return  VaR-5th  Max Drawdown\nSPY     -0.1656  -0.0802         -0.56",
      "text/html": "<div>\n<style scoped>\n    .dataframe tbody tr th:only-of-type {\n        vertical-align: middle;\n    }\n\n    .dataframe tbody tr th {\n        vertical-align: top;\n    }\n\n    .dataframe thead th {\n        text-align: right;\n    }\n</style>\n<table border=\"1\" class=\"dataframe\">\n  <thead>\n    <tr style=\"text-align: right;\">\n      <th></th>\n      <th>Min return</th>\n      <th>VaR-5th</th>\n      <th>Max Drawdown</th>\n    </tr>\n  </thead>\n  <tbody>\n    <tr>\n      <th>SPY</th>\n      <td>-0.1656</td>\n      <td>-0.0802</td>\n      <td>-0.56</td>\n    </tr>\n  </tbody>\n</table>\n</div>"
     },
     "execution_count": 62,
     "metadata": {},
     "output_type": "execute_result"
    }
   ],
   "source": [
    "tail_risk(GMO_ex.loc[:'2011', ['SPY']])"
   ],
   "metadata": {
    "collapsed": false
   }
  },
  {
   "cell_type": "code",
   "execution_count": 63,
   "outputs": [
    {
     "data": {
      "text/plain": "       Min return  VaR-5th  Max Drawdown\nGMWAX     -0.1187  -0.0397        -0.226",
      "text/html": "<div>\n<style scoped>\n    .dataframe tbody tr th:only-of-type {\n        vertical-align: middle;\n    }\n\n    .dataframe tbody tr th {\n        vertical-align: top;\n    }\n\n    .dataframe thead th {\n        text-align: right;\n    }\n</style>\n<table border=\"1\" class=\"dataframe\">\n  <thead>\n    <tr style=\"text-align: right;\">\n      <th></th>\n      <th>Min return</th>\n      <th>VaR-5th</th>\n      <th>Max Drawdown</th>\n    </tr>\n  </thead>\n  <tbody>\n    <tr>\n      <th>GMWAX</th>\n      <td>-0.1187</td>\n      <td>-0.0397</td>\n      <td>-0.226</td>\n    </tr>\n  </tbody>\n</table>\n</div>"
     },
     "execution_count": 63,
     "metadata": {},
     "output_type": "execute_result"
    }
   ],
   "source": [
    "tail_risk(GMO_ex.loc['2012':, ['GMWAX']])"
   ],
   "metadata": {
    "collapsed": false
   }
  },
  {
   "cell_type": "code",
   "execution_count": 64,
   "outputs": [
    {
     "data": {
      "text/plain": "     Min return  VaR-5th  Max Drawdown\nSPY     -0.1247  -0.0687       -0.2481",
      "text/html": "<div>\n<style scoped>\n    .dataframe tbody tr th:only-of-type {\n        vertical-align: middle;\n    }\n\n    .dataframe tbody tr th {\n        vertical-align: top;\n    }\n\n    .dataframe thead th {\n        text-align: right;\n    }\n</style>\n<table border=\"1\" class=\"dataframe\">\n  <thead>\n    <tr style=\"text-align: right;\">\n      <th></th>\n      <th>Min return</th>\n      <th>VaR-5th</th>\n      <th>Max Drawdown</th>\n    </tr>\n  </thead>\n  <tbody>\n    <tr>\n      <th>SPY</th>\n      <td>-0.1247</td>\n      <td>-0.0687</td>\n      <td>-0.2481</td>\n    </tr>\n  </tbody>\n</table>\n</div>"
     },
     "execution_count": 64,
     "metadata": {},
     "output_type": "execute_result"
    }
   ],
   "source": [
    "tail_risk(GMO_ex.loc['2012':, ['SPY']])"
   ],
   "metadata": {
    "collapsed": false
   }
  },
  {
   "cell_type": "code",
   "execution_count": 65,
   "outputs": [
    {
     "data": {
      "text/plain": "       Min return  VaR-5th  Max Drawdown\nGMWAX     -0.1492  -0.0483       -0.4729",
      "text/html": "<div>\n<style scoped>\n    .dataframe tbody tr th:only-of-type {\n        vertical-align: middle;\n    }\n\n    .dataframe tbody tr th {\n        vertical-align: top;\n    }\n\n    .dataframe thead th {\n        text-align: right;\n    }\n</style>\n<table border=\"1\" class=\"dataframe\">\n  <thead>\n    <tr style=\"text-align: right;\">\n      <th></th>\n      <th>Min return</th>\n      <th>VaR-5th</th>\n      <th>Max Drawdown</th>\n    </tr>\n  </thead>\n  <tbody>\n    <tr>\n      <th>GMWAX</th>\n      <td>-0.1492</td>\n      <td>-0.0483</td>\n      <td>-0.4729</td>\n    </tr>\n  </tbody>\n</table>\n</div>"
     },
     "execution_count": 65,
     "metadata": {},
     "output_type": "execute_result"
    }
   ],
   "source": [
    "tail_risk(GMO_ex[['GMWAX']])"
   ],
   "metadata": {
    "collapsed": false
   }
  },
  {
   "cell_type": "code",
   "execution_count": 66,
   "outputs": [
    {
     "data": {
      "text/plain": "     Min return  VaR-5th  Max Drawdown\nSPY     -0.1656    -0.08         -0.56",
      "text/html": "<div>\n<style scoped>\n    .dataframe tbody tr th:only-of-type {\n        vertical-align: middle;\n    }\n\n    .dataframe tbody tr th {\n        vertical-align: top;\n    }\n\n    .dataframe thead th {\n        text-align: right;\n    }\n</style>\n<table border=\"1\" class=\"dataframe\">\n  <thead>\n    <tr style=\"text-align: right;\">\n      <th></th>\n      <th>Min return</th>\n      <th>VaR-5th</th>\n      <th>Max Drawdown</th>\n    </tr>\n  </thead>\n  <tbody>\n    <tr>\n      <th>SPY</th>\n      <td>-0.1656</td>\n      <td>-0.08</td>\n      <td>-0.56</td>\n    </tr>\n  </tbody>\n</table>\n</div>"
     },
     "execution_count": 66,
     "metadata": {},
     "output_type": "execute_result"
    }
   ],
   "source": [
    "tail_risk(GMO_ex[['SPY']])"
   ],
   "metadata": {
    "collapsed": false
   }
  },
  {
   "cell_type": "markdown",
   "source": [
    "#### (a):\n",
    "- GMWAX has lower tail-risk than SPY as seen by these stats. Also, this applies to all three samples. Therefore, GMWAX in general has lower tail-risk across all time period.\n",
    "\n",
    "#### (b):\n",
    "- Yes, GMWAX's tail-risk does vary much across the two subsamples. It has lower VaR in the second subsample which is indicated as the year of 2012 and forward. Also, the Max Drawdown is much lower in the second subsample. Thus, GMWAX improves substantially in the second subsample\n",
    "\n",
    "### 2 - 3."
   ],
   "metadata": {
    "collapsed": false
   }
  },
  {
   "cell_type": "code",
   "execution_count": 67,
   "outputs": [],
   "source": [
    "# helper functino\n",
    "def reg_params(df, y_col, X_col, intercept = True, annual_fac=12):\n",
    "    y = df[y_col]\n",
    "    if intercept == True:\n",
    "        X = sm.add_constant(df[X_col])\n",
    "    else:\n",
    "        X = df[X_col]\n",
    "\n",
    "    model = sm.OLS(y, X, missing = 'drop').fit()\n",
    "    reg_df = model.params.to_frame('Regression Parameters')\n",
    "    reg_df.loc[r'$R^{2}$'] = model.rsquared\n",
    "\n",
    "    if intercept == True:\n",
    "        reg_df.loc['const'] *= annual_fac\n",
    "\n",
    "    return reg_df"
   ],
   "metadata": {
    "collapsed": false
   }
  },
  {
   "cell_type": "markdown",
   "source": [
    "#### (a):"
   ],
   "metadata": {
    "collapsed": false
   }
  },
  {
   "cell_type": "code",
   "execution_count": 68,
   "outputs": [
    {
     "data": {
      "text/plain": "         Regression Parameters\nconst                  -0.0058\nSPY                     0.5396\n$R^{2}$                 0.5071",
      "text/html": "<div>\n<style scoped>\n    .dataframe tbody tr th:only-of-type {\n        vertical-align: middle;\n    }\n\n    .dataframe tbody tr th {\n        vertical-align: top;\n    }\n\n    .dataframe thead th {\n        text-align: right;\n    }\n</style>\n<table border=\"1\" class=\"dataframe\">\n  <thead>\n    <tr style=\"text-align: right;\">\n      <th></th>\n      <th>Regression Parameters</th>\n    </tr>\n  </thead>\n  <tbody>\n    <tr>\n      <th>const</th>\n      <td>-0.0058</td>\n    </tr>\n    <tr>\n      <th>SPY</th>\n      <td>0.5396</td>\n    </tr>\n    <tr>\n      <th>$R^{2}$</th>\n      <td>0.5071</td>\n    </tr>\n  </tbody>\n</table>\n</div>"
     },
     "execution_count": 68,
     "metadata": {},
     "output_type": "execute_result"
    }
   ],
   "source": [
    "reg_params(GMO_ex.loc[:'2011'], 'GMWAX', 'SPY')"
   ],
   "metadata": {
    "collapsed": false
   }
  },
  {
   "cell_type": "code",
   "execution_count": 69,
   "outputs": [
    {
     "data": {
      "text/plain": "         Regression Parameters\nconst                  -0.0345\nSPY                     0.5622\n$R^{2}$                 0.7645",
      "text/html": "<div>\n<style scoped>\n    .dataframe tbody tr th:only-of-type {\n        vertical-align: middle;\n    }\n\n    .dataframe tbody tr th {\n        vertical-align: top;\n    }\n\n    .dataframe thead th {\n        text-align: right;\n    }\n</style>\n<table border=\"1\" class=\"dataframe\">\n  <thead>\n    <tr style=\"text-align: right;\">\n      <th></th>\n      <th>Regression Parameters</th>\n    </tr>\n  </thead>\n  <tbody>\n    <tr>\n      <th>const</th>\n      <td>-0.0345</td>\n    </tr>\n    <tr>\n      <th>SPY</th>\n      <td>0.5622</td>\n    </tr>\n    <tr>\n      <th>$R^{2}$</th>\n      <td>0.7645</td>\n    </tr>\n  </tbody>\n</table>\n</div>"
     },
     "execution_count": 69,
     "metadata": {},
     "output_type": "execute_result"
    }
   ],
   "source": [
    "reg_params(GMO_ex.loc['2012':], 'GMWAX', 'SPY')"
   ],
   "metadata": {
    "collapsed": false
   }
  },
  {
   "cell_type": "code",
   "execution_count": 70,
   "outputs": [
    {
     "data": {
      "text/plain": "         Regression Parameters\nconst                  -0.0170\nSPY                     0.5456\n$R^{2}$                 0.5777",
      "text/html": "<div>\n<style scoped>\n    .dataframe tbody tr th:only-of-type {\n        vertical-align: middle;\n    }\n\n    .dataframe tbody tr th {\n        vertical-align: top;\n    }\n\n    .dataframe thead th {\n        text-align: right;\n    }\n</style>\n<table border=\"1\" class=\"dataframe\">\n  <thead>\n    <tr style=\"text-align: right;\">\n      <th></th>\n      <th>Regression Parameters</th>\n    </tr>\n  </thead>\n  <tbody>\n    <tr>\n      <th>const</th>\n      <td>-0.0170</td>\n    </tr>\n    <tr>\n      <th>SPY</th>\n      <td>0.5456</td>\n    </tr>\n    <tr>\n      <th>$R^{2}$</th>\n      <td>0.5777</td>\n    </tr>\n  </tbody>\n</table>\n</div>"
     },
     "execution_count": 70,
     "metadata": {},
     "output_type": "execute_result"
    }
   ],
   "source": [
    "reg_params(GMO_ex, 'GMWAX', 'SPY')"
   ],
   "metadata": {
    "collapsed": false
   }
  },
  {
   "cell_type": "markdown",
   "source": [
    "#### (b):\n",
    "- GMWAS is a low-beta strategy. The beta has not changed that much since the case, so we could say that it is a low-beta strategy across all samples and periods.\n",
    "\n",
    "#### (c):\n",
    "- GMWAX does not provide alpha, because the alpha or the constant is negative. That has not changed since the case. The alpha is negative across all samples and periods.\n",
    "\n",
    "## 3. Forecasting Regression\n",
    "### 3 - 1."
   ],
   "metadata": {
    "collapsed": false
   }
  },
  {
   "cell_type": "code",
   "execution_count": 71,
   "outputs": [
    {
     "data": {
      "text/plain": "              DP    EP  US10Y     SPY\nDate                                 \n1993-02-28   NaN   NaN    NaN  0.0107\n1993-03-31  2.82  4.44   6.03  0.0224\n1993-04-30  2.77  4.41   6.03 -0.0256\n1993-05-31  2.82  4.44   6.05  0.0270\n1993-06-30  2.81  4.38   6.16  0.0037",
      "text/html": "<div>\n<style scoped>\n    .dataframe tbody tr th:only-of-type {\n        vertical-align: middle;\n    }\n\n    .dataframe tbody tr th {\n        vertical-align: top;\n    }\n\n    .dataframe thead th {\n        text-align: right;\n    }\n</style>\n<table border=\"1\" class=\"dataframe\">\n  <thead>\n    <tr style=\"text-align: right;\">\n      <th></th>\n      <th>DP</th>\n      <th>EP</th>\n      <th>US10Y</th>\n      <th>SPY</th>\n    </tr>\n    <tr>\n      <th>Date</th>\n      <th></th>\n      <th></th>\n      <th></th>\n      <th></th>\n    </tr>\n  </thead>\n  <tbody>\n    <tr>\n      <th>1993-02-28</th>\n      <td>NaN</td>\n      <td>NaN</td>\n      <td>NaN</td>\n      <td>0.0107</td>\n    </tr>\n    <tr>\n      <th>1993-03-31</th>\n      <td>2.82</td>\n      <td>4.44</td>\n      <td>6.03</td>\n      <td>0.0224</td>\n    </tr>\n    <tr>\n      <th>1993-04-30</th>\n      <td>2.77</td>\n      <td>4.41</td>\n      <td>6.03</td>\n      <td>-0.0256</td>\n    </tr>\n    <tr>\n      <th>1993-05-31</th>\n      <td>2.82</td>\n      <td>4.44</td>\n      <td>6.05</td>\n      <td>0.0270</td>\n    </tr>\n    <tr>\n      <th>1993-06-30</th>\n      <td>2.81</td>\n      <td>4.38</td>\n      <td>6.16</td>\n      <td>0.0037</td>\n    </tr>\n  </tbody>\n</table>\n</div>"
     },
     "execution_count": 71,
     "metadata": {},
     "output_type": "execute_result"
    }
   ],
   "source": [
    "df = df.shift()\n",
    "df['SPY'] = GMO['SPY']\n",
    "\n",
    "df.head()"
   ],
   "metadata": {
    "collapsed": false
   }
  },
  {
   "cell_type": "code",
   "execution_count": 72,
   "outputs": [
    {
     "data": {
      "text/plain": "         Regression Parameters\nconst                  -0.1129\nDP                      0.0094\n$R^{2}$                 0.0094",
      "text/html": "<div>\n<style scoped>\n    .dataframe tbody tr th:only-of-type {\n        vertical-align: middle;\n    }\n\n    .dataframe tbody tr th {\n        vertical-align: top;\n    }\n\n    .dataframe thead th {\n        text-align: right;\n    }\n</style>\n<table border=\"1\" class=\"dataframe\">\n  <thead>\n    <tr style=\"text-align: right;\">\n      <th></th>\n      <th>Regression Parameters</th>\n    </tr>\n  </thead>\n  <tbody>\n    <tr>\n      <th>const</th>\n      <td>-0.1129</td>\n    </tr>\n    <tr>\n      <th>DP</th>\n      <td>0.0094</td>\n    </tr>\n    <tr>\n      <th>$R^{2}$</th>\n      <td>0.0094</td>\n    </tr>\n  </tbody>\n</table>\n</div>"
     },
     "execution_count": 72,
     "metadata": {},
     "output_type": "execute_result"
    }
   ],
   "source": [
    "DP = reg_params(df, 'SPY', 'DP')\n",
    "\n",
    "DP"
   ],
   "metadata": {
    "collapsed": false
   }
  },
  {
   "cell_type": "code",
   "execution_count": 73,
   "outputs": [
    {
     "data": {
      "text/plain": "         Regression Parameters\nconst                  -0.0712\nEP                      0.0032\n$R^{2}$                 0.0086",
      "text/html": "<div>\n<style scoped>\n    .dataframe tbody tr th:only-of-type {\n        vertical-align: middle;\n    }\n\n    .dataframe tbody tr th {\n        vertical-align: top;\n    }\n\n    .dataframe thead th {\n        text-align: right;\n    }\n</style>\n<table border=\"1\" class=\"dataframe\">\n  <thead>\n    <tr style=\"text-align: right;\">\n      <th></th>\n      <th>Regression Parameters</th>\n    </tr>\n  </thead>\n  <tbody>\n    <tr>\n      <th>const</th>\n      <td>-0.0712</td>\n    </tr>\n    <tr>\n      <th>EP</th>\n      <td>0.0032</td>\n    </tr>\n    <tr>\n      <th>$R^{2}$</th>\n      <td>0.0086</td>\n    </tr>\n  </tbody>\n</table>\n</div>"
     },
     "execution_count": 73,
     "metadata": {},
     "output_type": "execute_result"
    }
   ],
   "source": [
    "EP = reg_params(df, 'SPY', 'EP')\n",
    "\n",
    "EP"
   ],
   "metadata": {
    "collapsed": false
   }
  },
  {
   "cell_type": "code",
   "execution_count": 74,
   "outputs": [
    {
     "data": {
      "text/plain": "         Regression Parameters\nconst                  -0.1792\nEP                      0.0027\nDP                      0.0080\nUS10Y                  -0.0010\n$R^{2}$                 0.0163",
      "text/html": "<div>\n<style scoped>\n    .dataframe tbody tr th:only-of-type {\n        vertical-align: middle;\n    }\n\n    .dataframe tbody tr th {\n        vertical-align: top;\n    }\n\n    .dataframe thead th {\n        text-align: right;\n    }\n</style>\n<table border=\"1\" class=\"dataframe\">\n  <thead>\n    <tr style=\"text-align: right;\">\n      <th></th>\n      <th>Regression Parameters</th>\n    </tr>\n  </thead>\n  <tbody>\n    <tr>\n      <th>const</th>\n      <td>-0.1792</td>\n    </tr>\n    <tr>\n      <th>EP</th>\n      <td>0.0027</td>\n    </tr>\n    <tr>\n      <th>DP</th>\n      <td>0.0080</td>\n    </tr>\n    <tr>\n      <th>US10Y</th>\n      <td>-0.0010</td>\n    </tr>\n    <tr>\n      <th>$R^{2}$</th>\n      <td>0.0163</td>\n    </tr>\n  </tbody>\n</table>\n</div>"
     },
     "execution_count": 74,
     "metadata": {},
     "output_type": "execute_result"
    }
   ],
   "source": [
    "EP_DP_10Y = reg_params(df, 'SPY', ['EP','DP','US10Y'])\n",
    "\n",
    "EP_DP_10Y"
   ],
   "metadata": {
    "collapsed": false
   }
  },
  {
   "cell_type": "markdown",
   "source": [
    "### 3 - 2."
   ],
   "metadata": {
    "collapsed": false
   }
  },
  {
   "cell_type": "code",
   "execution_count": 75,
   "outputs": [],
   "source": [
    "# scaling\n",
    "w_DP = 100 * (DP.loc['const'][0]/12 + DP.loc['DP'][0] * df['DP'])\n",
    "\n",
    "r_DP = (w_DP * df['SPY']).dropna()\n",
    "\n",
    "w_EP = 100 * (EP.loc['const'][0]/12 + EP.loc['EP'][0] * df['EP'])\n",
    "\n",
    "r_EP = (w_EP * df['SPY']).dropna()\n",
    "\n",
    "w_3fac = 100 * (EP_DP_10Y.loc['const'][0]/12 + EP_DP_10Y.loc['EP'][0] * df['EP']\\\n",
    "                                             + EP_DP_10Y.loc['DP'][0] * df['DP']\\\n",
    "                                             + EP_DP_10Y.loc['US10Y'][0] * df['US10Y'])\n",
    "\n",
    "r_3fac = (w_3fac * df['SPY']).dropna()"
   ],
   "metadata": {
    "collapsed": false
   }
  },
  {
   "cell_type": "code",
   "execution_count": 76,
   "outputs": [],
   "source": [
    "# helper function\n",
    "def summary_stats_bm(series, bm, annual_fac=12):\n",
    "    ss_df = pd.DataFrame(data = None, index = ['Summary Stats'])\n",
    "    ss_df['Mean'] = series.mean() * annual_fac\n",
    "    ss_df['Vol'] = series.std() * np.sqrt(annual_fac)\n",
    "    ss_df['Sharpe (Mean/Vol)'] = ss_df['Mean'] / ss_df['Vol']\n",
    "\n",
    "    y = series\n",
    "    X = sm.add_constant(bm.loc[series.index])\n",
    "    reg = sm.OLS(y,X).fit().params\n",
    "    ss_df[r'$\\alpha$'] = reg[0] * annual_fac\n",
    "    ss_df[r'$\\beta^{SPY}$'] = reg[1]\n",
    "\n",
    "    cum_ret = (1 + series).cumprod()\n",
    "    rolling_max = cum_ret.cummax()\n",
    "    drawdown = (cum_ret - rolling_max) / rolling_max\n",
    "    ss_df['Max Drawdown'] = drawdown.min()\n",
    "\n",
    "    return round(ss_df, 4)"
   ],
   "metadata": {
    "collapsed": false
   }
  },
  {
   "cell_type": "code",
   "execution_count": 77,
   "outputs": [
    {
     "data": {
      "text/plain": "                 Mean    Vol  Sharpe (Mean/Vol)  $\\alpha$  $\\beta^{SPY}$  \\\nSummary Stats  0.1095  0.149             0.7348    0.0207         0.8611   \n\n               Max Drawdown  \nSummary Stats        -0.653  ",
      "text/html": "<div>\n<style scoped>\n    .dataframe tbody tr th:only-of-type {\n        vertical-align: middle;\n    }\n\n    .dataframe tbody tr th {\n        vertical-align: top;\n    }\n\n    .dataframe thead th {\n        text-align: right;\n    }\n</style>\n<table border=\"1\" class=\"dataframe\">\n  <thead>\n    <tr style=\"text-align: right;\">\n      <th></th>\n      <th>Mean</th>\n      <th>Vol</th>\n      <th>Sharpe (Mean/Vol)</th>\n      <th>$\\alpha$</th>\n      <th>$\\beta^{SPY}$</th>\n      <th>Max Drawdown</th>\n    </tr>\n  </thead>\n  <tbody>\n    <tr>\n      <th>Summary Stats</th>\n      <td>0.1095</td>\n      <td>0.149</td>\n      <td>0.7348</td>\n      <td>0.0207</td>\n      <td>0.8611</td>\n      <td>-0.653</td>\n    </tr>\n  </tbody>\n</table>\n</div>"
     },
     "execution_count": 77,
     "metadata": {},
     "output_type": "execute_result"
    }
   ],
   "source": [
    "summary_stats_bm(r_DP, df[['SPY']])"
   ],
   "metadata": {
    "collapsed": false
   }
  },
  {
   "cell_type": "code",
   "execution_count": 78,
   "outputs": [
    {
     "data": {
      "text/plain": "                 Mean     Vol  Sharpe (Mean/Vol)  $\\alpha$  $\\beta^{SPY}$  \\\nSummary Stats  0.1078  0.1286             0.8383    0.0322         0.7327   \n\n               Max Drawdown  \nSummary Stats       -0.3823  ",
      "text/html": "<div>\n<style scoped>\n    .dataframe tbody tr th:only-of-type {\n        vertical-align: middle;\n    }\n\n    .dataframe tbody tr th {\n        vertical-align: top;\n    }\n\n    .dataframe thead th {\n        text-align: right;\n    }\n</style>\n<table border=\"1\" class=\"dataframe\">\n  <thead>\n    <tr style=\"text-align: right;\">\n      <th></th>\n      <th>Mean</th>\n      <th>Vol</th>\n      <th>Sharpe (Mean/Vol)</th>\n      <th>$\\alpha$</th>\n      <th>$\\beta^{SPY}$</th>\n      <th>Max Drawdown</th>\n    </tr>\n  </thead>\n  <tbody>\n    <tr>\n      <th>Summary Stats</th>\n      <td>0.1078</td>\n      <td>0.1286</td>\n      <td>0.8383</td>\n      <td>0.0322</td>\n      <td>0.7327</td>\n      <td>-0.3823</td>\n    </tr>\n  </tbody>\n</table>\n</div>"
     },
     "execution_count": 78,
     "metadata": {},
     "output_type": "execute_result"
    }
   ],
   "source": [
    "summary_stats_bm(r_EP, df[['SPY']])"
   ],
   "metadata": {
    "collapsed": false
   }
  },
  {
   "cell_type": "code",
   "execution_count": 79,
   "outputs": [
    {
     "data": {
      "text/plain": "                Mean     Vol  Sharpe (Mean/Vol)  $\\alpha$  $\\beta^{SPY}$  \\\nSummary Stats  0.125  0.1456             0.8588    0.0451          0.775   \n\n               Max Drawdown  \nSummary Stats       -0.5221  ",
      "text/html": "<div>\n<style scoped>\n    .dataframe tbody tr th:only-of-type {\n        vertical-align: middle;\n    }\n\n    .dataframe tbody tr th {\n        vertical-align: top;\n    }\n\n    .dataframe thead th {\n        text-align: right;\n    }\n</style>\n<table border=\"1\" class=\"dataframe\">\n  <thead>\n    <tr style=\"text-align: right;\">\n      <th></th>\n      <th>Mean</th>\n      <th>Vol</th>\n      <th>Sharpe (Mean/Vol)</th>\n      <th>$\\alpha$</th>\n      <th>$\\beta^{SPY}$</th>\n      <th>Max Drawdown</th>\n    </tr>\n  </thead>\n  <tbody>\n    <tr>\n      <th>Summary Stats</th>\n      <td>0.125</td>\n      <td>0.1456</td>\n      <td>0.8588</td>\n      <td>0.0451</td>\n      <td>0.775</td>\n      <td>-0.5221</td>\n    </tr>\n  </tbody>\n</table>\n</div>"
     },
     "execution_count": 79,
     "metadata": {},
     "output_type": "execute_result"
    }
   ],
   "source": [
    "summary_stats_bm(r_3fac, df[['SPY']])"
   ],
   "metadata": {
    "collapsed": false
   }
  },
  {
   "cell_type": "markdown",
   "source": [
    "### 3 - 3.\n",
    "#### (a):"
   ],
   "metadata": {
    "collapsed": false
   }
  },
  {
   "cell_type": "code",
   "execution_count": 80,
   "outputs": [
    {
     "data": {
      "text/plain": "                5% VaR\nDP Strat       -0.0523\nEP Strat       -0.0541\n3-factor Strat -0.0642\nSPY            -0.0739\nGMO            -0.0473",
      "text/html": "<div>\n<style scoped>\n    .dataframe tbody tr th:only-of-type {\n        vertical-align: middle;\n    }\n\n    .dataframe tbody tr th {\n        vertical-align: top;\n    }\n\n    .dataframe thead th {\n        text-align: right;\n    }\n</style>\n<table border=\"1\" class=\"dataframe\">\n  <thead>\n    <tr style=\"text-align: right;\">\n      <th></th>\n      <th>5% VaR</th>\n    </tr>\n  </thead>\n  <tbody>\n    <tr>\n      <th>DP Strat</th>\n      <td>-0.0523</td>\n    </tr>\n    <tr>\n      <th>EP Strat</th>\n      <td>-0.0541</td>\n    </tr>\n    <tr>\n      <th>3-factor Strat</th>\n      <td>-0.0642</td>\n    </tr>\n    <tr>\n      <th>SPY</th>\n      <td>-0.0739</td>\n    </tr>\n    <tr>\n      <th>GMO</th>\n      <td>-0.0473</td>\n    </tr>\n  </tbody>\n</table>\n</div>"
     },
     "execution_count": 80,
     "metadata": {},
     "output_type": "execute_result"
    }
   ],
   "source": [
    "VaR = pd.DataFrame([r_DP.quantile(.05), r_EP.quantile(.05), r_3fac.quantile(.05),\n",
    "                    df['SPY'].quantile(.05),\n",
    "                    GMO['GMWAX'].quantile(.05)],\n",
    "                   index = ['DP Strat','EP Strat','3-factor Strat','SPY','GMO'],\n",
    "                   columns = ['5% VaR'])\n",
    "\n",
    "VaR"
   ],
   "metadata": {
    "collapsed": false
   }
  },
  {
   "cell_type": "markdown",
   "source": [
    "#### (b):"
   ],
   "metadata": {
    "collapsed": false
   }
  },
  {
   "cell_type": "code",
   "execution_count": 81,
   "outputs": [
    {
     "data": {
      "text/plain": "            Mean     Vol  Sharpe\nDP Strat  0.0393  0.1842  0.2135",
      "text/html": "<div>\n<style scoped>\n    .dataframe tbody tr th:only-of-type {\n        vertical-align: middle;\n    }\n\n    .dataframe tbody tr th {\n        vertical-align: top;\n    }\n\n    .dataframe thead th {\n        text-align: right;\n    }\n</style>\n<table border=\"1\" class=\"dataframe\">\n  <thead>\n    <tr style=\"text-align: right;\">\n      <th></th>\n      <th>Mean</th>\n      <th>Vol</th>\n      <th>Sharpe</th>\n    </tr>\n  </thead>\n  <tbody>\n    <tr>\n      <th>DP Strat</th>\n      <td>0.0393</td>\n      <td>0.1842</td>\n      <td>0.2135</td>\n    </tr>\n  </tbody>\n</table>\n</div>"
     },
     "execution_count": 81,
     "metadata": {},
     "output_type": "execute_result"
    }
   ],
   "source": [
    "summary_stats(r_DP.to_frame('DP Strat').loc['2000':'2011'])"
   ],
   "metadata": {
    "collapsed": false
   }
  },
  {
   "cell_type": "code",
   "execution_count": 82,
   "outputs": [
    {
     "data": {
      "text/plain": "            Mean     Vol  Sharpe\nEP Strat  0.0373  0.1339  0.2784",
      "text/html": "<div>\n<style scoped>\n    .dataframe tbody tr th:only-of-type {\n        vertical-align: middle;\n    }\n\n    .dataframe tbody tr th {\n        vertical-align: top;\n    }\n\n    .dataframe thead th {\n        text-align: right;\n    }\n</style>\n<table border=\"1\" class=\"dataframe\">\n  <thead>\n    <tr style=\"text-align: right;\">\n      <th></th>\n      <th>Mean</th>\n      <th>Vol</th>\n      <th>Sharpe</th>\n    </tr>\n  </thead>\n  <tbody>\n    <tr>\n      <th>EP Strat</th>\n      <td>0.0373</td>\n      <td>0.1339</td>\n      <td>0.2784</td>\n    </tr>\n  </tbody>\n</table>\n</div>"
     },
     "execution_count": 82,
     "metadata": {},
     "output_type": "execute_result"
    }
   ],
   "source": [
    "summary_stats(r_EP.to_frame('EP Strat').loc['2000':'2011'])"
   ],
   "metadata": {
    "collapsed": false
   }
  },
  {
   "cell_type": "code",
   "execution_count": 83,
   "outputs": [
    {
     "data": {
      "text/plain": "                  Mean     Vol  Sharpe\n3-factor Strat  0.0608  0.1574  0.3863",
      "text/html": "<div>\n<style scoped>\n    .dataframe tbody tr th:only-of-type {\n        vertical-align: middle;\n    }\n\n    .dataframe tbody tr th {\n        vertical-align: top;\n    }\n\n    .dataframe thead th {\n        text-align: right;\n    }\n</style>\n<table border=\"1\" class=\"dataframe\">\n  <thead>\n    <tr style=\"text-align: right;\">\n      <th></th>\n      <th>Mean</th>\n      <th>Vol</th>\n      <th>Sharpe</th>\n    </tr>\n  </thead>\n  <tbody>\n    <tr>\n      <th>3-factor Strat</th>\n      <td>0.0608</td>\n      <td>0.1574</td>\n      <td>0.3863</td>\n    </tr>\n  </tbody>\n</table>\n</div>"
     },
     "execution_count": 83,
     "metadata": {},
     "output_type": "execute_result"
    }
   ],
   "source": [
    "summary_stats(r_3fac.to_frame('3-factor Strat').loc['2000':'2011'])"
   ],
   "metadata": {
    "collapsed": false
   }
  },
  {
   "cell_type": "code",
   "execution_count": 84,
   "outputs": [
    {
     "data": {
      "text/plain": "        Mean     Vol  Sharpe\nUS3M  0.0231  0.0058  3.9866",
      "text/html": "<div>\n<style scoped>\n    .dataframe tbody tr th:only-of-type {\n        vertical-align: middle;\n    }\n\n    .dataframe tbody tr th {\n        vertical-align: top;\n    }\n\n    .dataframe thead th {\n        text-align: right;\n    }\n</style>\n<table border=\"1\" class=\"dataframe\">\n  <thead>\n    <tr style=\"text-align: right;\">\n      <th></th>\n      <th>Mean</th>\n      <th>Vol</th>\n      <th>Sharpe</th>\n    </tr>\n  </thead>\n  <tbody>\n    <tr>\n      <th>US3M</th>\n      <td>0.0231</td>\n      <td>0.0058</td>\n      <td>3.9866</td>\n    </tr>\n  </tbody>\n</table>\n</div>"
     },
     "execution_count": 84,
     "metadata": {},
     "output_type": "execute_result"
    }
   ],
   "source": [
    "summary_stats(rf.loc['2000':'2011'])"
   ],
   "metadata": {
    "collapsed": false
   }
  },
  {
   "cell_type": "markdown",
   "source": [
    "- All the dynamic strategies outperform the risk-free rate during this period.\n",
    "\n",
    "#### (c):"
   ],
   "metadata": {
    "collapsed": false
   }
  },
  {
   "cell_type": "code",
   "execution_count": 85,
   "outputs": [
    {
     "data": {
      "text/plain": "                                      3-factor Strat  DP Strat  EP Strat\n% of periods underperforming $r^{f}$         37.0787   37.3596   37.3596",
      "text/html": "<div>\n<style scoped>\n    .dataframe tbody tr th:only-of-type {\n        vertical-align: middle;\n    }\n\n    .dataframe tbody tr th {\n        vertical-align: top;\n    }\n\n    .dataframe thead th {\n        text-align: right;\n    }\n</style>\n<table border=\"1\" class=\"dataframe\">\n  <thead>\n    <tr style=\"text-align: right;\">\n      <th></th>\n      <th>3-factor Strat</th>\n      <th>DP Strat</th>\n      <th>EP Strat</th>\n    </tr>\n  </thead>\n  <tbody>\n    <tr>\n      <th>% of periods underperforming $r^{f}$</th>\n      <td>37.0787</td>\n      <td>37.3596</td>\n      <td>37.3596</td>\n    </tr>\n  </tbody>\n</table>\n</div>"
     },
     "execution_count": 85,
     "metadata": {},
     "output_type": "execute_result"
    }
   ],
   "source": [
    "r_df = r_3fac.to_frame('3-factor Strat')\n",
    "r_df['DP Strat'] = r_DP\n",
    "r_df['EP Strat'] = r_EP\n",
    "r_df['rf'] = rf['US3M']\n",
    "\n",
    "df_riskprem = pd.DataFrame(data=None, index=[r'% of periods underperforming $r^{f}$'])\n",
    "for col in r_df.columns[:3]:\n",
    "    df_riskprem[col] = len(r_df[r_df[col] < r_df['rf']])/len(r_df) * 100\n",
    "\n",
    "df_riskprem"
   ],
   "metadata": {
    "collapsed": false
   }
  },
  {
   "cell_type": "markdown",
   "source": [
    "#### (d):\n",
    "- No, judging by the tail risk metrics and volatility compared to SPY, the dynamic strategy does not seem to take on extra risk on the whole.\n",
    "\n",
    "- However, we must keep in mind that the strategies are dependent on running regressions with very little prediction power, so badly estimated parameters could lead to terrible performance. (Fortunately, this was not the case in our backtesting since we did not observe high volatility or tail risk)\n",
    "\n",
    "## 4 Out-of-Sample Forecasting"
   ],
   "metadata": {
    "collapsed": false
   }
  },
  {
   "cell_type": "code",
   "execution_count": 86,
   "outputs": [],
   "source": [
    "# helper function\n",
    "def OOS_r2(df, factors, start):\n",
    "    y = df['SPY']\n",
    "    X = sm.add_constant(df[factors])\n",
    "\n",
    "    forecast_err, null_err = [], []\n",
    "\n",
    "    for i,j in enumerate(df.index):\n",
    "        if i >= start:\n",
    "            currX = X.iloc[:i]\n",
    "            currY = y.iloc[:i]\n",
    "            reg = sm.OLS(currY, currX, missing = 'drop').fit()\n",
    "            null_forecast = currY.mean()\n",
    "            reg_predict = reg.predict(X.iloc[[i]])\n",
    "            actual = y.iloc[[i]]\n",
    "            forecast_err.append(reg_predict - actual)\n",
    "            null_err.append(null_forecast - actual)\n",
    "\n",
    "    RSS = (np.array(forecast_err)**2).sum()\n",
    "    TSS = (np.array(null_err)**2).sum()\n",
    "\n",
    "    return 1 - RSS/TSS"
   ],
   "metadata": {
    "collapsed": false
   }
  },
  {
   "cell_type": "markdown",
   "source": [
    "###  4 - 1."
   ],
   "metadata": {
    "collapsed": false
   }
  },
  {
   "cell_type": "code",
   "execution_count": 87,
   "outputs": [
    {
     "name": "stdout",
     "output_type": "stream",
     "text": [
      "EP OOS R-squared: -0.007\n"
     ]
    }
   ],
   "source": [
    "EP_OOS_r2 = OOS_r2(df, ['EP'], 60)\n",
    "\n",
    "print('EP OOS R-squared: ' + str(round(EP_OOS_r2, 4)))"
   ],
   "metadata": {
    "collapsed": false
   }
  },
  {
   "cell_type": "markdown",
   "source": [
    "- No the $R^2$ value is negative\n",
    "\n",
    "### 4 - 2"
   ],
   "metadata": {
    "collapsed": false
   }
  },
  {
   "cell_type": "code",
   "execution_count": 88,
   "outputs": [],
   "source": [
    "def OOS_strat(df, factors, start, weight):\n",
    "    returns = []\n",
    "    y = df['SPY']\n",
    "    X = sm.add_constant(df[factors])\n",
    "\n",
    "    for i,j in enumerate(df.index):\n",
    "        if i >= start:\n",
    "            currX = X.iloc[:i]\n",
    "            currY = y.iloc[:i]\n",
    "            reg = sm.OLS(currY, currX, missing = 'drop').fit()\n",
    "            pred = reg.predict(X.iloc[[i]])\n",
    "            w = pred * weight\n",
    "            returns.append((df.iloc[i]['SPY'] * w)[0])\n",
    "\n",
    "    df_strat = pd.DataFrame(data = returns, index = df.iloc[-(len(returns)):].index, columns = ['Strat Returns'])\n",
    "    return df_strat"
   ],
   "metadata": {
    "collapsed": false
   }
  },
  {
   "cell_type": "code",
   "execution_count": 89,
   "outputs": [],
   "source": [
    "OOS_EP = OOS_strat(df, ['EP'], 60, 100)"
   ],
   "metadata": {
    "collapsed": false
   }
  },
  {
   "cell_type": "code",
   "execution_count": 90,
   "outputs": [
    {
     "data": {
      "text/plain": "                 Mean     Vol  Sharpe (Mean/Vol)  $\\alpha$  $\\beta^{SPY}$  \\\nSummary Stats  0.0819  0.1654             0.4953    0.0353         0.5435   \n\n               Max Drawdown  \nSummary Stats       -0.5837  ",
      "text/html": "<div>\n<style scoped>\n    .dataframe tbody tr th:only-of-type {\n        vertical-align: middle;\n    }\n\n    .dataframe tbody tr th {\n        vertical-align: top;\n    }\n\n    .dataframe thead th {\n        text-align: right;\n    }\n</style>\n<table border=\"1\" class=\"dataframe\">\n  <thead>\n    <tr style=\"text-align: right;\">\n      <th></th>\n      <th>Mean</th>\n      <th>Vol</th>\n      <th>Sharpe (Mean/Vol)</th>\n      <th>$\\alpha$</th>\n      <th>$\\beta^{SPY}$</th>\n      <th>Max Drawdown</th>\n    </tr>\n  </thead>\n  <tbody>\n    <tr>\n      <th>Summary Stats</th>\n      <td>0.0819</td>\n      <td>0.1654</td>\n      <td>0.4953</td>\n      <td>0.0353</td>\n      <td>0.5435</td>\n      <td>-0.5837</td>\n    </tr>\n  </tbody>\n</table>\n</div>"
     },
     "execution_count": 90,
     "metadata": {},
     "output_type": "execute_result"
    }
   ],
   "source": [
    "summary_stats_bm(OOS_EP['Strat Returns'], GMO[['SPY']])"
   ],
   "metadata": {
    "collapsed": false
   }
  },
  {
   "cell_type": "markdown",
   "source": [
    "- Compared to the in-sample version in Q3.2, this strategy under-performs in terms of the expected return and the Sharpe ratio of the portfolio. Though the Max draw-down is less than the DP regression strategy, it is not much less than all 3 strategies. Therefore, even in terms of risk, this strategy does not seem to be significantly better either. (We cannot rule with certainty on this with only this summary statistics)\n",
    "\n",
    "### 4 - 3\n",
    "#### (a):"
   ],
   "metadata": {
    "collapsed": false
   }
  },
  {
   "cell_type": "code",
   "execution_count": 91,
   "outputs": [
    {
     "data": {
      "text/plain": "          5% VaR\nEP Strat -0.0710\nSPY      -0.0739\nGMO      -0.0473",
      "text/html": "<div>\n<style scoped>\n    .dataframe tbody tr th:only-of-type {\n        vertical-align: middle;\n    }\n\n    .dataframe tbody tr th {\n        vertical-align: top;\n    }\n\n    .dataframe thead th {\n        text-align: right;\n    }\n</style>\n<table border=\"1\" class=\"dataframe\">\n  <thead>\n    <tr style=\"text-align: right;\">\n      <th></th>\n      <th>5% VaR</th>\n    </tr>\n  </thead>\n  <tbody>\n    <tr>\n      <th>EP Strat</th>\n      <td>-0.0710</td>\n    </tr>\n    <tr>\n      <th>SPY</th>\n      <td>-0.0739</td>\n    </tr>\n    <tr>\n      <th>GMO</th>\n      <td>-0.0473</td>\n    </tr>\n  </tbody>\n</table>\n</div>"
     },
     "execution_count": 91,
     "metadata": {},
     "output_type": "execute_result"
    }
   ],
   "source": [
    "VaR_OOS = pd.DataFrame([OOS_EP['Strat Returns'].quantile(.05),\n",
    "                    df['SPY'].quantile(.05),\n",
    "                    GMO['GMWAX'].quantile(.05)],\n",
    "                   index = ['EP Strat','SPY','GMO'],\n",
    "                   columns = ['5% VaR'])\n",
    "\n",
    "VaR_OOS"
   ],
   "metadata": {
    "collapsed": false
   }
  },
  {
   "cell_type": "markdown",
   "source": [
    "#### (b):"
   ],
   "metadata": {
    "collapsed": false
   }
  },
  {
   "cell_type": "code",
   "execution_count": 92,
   "outputs": [
    {
     "data": {
      "text/plain": "                 Mean     Vol  Sharpe (Mean/Vol)  $\\alpha$  $\\beta^{SPY}$  \\\nSummary Stats  0.0388  0.1959             0.1979    0.0333         0.2994   \n\n               Max Drawdown  \nSummary Stats       -0.5837  ",
      "text/html": "<div>\n<style scoped>\n    .dataframe tbody tr th:only-of-type {\n        vertical-align: middle;\n    }\n\n    .dataframe tbody tr th {\n        vertical-align: top;\n    }\n\n    .dataframe thead th {\n        text-align: right;\n    }\n</style>\n<table border=\"1\" class=\"dataframe\">\n  <thead>\n    <tr style=\"text-align: right;\">\n      <th></th>\n      <th>Mean</th>\n      <th>Vol</th>\n      <th>Sharpe (Mean/Vol)</th>\n      <th>$\\alpha$</th>\n      <th>$\\beta^{SPY}$</th>\n      <th>Max Drawdown</th>\n    </tr>\n  </thead>\n  <tbody>\n    <tr>\n      <th>Summary Stats</th>\n      <td>0.0388</td>\n      <td>0.1959</td>\n      <td>0.1979</td>\n      <td>0.0333</td>\n      <td>0.2994</td>\n      <td>-0.5837</td>\n    </tr>\n  </tbody>\n</table>\n</div>"
     },
     "execution_count": 92,
     "metadata": {},
     "output_type": "execute_result"
    }
   ],
   "source": [
    "summary_stats_bm(OOS_EP.loc['2000':'2011']['Strat Returns'], GMO[['SPY']])"
   ],
   "metadata": {
    "collapsed": false
   }
  },
  {
   "cell_type": "code",
   "execution_count": 93,
   "outputs": [
    {
     "data": {
      "text/plain": "        Mean     Vol  Sharpe\nUS3M  0.0231  0.0058  3.9866",
      "text/html": "<div>\n<style scoped>\n    .dataframe tbody tr th:only-of-type {\n        vertical-align: middle;\n    }\n\n    .dataframe tbody tr th {\n        vertical-align: top;\n    }\n\n    .dataframe thead th {\n        text-align: right;\n    }\n</style>\n<table border=\"1\" class=\"dataframe\">\n  <thead>\n    <tr style=\"text-align: right;\">\n      <th></th>\n      <th>Mean</th>\n      <th>Vol</th>\n      <th>Sharpe</th>\n    </tr>\n  </thead>\n  <tbody>\n    <tr>\n      <th>US3M</th>\n      <td>0.0231</td>\n      <td>0.0058</td>\n      <td>3.9866</td>\n    </tr>\n  </tbody>\n</table>\n</div>"
     },
     "execution_count": 93,
     "metadata": {},
     "output_type": "execute_result"
    }
   ],
   "source": [
    "summary_stats(rf.loc['2000':'2011'])"
   ],
   "metadata": {
    "collapsed": false
   }
  },
  {
   "cell_type": "markdown",
   "source": [
    "- The dynamic strategy barely overperforms the risk-free rate in terms of premium.\n",
    "\n",
    "#### (c):"
   ],
   "metadata": {
    "collapsed": false
   }
  },
  {
   "cell_type": "code",
   "execution_count": 94,
   "outputs": [
    {
     "data": {
      "text/plain": "                                      EP Strat   rf\n% of periods underperforming $r^{f}$   38.3838  0.0",
      "text/html": "<div>\n<style scoped>\n    .dataframe tbody tr th:only-of-type {\n        vertical-align: middle;\n    }\n\n    .dataframe tbody tr th {\n        vertical-align: top;\n    }\n\n    .dataframe thead th {\n        text-align: right;\n    }\n</style>\n<table border=\"1\" class=\"dataframe\">\n  <thead>\n    <tr style=\"text-align: right;\">\n      <th></th>\n      <th>EP Strat</th>\n      <th>rf</th>\n    </tr>\n  </thead>\n  <tbody>\n    <tr>\n      <th>% of periods underperforming $r^{f}$</th>\n      <td>38.3838</td>\n      <td>0.0</td>\n    </tr>\n  </tbody>\n</table>\n</div>"
     },
     "execution_count": 94,
     "metadata": {},
     "output_type": "execute_result"
    }
   ],
   "source": [
    "r_df_OOS = OOS_EP.rename(columns={\"Strat Returns\": \"EP Strat\"})\n",
    "r_df_OOS['rf'] = rf['US3M']\n",
    "\n",
    "df_riskprem2 = pd.DataFrame(data=None, index=[r'% of periods underperforming $r^{f}$'])\n",
    "for col in r_df_OOS.columns[:3]:\n",
    "    df_riskprem2[col] = len(r_df_OOS[r_df_OOS[col] < r_df_OOS['rf']])/len(r_df_OOS) * 100\n",
    "\n",
    "df_riskprem2"
   ],
   "metadata": {
    "collapsed": false
   }
  },
  {
   "cell_type": "markdown",
   "source": [
    "#### (d):\n",
    "- The dynamic strategy tends to have worse risk metrics than SPY so it seems this strategy does take on extra risk."
   ],
   "metadata": {
    "collapsed": false
   }
  }
 ],
 "metadata": {
  "kernelspec": {
   "display_name": "Python 3",
   "language": "python",
   "name": "python3"
  },
  "language_info": {
   "codemirror_mode": {
    "name": "ipython",
    "version": 2
   },
   "file_extension": ".py",
   "mimetype": "text/x-python",
   "name": "python",
   "nbconvert_exporter": "python",
   "pygments_lexer": "ipython2",
   "version": "2.7.6"
  }
 },
 "nbformat": 4,
 "nbformat_minor": 0
}
