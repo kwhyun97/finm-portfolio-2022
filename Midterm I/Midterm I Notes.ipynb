{
 "cells": [
  {
   "cell_type": "markdown",
   "source": [
    "# FINM 36700 Midterm I\n",
    "\n",
    "### Ki Hyun\n",
    "\n",
    "## Imports"
   ],
   "metadata": {
    "collapsed": false
   }
  },
  {
   "cell_type": "code",
   "execution_count": 105,
   "outputs": [],
   "source": [
    "import pandas as pd\n",
    "import numpy as np\n",
    "import scipy.stats as stat\n",
    "import seaborn as sns\n",
    "import matplotlib.pyplot as plt\n",
    "from scipy.stats import kurtosis, skew\n",
    "import seaborn as sns\n",
    "import statsmodels.api as sm\n",
    "from statsmodels.regression.rolling import RollingOLS\n",
    "from sklearn.linear_model import LinearRegression\n",
    "from arch import arch_model\n",
    "from arch.univariate import GARCH, EWMAVariance\n",
    "import warnings\n",
    "warnings.filterwarnings(\"ignore\")\n",
    "\n",
    "%matplotlib inline"
   ],
   "metadata": {
    "collapsed": false
   }
  },
  {
   "cell_type": "markdown",
   "source": [
    "## 1 Short Answer\n",
    "### 1:\n",
    "- No that is not a good decision since adding another asset class should be decided upon the covariance of that asset class with other asset classes--not the Sharpe Ratio. As we saw in HW1, when doing the mean-variance optimization for a portfolio, the weights of each asset class does not follow the order of Sharpe Ratio. Similarly, just looking at cryptocurrency's Sharpe ratio would not aid in making that decision.\n",
    "### 2:\n",
    "- True. As discussed during class, with two assets have similar\n",
    "### 3:\n",
    "- Approximation based on normal distribution performed better than historic simulation in the actual data.\n",
    "- The judgement on which performs better was done based on testing the violation rate. (i.e. For a 0.05 VaR, for instance, we would test the VaR on actual returns data and the returns being below the VaR should occur around 5% of the time. Being closer to that number would mean that the VaR method performed better)\n",
    "### 4:\n",
    "- Harvard puts restriction on the weights so that the portfolio does not consist of extreme weights.\n",
    "- The problem with this approach is that the optimization does not explore all the possible options. The solution given from the process may indeed be the best possible option within the set limits, but there could be a situation where a significantly better portfolio being able to be constructed just outside the boundaries of the limits on weights.\n",
    "### 5:\n",
    "- Ridge regression and Lasso both aid in the reduction of dimension when it comes to mean-variance optimization.\n",
    "- Since the classic MV solution needs a lot of estimations for mean, variance, and covariance, reducing the dimension in the MV optimal weighting problem would make the process much more efficient.\n",
    "### 6:\n",
    "-\n",
    "\n",
    "## Reading Data"
   ],
   "metadata": {
    "collapsed": false
   }
  },
  {
   "cell_type": "code",
   "execution_count": 73,
   "outputs": [
    {
     "data": {
      "text/plain": "                 CL1       GC1       KC1       ES1       BP1\ndate                                                        \n2009-01-31 -0.113532  0.048627  0.061111 -0.086109 -0.007831\n2009-02-28  0.044680  0.015187 -0.079479 -0.107294 -0.008309\n2009-03-31  0.087892 -0.021111  0.034402  0.087209  0.001745\n2009-04-30 -0.013826 -0.036543 -0.006491  0.094679  0.032897\n2009-05-31  0.287437  0.098300  0.185518  0.055172  0.088934",
      "text/html": "<div>\n<style scoped>\n    .dataframe tbody tr th:only-of-type {\n        vertical-align: middle;\n    }\n\n    .dataframe tbody tr th {\n        vertical-align: top;\n    }\n\n    .dataframe thead th {\n        text-align: right;\n    }\n</style>\n<table border=\"1\" class=\"dataframe\">\n  <thead>\n    <tr style=\"text-align: right;\">\n      <th></th>\n      <th>CL1</th>\n      <th>GC1</th>\n      <th>KC1</th>\n      <th>ES1</th>\n      <th>BP1</th>\n    </tr>\n    <tr>\n      <th>date</th>\n      <th></th>\n      <th></th>\n      <th></th>\n      <th></th>\n      <th></th>\n    </tr>\n  </thead>\n  <tbody>\n    <tr>\n      <th>2009-01-31</th>\n      <td>-0.113532</td>\n      <td>0.048627</td>\n      <td>0.061111</td>\n      <td>-0.086109</td>\n      <td>-0.007831</td>\n    </tr>\n    <tr>\n      <th>2009-02-28</th>\n      <td>0.044680</td>\n      <td>0.015187</td>\n      <td>-0.079479</td>\n      <td>-0.107294</td>\n      <td>-0.008309</td>\n    </tr>\n    <tr>\n      <th>2009-03-31</th>\n      <td>0.087892</td>\n      <td>-0.021111</td>\n      <td>0.034402</td>\n      <td>0.087209</td>\n      <td>0.001745</td>\n    </tr>\n    <tr>\n      <th>2009-04-30</th>\n      <td>-0.013826</td>\n      <td>-0.036543</td>\n      <td>-0.006491</td>\n      <td>0.094679</td>\n      <td>0.032897</td>\n    </tr>\n    <tr>\n      <th>2009-05-31</th>\n      <td>0.287437</td>\n      <td>0.098300</td>\n      <td>0.185518</td>\n      <td>0.055172</td>\n      <td>0.088934</td>\n    </tr>\n  </tbody>\n</table>\n</div>"
     },
     "execution_count": 73,
     "metadata": {},
     "output_type": "execute_result"
    }
   ],
   "source": [
    "df = pd.read_excel(\"../data/midterm_1.xlsx\")\n",
    "df = df.set_index('date')\n",
    "df.head()"
   ],
   "metadata": {
    "collapsed": false
   }
  },
  {
   "cell_type": "markdown",
   "source": [
    "## Helper Functions"
   ],
   "metadata": {
    "collapsed": false
   }
  },
  {
   "cell_type": "code",
   "execution_count": 74,
   "outputs": [],
   "source": [
    "def performance_summary(return_data):\n",
    "    \"\"\"\n",
    "        Returns the Performance Stats for given set of returns\n",
    "        Inputs:\n",
    "            return_data - DataFrame with Date index and Monthly Returns for different assets/strategies.\n",
    "        Output:\n",
    "            summary_stats - DataFrame with annualized mean return, vol, sharpe ratio. Skewness, Excess Kurtosis, Var (0.5) and\n",
    "                            CVaR (0.5) and drawdown based on monthly returns.\n",
    "    \"\"\"\n",
    "    summary_stats = return_data.mean().to_frame('Annualized Return').apply(lambda x: x*12)\n",
    "    summary_stats['Annualized Volatility'] = return_data.std().apply(lambda x: x*np.sqrt(12))\n",
    "    summary_stats['Mean/Vol'] = summary_stats['Annualized Return']/summary_stats['Annualized Volatility']\n",
    "\n",
    "    summary_stats['Skewness'] = return_data.skew()\n",
    "    summary_stats['Excess Kurtosis'] = return_data.kurtosis()\n",
    "    summary_stats['VaR (0.05)'] = return_data.quantile(.05, axis = 0)\n",
    "    summary_stats['CVaR (0.05)'] = return_data[return_data <= return_data.quantile(.05, axis = 0)].mean()\n",
    "    summary_stats['Min'] = return_data.min()\n",
    "    summary_stats['Max'] = return_data.max()\n",
    "\n",
    "    wealth_index = 1000*(1+return_data).cumprod()\n",
    "    previous_peaks = wealth_index.cummax()\n",
    "    drawdowns = (wealth_index - previous_peaks)/previous_peaks\n",
    "\n",
    "    summary_stats['Max Drawdown'] = drawdowns.min()\n",
    "    summary_stats['Peak'] = [previous_peaks[col][:drawdowns[col].idxmin()].idxmax() for col in previous_peaks.columns]\n",
    "    summary_stats['Bottom'] = drawdowns.idxmin()\n",
    "\n",
    "    recovery_date = []\n",
    "    for col in wealth_index.columns:\n",
    "        prev_max = previous_peaks[col][:drawdowns[col].idxmin()].max()\n",
    "        recovery_wealth = pd.DataFrame([wealth_index[col][drawdowns[col].idxmin():]]).T\n",
    "        recovery_date.append(recovery_wealth[recovery_wealth[col] >= prev_max].index.min())\n",
    "    summary_stats['Recovery'] = recovery_date\n",
    "\n",
    "    return summary_stats"
   ],
   "metadata": {
    "collapsed": false
   }
  },
  {
   "cell_type": "code",
   "execution_count": 75,
   "outputs": [],
   "source": [
    "def tangency_portfolio_rfr(asset_return,cov_matrix, cov_diagnolize = False):\n",
    "    \"\"\"\n",
    "        Returns the tangency portfolio weights in a (1 x n) vector\n",
    "        Inputs:\n",
    "            asset_return - return for each asset (n x 1) Vector\n",
    "            cov_matrix = nxn covariance matrix for the assets\n",
    "    \"\"\"\n",
    "    if cov_diagnolize:\n",
    "        asset_cov = np.diag(np.diag(cov_matrix))\n",
    "    else:\n",
    "        asset_cov = np.array(cov_matrix)\n",
    "    inverted_cov= np.linalg.inv(asset_cov)\n",
    "    one_vector = np.ones(len(cov_matrix.index))\n",
    "\n",
    "    den = (one_vector @ inverted_cov) @ (asset_return)\n",
    "    num =  inverted_cov @ asset_return\n",
    "    return (1/den) * num"
   ],
   "metadata": {
    "collapsed": false
   }
  },
  {
   "cell_type": "code",
   "execution_count": 76,
   "outputs": [],
   "source": [
    "def gmv_portfolio(asset_return,cov_matrix):\n",
    "    \"\"\"\n",
    "        Returns the Global Minimum Variance portfolio weights in a (1 x n) vector\n",
    "        Inputs:\n",
    "            asset_return - return for each asset (n x 1) Vector\n",
    "            cov_matrix = nxn covariance matrix for the assets\n",
    "    \"\"\"\n",
    "    asset_cov = np.array(cov_matrix)\n",
    "    inverted_cov= np.linalg.inv(asset_cov)\n",
    "    one_vector = np.ones(len(cov_matrix.index))\n",
    "\n",
    "    den = (one_vector @ inverted_cov) @ (one_vector)\n",
    "    num =  inverted_cov @ one_vector\n",
    "    return (1/den) * num"
   ],
   "metadata": {
    "collapsed": false
   }
  },
  {
   "cell_type": "code",
   "execution_count": 77,
   "outputs": [],
   "source": [
    "def mv_portfolio(asset_return,cov_matrix,target_ret,tangency_port):\n",
    "    \"\"\"\n",
    "        Returns the Mean-Variance portfolio weights in a (1 x n) vector when no riskless assset is available\n",
    "        Inputs:\n",
    "            asset_return - total return for each asset (n x 1) Vector\n",
    "            cov_matrix = nxn covariance matrix for the assets\n",
    "            target_ret = Target Return (Not-Annualized)\n",
    "            tangency_port = Tangency portfolio\n",
    "    \"\"\"\n",
    "    omega_tan = tangency_portfolio_rfr(asset_return.mean(),cov_matrix)\n",
    "    omega_gmv = gmv_portfolio(asset_return,cov_matrix)\n",
    "\n",
    "    mu_tan = asset_return.mean() @ omega_tan\n",
    "    mu_gmv = asset_return.mean() @ omega_gmv\n",
    "\n",
    "    delta = (target_ret - mu_gmv)/(mu_tan - mu_gmv)\n",
    "    mv_weights = delta * omega_tan + (1-delta)*omega_gmv\n",
    "    return mv_weights"
   ],
   "metadata": {
    "collapsed": false
   }
  },
  {
   "cell_type": "code",
   "execution_count": 78,
   "outputs": [],
   "source": [
    "def mvo_performance_stats(asset_returns,cov_matrix,port_weights, port_type,period):\n",
    "    \"\"\"\n",
    "        Returns the Annualized Performance Stats for given asset returns, portfolio weights and covariance matrix\n",
    "        Inputs:\n",
    "            asset_return - Excess return over the risk free rate for each asset (n x 1) Vector\n",
    "            cov_matrix = nxn covariance matrix for the assets\n",
    "            port_weights = weights of the assets in the portfolio (1 x n) Vector\n",
    "            port_type = Type of Portfolio | Eg - Tangency or Mean-Variance Portfolio\n",
    "            period = Monthly frequency\n",
    "    \"\"\"\n",
    "\n",
    "    ret = np.dot(port_weights,asset_returns)\n",
    "    vol = np.sqrt(port_weights @ cov_matrix @ port_weights.T)*np.sqrt(period)\n",
    "    sharpe = ret/vol\n",
    "\n",
    "    stats = pd.DataFrame([[ret,vol,sharpe]],columns= [\"Annualized Return\",\"Annualized Volatility\",\"Annualized Sharpe Ratio\"], index = [port_type])\n",
    "    return stats"
   ],
   "metadata": {
    "collapsed": false
   }
  },
  {
   "cell_type": "code",
   "execution_count": 102,
   "outputs": [],
   "source": [
    "def rolling_regression_param(factor,fund_ret,roll_window = 60):\n",
    "    \"\"\"\n",
    "        Returns the Rolling Regression parameters for given set of returns and factors\n",
    "        Inputs:\n",
    "            factor - Dataframe containing monthly returns of the regressors\n",
    "            fund_ret - Dataframe containing monthly excess returns of the regressand fund\n",
    "            roll_window = rolling window for regression\n",
    "        Output:\n",
    "            params - Dataframe with time-t as the index and constant and Betas as columns\n",
    "    \"\"\"\n",
    "    X = sm.add_constant(factor)\n",
    "    y= fund_ret\n",
    "    rols = RollingOLS(y, X, window=roll_window)\n",
    "    rres = rols.fit()\n",
    "    params = rres.params.copy()\n",
    "    params.index = np.arange(1, params.shape[0] + 1)\n",
    "    return params"
   ],
   "metadata": {
    "collapsed": false
   }
  },
  {
   "cell_type": "code",
   "execution_count": 109,
   "outputs": [],
   "source": [
    "def regression_based_performance(factor,fund_ret,rf,constant = True):\n",
    "    \"\"\"\n",
    "        Returns the Regression based performance Stats for given set of returns and factors\n",
    "        Inputs:\n",
    "            factor - Dataframe containing monthly returns of the regressors\n",
    "            fund_ret - Dataframe containing monthly excess returns of the regressand fund\n",
    "            rf - Monthly risk free rate of return\n",
    "        Output:\n",
    "            summary_stats - (Beta of regression, treynor ratio, information ratio, alpha).\n",
    "    \"\"\"\n",
    "    if constant:\n",
    "        X = sm.tools.add_constant(factor)\n",
    "    else:\n",
    "        X = factor\n",
    "    y=fund_ret\n",
    "    model = sm.OLS(y,X,missing='drop').fit()\n",
    "\n",
    "    if constant:\n",
    "        beta = model.params[1:]\n",
    "        alpha = round(float(model.params['const']),6)\n",
    "\n",
    "    else:\n",
    "        beta = model.params\n",
    "    treynor_ratio = ((fund_ret.values-rf.values).mean()*12)/beta[0]\n",
    "    tracking_error = (model.resid.std()*np.sqrt(12))\n",
    "    if constant:\n",
    "        information_ratio = model.params[0]*12/tracking_error\n",
    "    r_squared = model.rsquared\n",
    "    if constant:\n",
    "        return (beta,treynor_ratio,information_ratio,alpha,r_squared,tracking_error)\n",
    "    else:\n",
    "        return (beta,treynor_ratio,r_squared,tracking_error)"
   ],
   "metadata": {
    "collapsed": false
   }
  },
  {
   "cell_type": "code",
   "execution_count": 79,
   "outputs": [],
   "source": [
    "performance = performance_summary(df)\n",
    "mean_total_ret =  np.array(performance['Annualized Return'])\n",
    "tangency_port = tangency_portfolio_rfr(mean_total_ret,df.cov())"
   ],
   "metadata": {
    "collapsed": false
   }
  },
  {
   "cell_type": "markdown",
   "source": [
    "## 2 Allocation\n",
    "### 1."
   ],
   "metadata": {
    "collapsed": false
   }
  },
  {
   "cell_type": "code",
   "execution_count": 80,
   "outputs": [
    {
     "data": {
      "text/plain": "     GMV Portfolio Weight\nCL1             -0.030674\nGC1              0.179111\nKC1             -0.010639\nES1              0.092154\nBP1              0.770048",
      "text/html": "<div>\n<style scoped>\n    .dataframe tbody tr th:only-of-type {\n        vertical-align: middle;\n    }\n\n    .dataframe tbody tr th {\n        vertical-align: top;\n    }\n\n    .dataframe thead th {\n        text-align: right;\n    }\n</style>\n<table border=\"1\" class=\"dataframe\">\n  <thead>\n    <tr style=\"text-align: right;\">\n      <th></th>\n      <th>GMV Portfolio Weight</th>\n    </tr>\n  </thead>\n  <tbody>\n    <tr>\n      <th>CL1</th>\n      <td>-0.030674</td>\n    </tr>\n    <tr>\n      <th>GC1</th>\n      <td>0.179111</td>\n    </tr>\n    <tr>\n      <th>KC1</th>\n      <td>-0.010639</td>\n    </tr>\n    <tr>\n      <th>ES1</th>\n      <td>0.092154</td>\n    </tr>\n    <tr>\n      <th>BP1</th>\n      <td>0.770048</td>\n    </tr>\n  </tbody>\n</table>\n</div>"
     },
     "execution_count": 80,
     "metadata": {},
     "output_type": "execute_result"
    }
   ],
   "source": [
    "GMVPort_df = pd.DataFrame(gmv_portfolio(mean_total_ret, df.cov()),columns= [\"GMV Portfolio Weight\"],index=performance.index)\n",
    "GMVPort_df"
   ],
   "metadata": {
    "collapsed": false
   }
  },
  {
   "cell_type": "code",
   "execution_count": 81,
   "outputs": [
    {
     "data": {
      "text/plain": "     Tangency Portfolio Weight\nCL1                  -0.128124\nGC1                   1.191087\nKC1                   0.097813\nES1                   4.220019\nBP1                  -4.380796",
      "text/html": "<div>\n<style scoped>\n    .dataframe tbody tr th:only-of-type {\n        vertical-align: middle;\n    }\n\n    .dataframe tbody tr th {\n        vertical-align: top;\n    }\n\n    .dataframe thead th {\n        text-align: right;\n    }\n</style>\n<table border=\"1\" class=\"dataframe\">\n  <thead>\n    <tr style=\"text-align: right;\">\n      <th></th>\n      <th>Tangency Portfolio Weight</th>\n    </tr>\n  </thead>\n  <tbody>\n    <tr>\n      <th>CL1</th>\n      <td>-0.128124</td>\n    </tr>\n    <tr>\n      <th>GC1</th>\n      <td>1.191087</td>\n    </tr>\n    <tr>\n      <th>KC1</th>\n      <td>0.097813</td>\n    </tr>\n    <tr>\n      <th>ES1</th>\n      <td>4.220019</td>\n    </tr>\n    <tr>\n      <th>BP1</th>\n      <td>-4.380796</td>\n    </tr>\n  </tbody>\n</table>\n</div>"
     },
     "execution_count": 81,
     "metadata": {},
     "output_type": "execute_result"
    }
   ],
   "source": [
    "TangencyPort_df = pd.DataFrame(tangency_port, columns= [\"Tangency Portfolio Weight\"],index=performance.index)\n",
    "TangencyPort_df"
   ],
   "metadata": {
    "collapsed": false
   }
  },
  {
   "cell_type": "markdown",
   "source": [
    "### 2."
   ],
   "metadata": {
    "collapsed": false
   }
  },
  {
   "cell_type": "code",
   "execution_count": 82,
   "outputs": [
    {
     "data": {
      "text/plain": "     Optimal Mean-Variance Portfolio Weight\nCL1                               -0.065837\nGC1                                0.544268\nKC1                                0.028494\nES1                                1.581636\nBP1                               -1.088561",
      "text/html": "<div>\n<style scoped>\n    .dataframe tbody tr th:only-of-type {\n        vertical-align: middle;\n    }\n\n    .dataframe tbody tr th {\n        vertical-align: top;\n    }\n\n    .dataframe thead th {\n        text-align: right;\n    }\n</style>\n<table border=\"1\" class=\"dataframe\">\n  <thead>\n    <tr style=\"text-align: right;\">\n      <th></th>\n      <th>Optimal Mean-Variance Portfolio Weight</th>\n    </tr>\n  </thead>\n  <tbody>\n    <tr>\n      <th>CL1</th>\n      <td>-0.065837</td>\n    </tr>\n    <tr>\n      <th>GC1</th>\n      <td>0.544268</td>\n    </tr>\n    <tr>\n      <th>KC1</th>\n      <td>0.028494</td>\n    </tr>\n    <tr>\n      <th>ES1</th>\n      <td>1.581636</td>\n    </tr>\n    <tr>\n      <th>BP1</th>\n      <td>-1.088561</td>\n    </tr>\n  </tbody>\n</table>\n</div>"
     },
     "execution_count": 82,
     "metadata": {},
     "output_type": "execute_result"
    }
   ],
   "source": [
    "target_ret = 0.020\n",
    "mv_port= mv_portfolio(df, df.cov(), target_ret, tangency_port)\n",
    "\n",
    "MVPort_df = pd.DataFrame(mv_port,columns= [\"Optimal Mean-Variance Portfolio Weight\"],index=performance.index)\n",
    "MVPort_df"
   ],
   "metadata": {
    "collapsed": false
   }
  },
  {
   "cell_type": "code",
   "execution_count": 83,
   "outputs": [
    {
     "data": {
      "text/plain": "                    Annualized Return  Annualized Volatility  \\\nTangency Portfolio               0.24               0.224473   \n\n                    Annualized Sharpe Ratio  \nTangency Portfolio                 1.069171  ",
      "text/html": "<div>\n<style scoped>\n    .dataframe tbody tr th:only-of-type {\n        vertical-align: middle;\n    }\n\n    .dataframe tbody tr th {\n        vertical-align: top;\n    }\n\n    .dataframe thead th {\n        text-align: right;\n    }\n</style>\n<table border=\"1\" class=\"dataframe\">\n  <thead>\n    <tr style=\"text-align: right;\">\n      <th></th>\n      <th>Annualized Return</th>\n      <th>Annualized Volatility</th>\n      <th>Annualized Sharpe Ratio</th>\n    </tr>\n  </thead>\n  <tbody>\n    <tr>\n      <th>Tangency Portfolio</th>\n      <td>0.24</td>\n      <td>0.224473</td>\n      <td>1.069171</td>\n    </tr>\n  </tbody>\n</table>\n</div>"
     },
     "execution_count": 83,
     "metadata": {},
     "output_type": "execute_result"
    }
   ],
   "source": [
    "optimal_port_stats = mvo_performance_stats(mean_total_ret,df.cov(),mv_port,'Tangency Portfolio',12)\n",
    "optimal_port_stats"
   ],
   "metadata": {
    "collapsed": false
   }
  },
  {
   "cell_type": "markdown",
   "source": [
    "### 3.\n",
    "- Assuming that we can mix the risk-free asset in our portfolio, the mean return of 0.20 would be able to be reached with a lower overall volatility of the portfolio since the tangency portfolio can simply be mixed with the risk-free asset to attain 20% target mean return with the highest Sharpe ratio (lowest attainable volatility)."
   ],
   "metadata": {
    "collapsed": false
   }
  },
  {
   "cell_type": "markdown",
   "source": [
    "## 3. Hedging & Replication"
   ],
   "metadata": {
    "collapsed": false
   }
  },
  {
   "cell_type": "code",
   "execution_count": 124,
   "outputs": [],
   "source": [
    "params = rolling_regression_param(factor = df['BP1'], fund_ret=df['ES1'], roll_window=36)"
   ],
   "metadata": {
    "collapsed": false
   }
  },
  {
   "cell_type": "markdown",
   "source": [
    "### 1."
   ],
   "metadata": {
    "collapsed": false
   }
  },
  {
   "cell_type": "code",
   "execution_count": 115,
   "outputs": [
    {
     "data": {
      "text/plain": "        const       BP1\n36   0.010347  0.850830\n37   0.013474  0.828043\n38   0.017341  0.788871\n39   0.015762  0.793073\n40   0.013533  0.724540\n..        ...       ...\n158  0.013660  1.178892\n159  0.014433  1.144168\n160  0.012270  1.247557\n161  0.013008  1.186588\n162  0.010191  1.251756\n\n[127 rows x 2 columns]",
      "text/html": "<div>\n<style scoped>\n    .dataframe tbody tr th:only-of-type {\n        vertical-align: middle;\n    }\n\n    .dataframe tbody tr th {\n        vertical-align: top;\n    }\n\n    .dataframe thead th {\n        text-align: right;\n    }\n</style>\n<table border=\"1\" class=\"dataframe\">\n  <thead>\n    <tr style=\"text-align: right;\">\n      <th></th>\n      <th>const</th>\n      <th>BP1</th>\n    </tr>\n  </thead>\n  <tbody>\n    <tr>\n      <th>36</th>\n      <td>0.010347</td>\n      <td>0.850830</td>\n    </tr>\n    <tr>\n      <th>37</th>\n      <td>0.013474</td>\n      <td>0.828043</td>\n    </tr>\n    <tr>\n      <th>38</th>\n      <td>0.017341</td>\n      <td>0.788871</td>\n    </tr>\n    <tr>\n      <th>39</th>\n      <td>0.015762</td>\n      <td>0.793073</td>\n    </tr>\n    <tr>\n      <th>40</th>\n      <td>0.013533</td>\n      <td>0.724540</td>\n    </tr>\n    <tr>\n      <th>...</th>\n      <td>...</td>\n      <td>...</td>\n    </tr>\n    <tr>\n      <th>158</th>\n      <td>0.013660</td>\n      <td>1.178892</td>\n    </tr>\n    <tr>\n      <th>159</th>\n      <td>0.014433</td>\n      <td>1.144168</td>\n    </tr>\n    <tr>\n      <th>160</th>\n      <td>0.012270</td>\n      <td>1.247557</td>\n    </tr>\n    <tr>\n      <th>161</th>\n      <td>0.013008</td>\n      <td>1.186588</td>\n    </tr>\n    <tr>\n      <th>162</th>\n      <td>0.010191</td>\n      <td>1.251756</td>\n    </tr>\n  </tbody>\n</table>\n<p>127 rows × 2 columns</p>\n</div>"
     },
     "execution_count": 115,
     "metadata": {},
     "output_type": "execute_result"
    }
   ],
   "source": [
    "params"
   ],
   "metadata": {
    "collapsed": false
   }
  },
  {
   "cell_type": "markdown",
   "source": [
    "- The last 5 rows above\n",
    "### 2."
   ],
   "metadata": {
    "collapsed": false
   }
  },
  {
   "cell_type": "code",
   "execution_count": 125,
   "outputs": [
    {
     "data": {
      "text/plain": "2009-01-31 00:00:00   NaN\n2009-02-28 00:00:00   NaN\n2009-03-31 00:00:00   NaN\n2009-04-30 00:00:00   NaN\n2009-05-31 00:00:00   NaN\n                       ..\n158                   NaN\n159                   NaN\n160                   NaN\n161                   NaN\n162                   NaN\nLength: 324, dtype: float64"
     },
     "execution_count": 125,
     "metadata": {},
     "output_type": "execute_result"
    }
   ],
   "source": [
    "df['BP1'] * params['BP1'] + params['const']"
   ],
   "metadata": {
    "collapsed": false
   }
  },
  {
   "cell_type": "markdown",
   "source": [
    "### 3."
   ],
   "metadata": {
    "collapsed": false
   }
  },
  {
   "cell_type": "code",
   "execution_count": 126,
   "outputs": [
    {
     "data": {
      "text/plain": "0.01107550702690088"
     },
     "execution_count": 126,
     "metadata": {},
     "output_type": "execute_result"
    }
   ],
   "source": [
    "df['BP1'].mean() * params['BP1'].mean() + params['const'].mean()"
   ],
   "metadata": {
    "collapsed": false
   }
  },
  {
   "cell_type": "markdown",
   "source": [
    "## 4. Modeling Risk\n",
    "### 1."
   ],
   "metadata": {
    "collapsed": false
   }
  },
  {
   "cell_type": "code",
   "execution_count": 86,
   "outputs": [
    {
     "data": {
      "text/plain": "         Annualized Return  Annualized Volatility  Mean/Vol  Max Drawdown\nES1               0.129117               0.151067  0.854698     -0.203174\nGC1               0.054008               0.160134  0.337267     -0.429597\nQ4_port           0.091562               0.114079  0.802619     -0.120982",
      "text/html": "<div>\n<style scoped>\n    .dataframe tbody tr th:only-of-type {\n        vertical-align: middle;\n    }\n\n    .dataframe tbody tr th {\n        vertical-align: top;\n    }\n\n    .dataframe thead th {\n        text-align: right;\n    }\n</style>\n<table border=\"1\" class=\"dataframe\">\n  <thead>\n    <tr style=\"text-align: right;\">\n      <th></th>\n      <th>Annualized Return</th>\n      <th>Annualized Volatility</th>\n      <th>Mean/Vol</th>\n      <th>Max Drawdown</th>\n    </tr>\n  </thead>\n  <tbody>\n    <tr>\n      <th>ES1</th>\n      <td>0.129117</td>\n      <td>0.151067</td>\n      <td>0.854698</td>\n      <td>-0.203174</td>\n    </tr>\n    <tr>\n      <th>GC1</th>\n      <td>0.054008</td>\n      <td>0.160134</td>\n      <td>0.337267</td>\n      <td>-0.429597</td>\n    </tr>\n    <tr>\n      <th>Q4_port</th>\n      <td>0.091562</td>\n      <td>0.114079</td>\n      <td>0.802619</td>\n      <td>-0.120982</td>\n    </tr>\n  </tbody>\n</table>\n</div>"
     },
     "execution_count": 86,
     "metadata": {},
     "output_type": "execute_result"
    }
   ],
   "source": [
    "df['Q4_port'] = 0.5 * df['ES1'] + 0.5 * df['GC1']\n",
    "performance_summary(df[['ES1', 'GC1', 'Q4_port']])[['Annualized Return', 'Annualized Volatility', 'Mean/Vol', 'Max Drawdown']]"
   ],
   "metadata": {
    "collapsed": false
   }
  },
  {
   "cell_type": "markdown",
   "source": [
    "### 2.\n",
    "- Volatility: The annualized volatility of the 50/50 portfolio seems to be lower than the individual asset's\n",
    "- Maximum Drawdown: The Maximum drawdown of the 50/50 portfolio seems to be much less extreme than the individual asset's\n",
    "- Mean-to-vol Ratio: The mean-to-vol ratio seems to be higher than 'GC1' but lower than 'ES1'\n",
    "- The decrease in volatility and maximum drawdown is expected unless the two assets are extremely correlated. The Mean-to-vol ratio, however, would go up if the right weights of two assets were used. Since the Mean-to-vol ratio goes down, it seems that 50/50 is not close to the optimal weights for the two assets.\n",
    "\n",
    "### 3.\n",
    "#### (a)"
   ],
   "metadata": {
    "collapsed": false
   }
  },
  {
   "cell_type": "code",
   "execution_count": 94,
   "outputs": [
    {
     "data": {
      "text/plain": "-0.09029723958289262"
     },
     "execution_count": 94,
     "metadata": {},
     "output_type": "execute_result"
    }
   ],
   "source": [
    "sigma = df['Q4_port'].std() * np.sqrt(12)\n",
    "(-stat.norm().pdf(.01)/stat.norm().cdf(.01)) * sigma"
   ],
   "metadata": {
    "collapsed": false
   }
  },
  {
   "cell_type": "markdown",
   "source": [
    "#### (b)"
   ],
   "metadata": {
    "collapsed": false
   }
  },
  {
   "cell_type": "code",
   "execution_count": 100,
   "outputs": [
    {
     "data": {
      "text/plain": "            Expanding Window\ndate                        \n2009-01-31               NaN\n2009-02-28               NaN\n2009-03-31               NaN\n2009-04-30               NaN\n2009-05-31               NaN\n...                      ...\n2022-02-28          0.033542\n2022-03-31          0.033454\n2022-04-30          0.033447\n2022-05-31          0.033628\n2022-06-30          0.033552\n\n[162 rows x 1 columns]",
      "text/html": "<div>\n<style scoped>\n    .dataframe tbody tr th:only-of-type {\n        vertical-align: middle;\n    }\n\n    .dataframe tbody tr th {\n        vertical-align: top;\n    }\n\n    .dataframe thead th {\n        text-align: right;\n    }\n</style>\n<table border=\"1\" class=\"dataframe\">\n  <thead>\n    <tr style=\"text-align: right;\">\n      <th></th>\n      <th>Expanding Window</th>\n    </tr>\n    <tr>\n      <th>date</th>\n      <th></th>\n    </tr>\n  </thead>\n  <tbody>\n    <tr>\n      <th>2009-01-31</th>\n      <td>NaN</td>\n    </tr>\n    <tr>\n      <th>2009-02-28</th>\n      <td>NaN</td>\n    </tr>\n    <tr>\n      <th>2009-03-31</th>\n      <td>NaN</td>\n    </tr>\n    <tr>\n      <th>2009-04-30</th>\n      <td>NaN</td>\n    </tr>\n    <tr>\n      <th>2009-05-31</th>\n      <td>NaN</td>\n    </tr>\n    <tr>\n      <th>...</th>\n      <td>...</td>\n    </tr>\n    <tr>\n      <th>2022-02-28</th>\n      <td>0.033542</td>\n    </tr>\n    <tr>\n      <th>2022-03-31</th>\n      <td>0.033454</td>\n    </tr>\n    <tr>\n      <th>2022-04-30</th>\n      <td>0.033447</td>\n    </tr>\n    <tr>\n      <th>2022-05-31</th>\n      <td>0.033628</td>\n    </tr>\n    <tr>\n      <th>2022-06-30</th>\n      <td>0.033552</td>\n    </tr>\n  </tbody>\n</table>\n<p>162 rows × 1 columns</p>\n</div>"
     },
     "execution_count": 100,
     "metadata": {},
     "output_type": "execute_result"
    }
   ],
   "source": [
    "stdev = np.sqrt((df['Q4_port']**2).shift(1).expanding(60).mean().to_frame('Expanding Window'))\n",
    "stdev"
   ],
   "metadata": {
    "collapsed": false
   }
  },
  {
   "cell_type": "code",
   "execution_count": null,
   "outputs": [],
   "source": [
    "sigma = 0.033552\n",
    "(-stat.norm().pdf(.01)/stat.norm().cdf(.01)) * sigma"
   ],
   "metadata": {
    "collapsed": false
   }
  },
  {
   "cell_type": "markdown",
   "source": [
    "### 4."
   ],
   "metadata": {
    "collapsed": false
   }
  },
  {
   "cell_type": "code",
   "execution_count": 101,
   "outputs": [
    {
     "data": {
      "text/plain": "0.4227413691260392"
     },
     "execution_count": 101,
     "metadata": {},
     "output_type": "execute_result"
    }
   ],
   "source": [
    "mean_ES1 = np.log(df['ES1'] + 1).mean()\n",
    "mean_port = np.log(df['Q4_port'] + 1).mean()\n",
    "mu_tilde = mean_ES1 - mean_port\n",
    "sigma = np.log(df['ES1'] + 1).std()\n",
    "h = 10\n",
    "stat.norm().cdf(-np.sqrt(h)*mu_tilde/sigma)"
   ],
   "metadata": {
    "collapsed": false
   }
  },
  {
   "cell_type": "markdown",
   "source": [
    "About 42.27 %"
   ],
   "metadata": {
    "collapsed": false
   }
  }
 ],
 "metadata": {
  "kernelspec": {
   "display_name": "Python 3",
   "language": "python",
   "name": "python3"
  },
  "language_info": {
   "codemirror_mode": {
    "name": "ipython",
    "version": 2
   },
   "file_extension": ".py",
   "mimetype": "text/x-python",
   "name": "python",
   "nbconvert_exporter": "python",
   "pygments_lexer": "ipython2",
   "version": "2.7.6"
  }
 },
 "nbformat": 4,
 "nbformat_minor": 0
}
